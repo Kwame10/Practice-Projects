{
 "cells": [
  {
   "cell_type": "code",
   "execution_count": 1,
   "id": "8f9fb352",
   "metadata": {},
   "outputs": [],
   "source": [
    "import pandas as pd\n",
    "import numpy as np\n"
   ]
  },
  {
   "cell_type": "code",
   "execution_count": 2,
   "id": "e17c8867",
   "metadata": {},
   "outputs": [],
   "source": [
    "df=pd.read_csv('world_happiness.csv')"
   ]
  },
  {
   "cell_type": "code",
   "execution_count": 4,
   "id": "beb2773d",
   "metadata": {},
   "outputs": [
    {
     "data": {
      "text/plain": [
       "Index(['Country', 'Region', 'Happiness Rank', 'Happiness Score',\n",
       "       'Standard Error', 'Economy (GDP per Capita)', 'Family',\n",
       "       'Health (Life Expectancy)', 'Freedom', 'Trust (Government Corruption)',\n",
       "       'Generosity', 'Dystopia Residual'],\n",
       "      dtype='object')"
      ]
     },
     "execution_count": 4,
     "metadata": {},
     "output_type": "execute_result"
    }
   ],
   "source": [
    "df.columns"
   ]
  },
  {
   "cell_type": "code",
   "execution_count": 5,
   "id": "2e0d8c38",
   "metadata": {},
   "outputs": [
    {
     "data": {
      "text/html": [
       "<div>\n",
       "<style scoped>\n",
       "    .dataframe tbody tr th:only-of-type {\n",
       "        vertical-align: middle;\n",
       "    }\n",
       "\n",
       "    .dataframe tbody tr th {\n",
       "        vertical-align: top;\n",
       "    }\n",
       "\n",
       "    .dataframe thead th {\n",
       "        text-align: right;\n",
       "    }\n",
       "</style>\n",
       "<table border=\"1\" class=\"dataframe\">\n",
       "  <thead>\n",
       "    <tr style=\"text-align: right;\">\n",
       "      <th></th>\n",
       "      <th>Country</th>\n",
       "      <th>Region</th>\n",
       "      <th>Happiness Rank</th>\n",
       "      <th>Happiness Score</th>\n",
       "      <th>Standard Error</th>\n",
       "      <th>Economy (GDP per Capita)</th>\n",
       "      <th>Family</th>\n",
       "      <th>Health (Life Expectancy)</th>\n",
       "      <th>Freedom</th>\n",
       "      <th>Trust (Government Corruption)</th>\n",
       "      <th>Generosity</th>\n",
       "      <th>Dystopia Residual</th>\n",
       "    </tr>\n",
       "  </thead>\n",
       "  <tbody>\n",
       "    <tr>\n",
       "      <th>0</th>\n",
       "      <td>Switzerland</td>\n",
       "      <td>Western Europe</td>\n",
       "      <td>1</td>\n",
       "      <td>7.587</td>\n",
       "      <td>0.03411</td>\n",
       "      <td>1.39651</td>\n",
       "      <td>1.34951</td>\n",
       "      <td>0.94143</td>\n",
       "      <td>0.66557</td>\n",
       "      <td>0.41978</td>\n",
       "      <td>0.29678</td>\n",
       "      <td>2.51738</td>\n",
       "    </tr>\n",
       "    <tr>\n",
       "      <th>1</th>\n",
       "      <td>Iceland</td>\n",
       "      <td>Western Europe</td>\n",
       "      <td>2</td>\n",
       "      <td>7.561</td>\n",
       "      <td>0.04884</td>\n",
       "      <td>1.30232</td>\n",
       "      <td>1.40223</td>\n",
       "      <td>0.94784</td>\n",
       "      <td>0.62877</td>\n",
       "      <td>0.14145</td>\n",
       "      <td>0.43630</td>\n",
       "      <td>2.70201</td>\n",
       "    </tr>\n",
       "    <tr>\n",
       "      <th>2</th>\n",
       "      <td>Denmark</td>\n",
       "      <td>Western Europe</td>\n",
       "      <td>3</td>\n",
       "      <td>7.527</td>\n",
       "      <td>0.03328</td>\n",
       "      <td>1.32548</td>\n",
       "      <td>1.36058</td>\n",
       "      <td>0.87464</td>\n",
       "      <td>0.64938</td>\n",
       "      <td>0.48357</td>\n",
       "      <td>0.34139</td>\n",
       "      <td>2.49204</td>\n",
       "    </tr>\n",
       "    <tr>\n",
       "      <th>3</th>\n",
       "      <td>Norway</td>\n",
       "      <td>Western Europe</td>\n",
       "      <td>4</td>\n",
       "      <td>7.522</td>\n",
       "      <td>0.03880</td>\n",
       "      <td>1.45900</td>\n",
       "      <td>1.33095</td>\n",
       "      <td>0.88521</td>\n",
       "      <td>0.66973</td>\n",
       "      <td>0.36503</td>\n",
       "      <td>0.34699</td>\n",
       "      <td>2.46531</td>\n",
       "    </tr>\n",
       "    <tr>\n",
       "      <th>4</th>\n",
       "      <td>Canada</td>\n",
       "      <td>North America</td>\n",
       "      <td>5</td>\n",
       "      <td>7.427</td>\n",
       "      <td>0.03553</td>\n",
       "      <td>1.32629</td>\n",
       "      <td>1.32261</td>\n",
       "      <td>0.90563</td>\n",
       "      <td>0.63297</td>\n",
       "      <td>0.32957</td>\n",
       "      <td>0.45811</td>\n",
       "      <td>2.45176</td>\n",
       "    </tr>\n",
       "  </tbody>\n",
       "</table>\n",
       "</div>"
      ],
      "text/plain": [
       "       Country          Region  Happiness Rank  Happiness Score  \\\n",
       "0  Switzerland  Western Europe               1            7.587   \n",
       "1      Iceland  Western Europe               2            7.561   \n",
       "2      Denmark  Western Europe               3            7.527   \n",
       "3       Norway  Western Europe               4            7.522   \n",
       "4       Canada   North America               5            7.427   \n",
       "\n",
       "   Standard Error  Economy (GDP per Capita)   Family  \\\n",
       "0         0.03411                   1.39651  1.34951   \n",
       "1         0.04884                   1.30232  1.40223   \n",
       "2         0.03328                   1.32548  1.36058   \n",
       "3         0.03880                   1.45900  1.33095   \n",
       "4         0.03553                   1.32629  1.32261   \n",
       "\n",
       "   Health (Life Expectancy)  Freedom  Trust (Government Corruption)  \\\n",
       "0                   0.94143  0.66557                        0.41978   \n",
       "1                   0.94784  0.62877                        0.14145   \n",
       "2                   0.87464  0.64938                        0.48357   \n",
       "3                   0.88521  0.66973                        0.36503   \n",
       "4                   0.90563  0.63297                        0.32957   \n",
       "\n",
       "   Generosity  Dystopia Residual  \n",
       "0     0.29678            2.51738  \n",
       "1     0.43630            2.70201  \n",
       "2     0.34139            2.49204  \n",
       "3     0.34699            2.46531  \n",
       "4     0.45811            2.45176  "
      ]
     },
     "execution_count": 5,
     "metadata": {},
     "output_type": "execute_result"
    }
   ],
   "source": [
    "df.head()"
   ]
  },
  {
   "cell_type": "markdown",
   "id": "700101ee",
   "metadata": {},
   "source": [
    "# checking the null values:"
   ]
  },
  {
   "cell_type": "code",
   "execution_count": 6,
   "id": "9d82b81d",
   "metadata": {},
   "outputs": [
    {
     "data": {
      "text/plain": [
       "Country                          0\n",
       "Region                           0\n",
       "Happiness Rank                   0\n",
       "Happiness Score                  0\n",
       "Standard Error                   0\n",
       "Economy (GDP per Capita)         0\n",
       "Family                           0\n",
       "Health (Life Expectancy)         0\n",
       "Freedom                          0\n",
       "Trust (Government Corruption)    0\n",
       "Generosity                       0\n",
       "Dystopia Residual                0\n",
       "dtype: int64"
      ]
     },
     "execution_count": 6,
     "metadata": {},
     "output_type": "execute_result"
    }
   ],
   "source": [
    "df.isnull().sum()"
   ]
  },
  {
   "cell_type": "markdown",
   "id": "bc1f6720",
   "metadata": {},
   "source": [
    "There are no null values"
   ]
  },
  {
   "cell_type": "markdown",
   "id": "7e630349",
   "metadata": {},
   "source": [
    "# checking data types:"
   ]
  },
  {
   "cell_type": "code",
   "execution_count": 7,
   "id": "0dff3bc8",
   "metadata": {},
   "outputs": [
    {
     "data": {
      "text/plain": [
       "Country                           object\n",
       "Region                            object\n",
       "Happiness Rank                     int64\n",
       "Happiness Score                  float64\n",
       "Standard Error                   float64\n",
       "Economy (GDP per Capita)         float64\n",
       "Family                           float64\n",
       "Health (Life Expectancy)         float64\n",
       "Freedom                          float64\n",
       "Trust (Government Corruption)    float64\n",
       "Generosity                       float64\n",
       "Dystopia Residual                float64\n",
       "dtype: object"
      ]
     },
     "execution_count": 7,
     "metadata": {},
     "output_type": "execute_result"
    }
   ],
   "source": [
    "df.dtypes"
   ]
  },
  {
   "cell_type": "markdown",
   "id": "d05f32ae",
   "metadata": {},
   "source": [
    "The data types are okay to proceed with"
   ]
  },
  {
   "cell_type": "code",
   "execution_count": 10,
   "id": "56680a7e",
   "metadata": {},
   "outputs": [
    {
     "data": {
      "text/plain": [
       "array([7.587, 7.561, 7.527, 7.522, 7.427, 7.406, 7.378, 7.364, 7.286,\n",
       "       7.284, 7.278, 7.226, 7.2  , 7.187, 7.119, 6.983, 6.946, 6.94 ,\n",
       "       6.937, 6.901, 6.867, 6.853, 6.81 , 6.798, 6.786, 6.75 , 6.67 ,\n",
       "       6.611, 6.575, 6.574, 6.505, 6.485, 6.477, 6.455, 6.411, 6.329,\n",
       "       6.302, 6.298, 6.295, 6.269, 6.168, 6.13 , 6.123, 6.003, 5.995,\n",
       "       5.987, 5.984, 5.975, 5.96 , 5.948, 5.89 , 5.889, 5.878, 5.855,\n",
       "       5.848, 5.833, 5.828, 5.824, 5.813, 5.791, 5.77 , 5.759, 5.754,\n",
       "       5.716, 5.709, 5.695, 5.689, 5.605, 5.589, 5.548, 5.477, 5.474,\n",
       "       5.429, 5.399, 5.36 , 5.332, 5.286, 5.268, 5.253, 5.212, 5.194,\n",
       "       5.192, 5.14 , 5.129, 5.124, 5.123, 5.102, 5.098, 5.073, 5.057,\n",
       "       5.013, 5.007, 4.971, 4.959, 4.949, 4.898, 4.885, 4.876, 4.874,\n",
       "       4.867, 4.857, 4.839, 4.8  , 4.788, 4.786, 4.739, 4.715, 4.694,\n",
       "       4.686, 4.681, 4.677, 4.642, 4.633, 4.61 , 4.571, 4.565, 4.55 ,\n",
       "       4.518, 4.517, 4.514, 4.512, 4.507, 4.436, 4.419, 4.369, 4.35 ,\n",
       "       4.332, 4.307, 4.297, 4.292, 4.271, 4.252, 4.218, 4.194, 4.077,\n",
       "       4.033, 3.995, 3.989, 3.956, 3.931, 3.904, 3.896, 3.845, 3.819,\n",
       "       3.781, 3.681, 3.678, 3.667, 3.656, 3.655, 3.587, 3.575, 3.465,\n",
       "       3.34 , 3.006, 2.905, 2.839])"
      ]
     },
     "execution_count": 10,
     "metadata": {},
     "output_type": "execute_result"
    }
   ],
   "source": [
    "df['Happiness Score'].unique()"
   ]
  },
  {
   "cell_type": "code",
   "execution_count": 11,
   "id": "1b65fb80",
   "metadata": {},
   "outputs": [
    {
     "data": {
      "text/plain": [
       "157"
      ]
     },
     "execution_count": 11,
     "metadata": {},
     "output_type": "execute_result"
    }
   ],
   "source": [
    "df['Happiness Score'].nunique()"
   ]
  },
  {
   "cell_type": "code",
   "execution_count": 12,
   "id": "731fedef",
   "metadata": {},
   "outputs": [
    {
     "data": {
      "text/plain": [
       "(158, 12)"
      ]
     },
     "execution_count": 12,
     "metadata": {},
     "output_type": "execute_result"
    }
   ],
   "source": [
    "df.shape"
   ]
  },
  {
   "cell_type": "code",
   "execution_count": 14,
   "id": "3dd3d6c8",
   "metadata": {},
   "outputs": [
    {
     "data": {
      "text/html": [
       "<div>\n",
       "<style scoped>\n",
       "    .dataframe tbody tr th:only-of-type {\n",
       "        vertical-align: middle;\n",
       "    }\n",
       "\n",
       "    .dataframe tbody tr th {\n",
       "        vertical-align: top;\n",
       "    }\n",
       "\n",
       "    .dataframe thead th {\n",
       "        text-align: right;\n",
       "    }\n",
       "</style>\n",
       "<table border=\"1\" class=\"dataframe\">\n",
       "  <thead>\n",
       "    <tr style=\"text-align: right;\">\n",
       "      <th></th>\n",
       "      <th>Country</th>\n",
       "      <th>Region</th>\n",
       "      <th>Happiness Rank</th>\n",
       "      <th>Happiness Score</th>\n",
       "      <th>Standard Error</th>\n",
       "      <th>Economy (GDP per Capita)</th>\n",
       "      <th>Family</th>\n",
       "      <th>Health (Life Expectancy)</th>\n",
       "      <th>Freedom</th>\n",
       "      <th>Trust (Government Corruption)</th>\n",
       "      <th>Generosity</th>\n",
       "      <th>Dystopia Residual</th>\n",
       "    </tr>\n",
       "  </thead>\n",
       "  <tbody>\n",
       "  </tbody>\n",
       "</table>\n",
       "</div>"
      ],
      "text/plain": [
       "Empty DataFrame\n",
       "Columns: [Country, Region, Happiness Rank, Happiness Score, Standard Error, Economy (GDP per Capita), Family, Health (Life Expectancy), Freedom, Trust (Government Corruption), Generosity, Dystopia Residual]\n",
       "Index: []"
      ]
     },
     "execution_count": 14,
     "metadata": {},
     "output_type": "execute_result"
    }
   ],
   "source": [
    "#checking blank spaces in happiness score column\n",
    "\n",
    "df.loc[df['Happiness Score']==' ']"
   ]
  },
  {
   "cell_type": "markdown",
   "id": "6f2d0ec5",
   "metadata": {},
   "source": [
    "This shows there are no blank spaces"
   ]
  },
  {
   "cell_type": "markdown",
   "id": "100f3174",
   "metadata": {},
   "source": [
    "# Making a data frame:"
   ]
  },
  {
   "cell_type": "code",
   "execution_count": 22,
   "id": "6074f50f",
   "metadata": {},
   "outputs": [],
   "source": [
    "df_visualization=df[['Economy (GDP per Capita)','Family','Health (Life Expectancy)','Freedom',\n",
    "                    'Trust (Government Corruption)','Generosity','Dystopia Residual']]"
   ]
  },
  {
   "cell_type": "code",
   "execution_count": 23,
   "id": "91e8d860",
   "metadata": {},
   "outputs": [
    {
     "data": {
      "text/plain": [
       "Index(['Economy (GDP per Capita)', 'Family', 'Health (Life Expectancy)',\n",
       "       'Freedom', 'Trust (Government Corruption)', 'Generosity',\n",
       "       'Dystopia Residual'],\n",
       "      dtype='object')"
      ]
     },
     "execution_count": 23,
     "metadata": {},
     "output_type": "execute_result"
    }
   ],
   "source": [
    "df_visualization.columns"
   ]
  },
  {
   "cell_type": "markdown",
   "id": "3d0661f1",
   "metadata": {},
   "source": [
    "# Visualization of the data:"
   ]
  },
  {
   "cell_type": "code",
   "execution_count": 42,
   "id": "46d9b5d1",
   "metadata": {},
   "outputs": [],
   "source": [
    "import seaborn as sns"
   ]
  },
  {
   "cell_type": "code",
   "execution_count": 30,
   "id": "874df590",
   "metadata": {},
   "outputs": [
    {
     "data": {
      "text/plain": [
       "<AxesSubplot:xlabel='Economy (GDP per Capita)', ylabel='Happiness Score'>"
      ]
     },
     "execution_count": 30,
     "metadata": {},
     "output_type": "execute_result"
    },
    {
     "data": {
      "image/png": "[encoded data removed]",
      "text/plain": [
       "<Figure size 432x288 with 1 Axes>"
      ]
     },
     "metadata": {
      "needs_background": "light"
     },
     "output_type": "display_data"
    }
   ],
   "source": [
    "sns.scatterplot(x='Economy (GDP per Capita)',y='Happiness Score',data=df)"
   ]
  },
  {
   "cell_type": "code",
   "execution_count": null,
   "id": "61d05222",
   "metadata": {},
   "outputs": [],
   "source": [
    "It could be seen that the data is not evenly distributed between the economy and happiness score, \n",
    "thus the economy alone is not the best judge of the happiness score "
   ]
  },
  {
   "cell_type": "code",
   "execution_count": 31,
   "id": "aa3e2862",
   "metadata": {},
   "outputs": [
    {
     "data": {
      "text/plain": [
       "<AxesSubplot:xlabel='Family', ylabel='Happiness Score'>"
      ]
     },
     "execution_count": 31,
     "metadata": {},
     "output_type": "execute_result"
    },
    {
     "data": {
      "image/png": "[encoded data removed]",
      "text/plain": [
       "<Figure size 432x288 with 1 Axes>"
      ]
     },
     "metadata": {
      "needs_background": "light"
     },
     "output_type": "display_data"
    }
   ],
   "source": [
    "sns.scatterplot(x='Family',y='Happiness Score',data=df)"
   ]
  },
  {
   "cell_type": "markdown",
   "id": "316ab612",
   "metadata": {},
   "source": [
    "It could be seen that the data is not evenly distributed between the Family and happiness score, \n",
    "thus the family alone is not the best judge of the happiness score "
   ]
  },
  {
   "cell_type": "code",
   "execution_count": 33,
   "id": "be57ffd1",
   "metadata": {},
   "outputs": [
    {
     "data": {
      "text/plain": [
       "<AxesSubplot:xlabel='Health (Life Expectancy)', ylabel='Happiness Score'>"
      ]
     },
     "execution_count": 33,
     "metadata": {},
     "output_type": "execute_result"
    },
    {
     "data": {
      "image/png": "[encoded data removed]",
      "text/plain": [
       "<Figure size 432x288 with 1 Axes>"
      ]
     },
     "metadata": {
      "needs_background": "light"
     },
     "output_type": "display_data"
    }
   ],
   "source": [
    "sns.scatterplot(x='Health (Life Expectancy)',y='Happiness Score',data=df)"
   ]
  },
  {
   "cell_type": "markdown",
   "id": "e9fe4ad5",
   "metadata": {},
   "source": [
    "It could be seen that the data is not evenly distributed between the health and happiness score, \n",
    "thus the health alone is not the best judge of the happiness score "
   ]
  },
  {
   "cell_type": "code",
   "execution_count": 34,
   "id": "dc97f602",
   "metadata": {},
   "outputs": [
    {
     "data": {
      "text/plain": [
       "<AxesSubplot:xlabel='Freedom', ylabel='Happiness Score'>"
      ]
     },
     "execution_count": 34,
     "metadata": {},
     "output_type": "execute_result"
    },
    {
     "data": {
      "image/png": "[encoded data removed]",
      "text/plain": [
       "<Figure size 432x288 with 1 Axes>"
      ]
     },
     "metadata": {
      "needs_background": "light"
     },
     "output_type": "display_data"
    }
   ],
   "source": [
    "sns.scatterplot(x='Freedom',y='Happiness Score',data=df)"
   ]
  },
  {
   "cell_type": "markdown",
   "id": "d63eb445",
   "metadata": {},
   "source": [
    "It could be seen that the data is not evenly distributed between the Freedom and happiness score, \n",
    "thus the Freedom alone is not the best judge of the happiness score "
   ]
  },
  {
   "cell_type": "code",
   "execution_count": 35,
   "id": "1a3816e1",
   "metadata": {},
   "outputs": [
    {
     "data": {
      "text/plain": [
       "<AxesSubplot:xlabel='Trust (Government Corruption)', ylabel='Happiness Score'>"
      ]
     },
     "execution_count": 35,
     "metadata": {},
     "output_type": "execute_result"
    },
    {
     "data": {
      "image/png": "[encoded data removed]",
      "text/plain": [
       "<Figure size 432x288 with 1 Axes>"
      ]
     },
     "metadata": {
      "needs_background": "light"
     },
     "output_type": "display_data"
    }
   ],
   "source": [
    "sns.scatterplot(x='Trust (Government Corruption)',y='Happiness Score',data=df)"
   ]
  },
  {
   "cell_type": "markdown",
   "id": "5a4a4a8b",
   "metadata": {},
   "source": [
    "It could be seen that the data is not evenly distributed between the Trust and happiness score, \n",
    "thus the Trust alone is not the best judge of the happiness score "
   ]
  },
  {
   "cell_type": "code",
   "execution_count": 36,
   "id": "9cb4c6c1",
   "metadata": {},
   "outputs": [
    {
     "data": {
      "text/plain": [
       "<AxesSubplot:xlabel='Generosity', ylabel='Happiness Score'>"
      ]
     },
     "execution_count": 36,
     "metadata": {},
     "output_type": "execute_result"
    },
    {
     "data": {
      "image/png": "[encoded data removed]",
      "text/plain": [
       "<Figure size 432x288 with 1 Axes>"
      ]
     },
     "metadata": {
      "needs_background": "light"
     },
     "output_type": "display_data"
    }
   ],
   "source": [
    "sns.scatterplot(x='Generosity',y=\"Happiness Score\",data=df)"
   ]
  },
  {
   "cell_type": "markdown",
   "id": "a12e9362",
   "metadata": {},
   "source": [
    "It could be seen that the data is not evenly distributed between the Generosity and happiness score, \n",
    "thus the Generosity alone is not the best judge of the happiness score. However the score of generosity \n",
    "is generally up to around 0.6."
   ]
  },
  {
   "cell_type": "code",
   "execution_count": 38,
   "id": "7a14e26b",
   "metadata": {},
   "outputs": [
    {
     "data": {
      "text/plain": [
       "<AxesSubplot:xlabel='Dystopia Residual', ylabel='Happiness Score'>"
      ]
     },
     "execution_count": 38,
     "metadata": {},
     "output_type": "execute_result"
    },
    {
     "data": {
      "image/png": "[encoded data removed]",
      "text/plain": [
       "<Figure size 432x288 with 1 Axes>"
      ]
     },
     "metadata": {
      "needs_background": "light"
     },
     "output_type": "display_data"
    }
   ],
   "source": [
    "sns.scatterplot(x='Dystopia Residual',y='Happiness Score',data=df)"
   ]
  },
  {
   "cell_type": "markdown",
   "id": "47e0d72b",
   "metadata": {},
   "source": [
    "It could be seen that the data is not evenly distributed between the dystopia residual and happiness score, \n",
    "thus dystopia residual alone is not the best judge of the happiness score "
   ]
  },
  {
   "cell_type": "markdown",
   "id": "773e8620",
   "metadata": {},
   "source": [
    "# Describing the data:"
   ]
  },
  {
   "cell_type": "code",
   "execution_count": 39,
   "id": "c1dde6a7",
   "metadata": {},
   "outputs": [
    {
     "data": {
      "text/html": [
       "<div>\n",
       "<style scoped>\n",
       "    .dataframe tbody tr th:only-of-type {\n",
       "        vertical-align: middle;\n",
       "    }\n",
       "\n",
       "    .dataframe tbody tr th {\n",
       "        vertical-align: top;\n",
       "    }\n",
       "\n",
       "    .dataframe thead th {\n",
       "        text-align: right;\n",
       "    }\n",
       "</style>\n",
       "<table border=\"1\" class=\"dataframe\">\n",
       "  <thead>\n",
       "    <tr style=\"text-align: right;\">\n",
       "      <th></th>\n",
       "      <th>Happiness Rank</th>\n",
       "      <th>Happiness Score</th>\n",
       "      <th>Standard Error</th>\n",
       "      <th>Economy (GDP per Capita)</th>\n",
       "      <th>Family</th>\n",
       "      <th>Health (Life Expectancy)</th>\n",
       "      <th>Freedom</th>\n",
       "      <th>Trust (Government Corruption)</th>\n",
       "      <th>Generosity</th>\n",
       "      <th>Dystopia Residual</th>\n",
       "    </tr>\n",
       "  </thead>\n",
       "  <tbody>\n",
       "    <tr>\n",
       "      <th>count</th>\n",
       "      <td>158.000000</td>\n",
       "      <td>158.000000</td>\n",
       "      <td>158.000000</td>\n",
       "      <td>158.000000</td>\n",
       "      <td>158.000000</td>\n",
       "      <td>158.000000</td>\n",
       "      <td>158.000000</td>\n",
       "      <td>158.000000</td>\n",
       "      <td>158.000000</td>\n",
       "      <td>158.000000</td>\n",
       "    </tr>\n",
       "    <tr>\n",
       "      <th>mean</th>\n",
       "      <td>79.493671</td>\n",
       "      <td>5.375734</td>\n",
       "      <td>0.047885</td>\n",
       "      <td>0.846137</td>\n",
       "      <td>0.991046</td>\n",
       "      <td>0.630259</td>\n",
       "      <td>0.428615</td>\n",
       "      <td>0.143422</td>\n",
       "      <td>0.237296</td>\n",
       "      <td>2.098977</td>\n",
       "    </tr>\n",
       "    <tr>\n",
       "      <th>std</th>\n",
       "      <td>45.754363</td>\n",
       "      <td>1.145010</td>\n",
       "      <td>0.017146</td>\n",
       "      <td>0.403121</td>\n",
       "      <td>0.272369</td>\n",
       "      <td>0.247078</td>\n",
       "      <td>0.150693</td>\n",
       "      <td>0.120034</td>\n",
       "      <td>0.126685</td>\n",
       "      <td>0.553550</td>\n",
       "    </tr>\n",
       "    <tr>\n",
       "      <th>min</th>\n",
       "      <td>1.000000</td>\n",
       "      <td>2.839000</td>\n",
       "      <td>0.018480</td>\n",
       "      <td>0.000000</td>\n",
       "      <td>0.000000</td>\n",
       "      <td>0.000000</td>\n",
       "      <td>0.000000</td>\n",
       "      <td>0.000000</td>\n",
       "      <td>0.000000</td>\n",
       "      <td>0.328580</td>\n",
       "    </tr>\n",
       "    <tr>\n",
       "      <th>25%</th>\n",
       "      <td>40.250000</td>\n",
       "      <td>4.526000</td>\n",
       "      <td>0.037268</td>\n",
       "      <td>0.545808</td>\n",
       "      <td>0.856823</td>\n",
       "      <td>0.439185</td>\n",
       "      <td>0.328330</td>\n",
       "      <td>0.061675</td>\n",
       "      <td>0.150553</td>\n",
       "      <td>1.759410</td>\n",
       "    </tr>\n",
       "    <tr>\n",
       "      <th>50%</th>\n",
       "      <td>79.500000</td>\n",
       "      <td>5.232500</td>\n",
       "      <td>0.043940</td>\n",
       "      <td>0.910245</td>\n",
       "      <td>1.029510</td>\n",
       "      <td>0.696705</td>\n",
       "      <td>0.435515</td>\n",
       "      <td>0.107220</td>\n",
       "      <td>0.216130</td>\n",
       "      <td>2.095415</td>\n",
       "    </tr>\n",
       "    <tr>\n",
       "      <th>75%</th>\n",
       "      <td>118.750000</td>\n",
       "      <td>6.243750</td>\n",
       "      <td>0.052300</td>\n",
       "      <td>1.158448</td>\n",
       "      <td>1.214405</td>\n",
       "      <td>0.811013</td>\n",
       "      <td>0.549092</td>\n",
       "      <td>0.180255</td>\n",
       "      <td>0.309883</td>\n",
       "      <td>2.462415</td>\n",
       "    </tr>\n",
       "    <tr>\n",
       "      <th>max</th>\n",
       "      <td>158.000000</td>\n",
       "      <td>7.587000</td>\n",
       "      <td>0.136930</td>\n",
       "      <td>1.690420</td>\n",
       "      <td>1.402230</td>\n",
       "      <td>1.025250</td>\n",
       "      <td>0.669730</td>\n",
       "      <td>0.551910</td>\n",
       "      <td>0.795880</td>\n",
       "      <td>3.602140</td>\n",
       "    </tr>\n",
       "  </tbody>\n",
       "</table>\n",
       "</div>"
      ],
      "text/plain": [
       "       Happiness Rank  Happiness Score  Standard Error  \\\n",
       "count      158.000000       158.000000      158.000000   \n",
       "mean        79.493671         5.375734        0.047885   \n",
       "std         45.754363         1.145010        0.017146   \n",
       "min          1.000000         2.839000        0.018480   \n",
       "25%         40.250000         4.526000        0.037268   \n",
       "50%         79.500000         5.232500        0.043940   \n",
       "75%        118.750000         6.243750        0.052300   \n",
       "max        158.000000         7.587000        0.136930   \n",
       "\n",
       "       Economy (GDP per Capita)      Family  Health (Life Expectancy)  \\\n",
       "count                158.000000  158.000000                158.000000   \n",
       "mean                   0.846137    0.991046                  0.630259   \n",
       "std                    0.403121    0.272369                  0.247078   \n",
       "min                    0.000000    0.000000                  0.000000   \n",
       "25%                    0.545808    0.856823                  0.439185   \n",
       "50%                    0.910245    1.029510                  0.696705   \n",
       "75%                    1.158448    1.214405                  0.811013   \n",
       "max                    1.690420    1.402230                  1.025250   \n",
       "\n",
       "          Freedom  Trust (Government Corruption)  Generosity  \\\n",
       "count  158.000000                     158.000000  158.000000   \n",
       "mean     0.428615                       0.143422    0.237296   \n",
       "std      0.150693                       0.120034    0.126685   \n",
       "min      0.000000                       0.000000    0.000000   \n",
       "25%      0.328330                       0.061675    0.150553   \n",
       "50%      0.435515                       0.107220    0.216130   \n",
       "75%      0.549092                       0.180255    0.309883   \n",
       "max      0.669730                       0.551910    0.795880   \n",
       "\n",
       "       Dystopia Residual  \n",
       "count         158.000000  \n",
       "mean            2.098977  \n",
       "std             0.553550  \n",
       "min             0.328580  \n",
       "25%             1.759410  \n",
       "50%             2.095415  \n",
       "75%             2.462415  \n",
       "max             3.602140  "
      ]
     },
     "execution_count": 39,
     "metadata": {},
     "output_type": "execute_result"
    }
   ],
   "source": [
    "df.describe()"
   ]
  },
  {
   "cell_type": "code",
   "execution_count": 47,
   "id": "5472fb19",
   "metadata": {},
   "outputs": [
    {
     "data": {
      "text/plain": [
       "<AxesSubplot:>"
      ]
     },
     "execution_count": 47,
     "metadata": {},
     "output_type": "execute_result"
    },
    {
     "data": {
      "image/png": "[encoded data removed]",
      "text/plain": [
       "<Figure size 1584x504 with 2 Axes>"
      ]
     },
     "metadata": {
      "needs_background": "light"
     },
     "output_type": "display_data"
    }
   ],
   "source": [
    "import matplotlib.pyplot as plt\n",
    "plt.figure(figsize=(22,7))\n",
    "sns.heatmap(df.describe()[1:],annot=True,linewidths=0.1,linecolor='white',fmt='0.2f')"
   ]
  },
  {
   "cell_type": "markdown",
   "id": "3f052838",
   "metadata": {},
   "source": [
    "# Correlation of the Columns with the Target:"
   ]
  },
  {
   "cell_type": "code",
   "execution_count": 51,
   "id": "c508221b",
   "metadata": {},
   "outputs": [
    {
     "data": {
      "text/plain": [
       "Generosity                       0.180319\n",
       "Trust (Government Corruption)    0.395199\n",
       "Dystopia Residual                0.530474\n",
       "Freedom                          0.568211\n",
       "Health (Life Expectancy)         0.724200\n",
       "Family                           0.740605\n",
       "Economy (GDP per Capita)         0.780966\n",
       "Name: Happiness Score, dtype: float64"
      ]
     },
     "execution_count": 51,
     "metadata": {},
     "output_type": "execute_result"
    }
   ],
   "source": [
    "df.corr()['Happiness Score'][3:].sort_values()"
   ]
  },
  {
   "cell_type": "code",
   "execution_count": 56,
   "id": "b7e4cc92",
   "metadata": {},
   "outputs": [
    {
     "data": {
      "text/plain": [
       "<AxesSubplot:>"
      ]
     },
     "execution_count": 56,
     "metadata": {},
     "output_type": "execute_result"
    },
    {
     "data": {
      "image/png": "[encoded data removed]",
      "text/plain": [
       "<Figure size 1584x504 with 2 Axes>"
      ]
     },
     "metadata": {
      "needs_background": "light"
     },
     "output_type": "display_data"
    }
   ],
   "source": [
    "plt.figure(figsize=(22,7))\n",
    "sns.heatmap(df.corr(),annot=True,linewidth=0.1,fmt='0.2f')"
   ]
  },
  {
   "cell_type": "markdown",
   "id": "6f329124",
   "metadata": {},
   "source": [
    "It could be seen from the above that there is a high correlation between Happiness score and Health,Family \n",
    "as well GDP. However, that can not be said about Happiness score and Generosity."
   ]
  },
  {
   "cell_type": "markdown",
   "id": "717ef3ec",
   "metadata": {},
   "source": [
    "# Checking the columns with  positive and negative correlation"
   ]
  },
  {
   "cell_type": "code",
   "execution_count": 66,
   "id": "0fb3ebaa",
   "metadata": {},
   "outputs": [
    {
     "data": {
      "image/png": "[encoded data removed]",
      "text/plain": [
       "<Figure size 1584x504 with 1 Axes>"
      ]
     },
     "metadata": {
      "needs_background": "light"
     },
     "output_type": "display_data"
    }
   ],
   "source": [
    "plt.figure(figsize=(22,7))\n",
    "df.corr()['Happiness Score'].sort_values(ascending=False).drop(['Happiness Score']).plot(kind='bar',color='y')\n",
    "plt.xlabel('Features',fontsize=14)\n",
    "plt.ylabel('Correlation Score',fontsize=14)\n",
    "plt.title('CORRELATION',fontsize=18)\n",
    "plt.show()"
   ]
  },
  {
   "cell_type": "code",
   "execution_count": 77,
   "id": "4d705fa3",
   "metadata": {},
   "outputs": [],
   "source": [
    "import warnings\n",
    "warnings.filterwarnings('ignore')"
   ]
  },
  {
   "cell_type": "code",
   "execution_count": 78,
   "id": "1ea79fc5",
   "metadata": {},
   "outputs": [
    {
     "data": {
      "text/plain": [
       "Standard Error                   1.983439\n",
       "Trust (Government Corruption)    1.385463\n",
       "Generosity                       1.001961\n",
       "Happiness Score                  0.097769\n",
       "Happiness Rank                   0.000418\n",
       "Dystopia Residual               -0.238911\n",
       "Economy (GDP per Capita)        -0.317575\n",
       "Freedom                         -0.413462\n",
       "Health (Life Expectancy)        -0.705328\n",
       "Family                          -1.006893\n",
       "dtype: float64"
      ]
     },
     "execution_count": 78,
     "metadata": {},
     "output_type": "execute_result"
    }
   ],
   "source": [
    "df.skew().sort_values(ascending=False)"
   ]
  },
  {
   "cell_type": "markdown",
   "id": "bdebfc96",
   "metadata": {},
   "source": [
    "Keeping +/-0.5 as the range for skewness, here are the columns which does not lie within this range;\n",
    "\n",
    "* Trust\n",
    "* Generosity\n",
    "* Dystopia Residual\n",
    "* Health\n",
    "* Family"
   ]
  },
  {
   "cell_type": "markdown",
   "id": "9fed0e1f",
   "metadata": {},
   "source": [
    "# Checking Outliers"
   ]
  },
  {
   "cell_type": "code",
   "execution_count": 70,
   "id": "b0926caf",
   "metadata": {},
   "outputs": [
    {
     "data": {
      "text/plain": [
       "<AxesSubplot:>"
      ]
     },
     "execution_count": 70,
     "metadata": {},
     "output_type": "execute_result"
    },
    {
     "data": {
      "image/png": "[encoded data removed]",
      "text/plain": [
       "<Figure size 432x288 with 1 Axes>"
      ]
     },
     "metadata": {
      "needs_background": "light"
     },
     "output_type": "display_data"
    }
   ],
   "source": [
    "df['Trust (Government Corruption)'].plot.box()"
   ]
  },
  {
   "cell_type": "code",
   "execution_count": 71,
   "id": "5fac13f7",
   "metadata": {},
   "outputs": [
    {
     "data": {
      "text/plain": [
       "<AxesSubplot:>"
      ]
     },
     "execution_count": 71,
     "metadata": {},
     "output_type": "execute_result"
    },
    {
     "data": {
      "image/png": "[encoded data removed]",
      "text/plain": [
       "<Figure size 432x288 with 1 Axes>"
      ]
     },
     "metadata": {
      "needs_background": "light"
     },
     "output_type": "display_data"
    }
   ],
   "source": [
    "df['Generosity'].plot.box()"
   ]
  },
  {
   "cell_type": "code",
   "execution_count": 72,
   "id": "ce319400",
   "metadata": {},
   "outputs": [
    {
     "data": {
      "text/plain": [
       "<AxesSubplot:>"
      ]
     },
     "execution_count": 72,
     "metadata": {},
     "output_type": "execute_result"
    },
    {
     "data": {
      "image/png": "[encoded data removed]",
      "text/plain": [
       "<Figure size 432x288 with 1 Axes>"
      ]
     },
     "metadata": {
      "needs_background": "light"
     },
     "output_type": "display_data"
    }
   ],
   "source": [
    "df['Dystopia Residual'].plot.box()"
   ]
  },
  {
   "cell_type": "code",
   "execution_count": 73,
   "id": "44aefb73",
   "metadata": {},
   "outputs": [
    {
     "data": {
      "text/plain": [
       "<AxesSubplot:>"
      ]
     },
     "execution_count": 73,
     "metadata": {},
     "output_type": "execute_result"
    },
    {
     "data": {
      "image/png": "[encoded data removed]",
      "text/plain": [
       "<Figure size 432x288 with 1 Axes>"
      ]
     },
     "metadata": {
      "needs_background": "light"
     },
     "output_type": "display_data"
    }
   ],
   "source": [
    "df['Health (Life Expectancy)'].plot.box()"
   ]
  },
  {
   "cell_type": "code",
   "execution_count": 74,
   "id": "be9909f2",
   "metadata": {},
   "outputs": [
    {
     "data": {
      "text/plain": [
       "<AxesSubplot:>"
      ]
     },
     "execution_count": 74,
     "metadata": {},
     "output_type": "execute_result"
    },
    {
     "data": {
      "image/png": "[encoded data removed]",
      "text/plain": [
       "<Figure size 432x288 with 1 Axes>"
      ]
     },
     "metadata": {
      "needs_background": "light"
     },
     "output_type": "display_data"
    }
   ],
   "source": [
    "df['Family'].plot.box()"
   ]
  },
  {
   "cell_type": "markdown",
   "id": "8d06c552",
   "metadata": {},
   "source": [
    "# Removing Outliers:"
   ]
  },
  {
   "cell_type": "code",
   "execution_count": 85,
   "id": "1e063f53",
   "metadata": {},
   "outputs": [
    {
     "data": {
      "text/plain": [
       "Country                           object\n",
       "Region                            object\n",
       "Happiness Rank                     int64\n",
       "Happiness Score                  float64\n",
       "Standard Error                   float64\n",
       "Economy (GDP per Capita)         float64\n",
       "Family                           float64\n",
       "Health (Life Expectancy)         float64\n",
       "Freedom                          float64\n",
       "Trust (Government Corruption)    float64\n",
       "Generosity                       float64\n",
       "Dystopia Residual                float64\n",
       "dtype: object"
      ]
     },
     "execution_count": 85,
     "metadata": {},
     "output_type": "execute_result"
    }
   ],
   "source": [
    "df.dtypes"
   ]
  },
  {
   "cell_type": "code",
   "execution_count": 86,
   "id": "71518374",
   "metadata": {},
   "outputs": [],
   "source": [
    "from sklearn.preprocessing import OrdinalEncoder\n",
    "enc=OrdinalEncoder()"
   ]
  },
  {
   "cell_type": "code",
   "execution_count": 89,
   "id": "f36fdbb6",
   "metadata": {},
   "outputs": [],
   "source": [
    "for i in df.columns:\n",
    "    if df[i].dtypes=='object':\n",
    "        df[i]=enc.fit_transform(df[i].values.reshape(-1,1))\n",
    "    "
   ]
  },
  {
   "cell_type": "code",
   "execution_count": 90,
   "id": "f8daae56",
   "metadata": {},
   "outputs": [],
   "source": [
    "from scipy.stats import zscore"
   ]
  },
  {
   "cell_type": "code",
   "execution_count": 93,
   "id": "bcb4c33e",
   "metadata": {},
   "outputs": [
    {
     "data": {
      "text/html": [
       "<div>\n",
       "<style scoped>\n",
       "    .dataframe tbody tr th:only-of-type {\n",
       "        vertical-align: middle;\n",
       "    }\n",
       "\n",
       "    .dataframe tbody tr th {\n",
       "        vertical-align: top;\n",
       "    }\n",
       "\n",
       "    .dataframe thead th {\n",
       "        text-align: right;\n",
       "    }\n",
       "</style>\n",
       "<table border=\"1\" class=\"dataframe\">\n",
       "  <thead>\n",
       "    <tr style=\"text-align: right;\">\n",
       "      <th></th>\n",
       "      <th>Country</th>\n",
       "      <th>Region</th>\n",
       "      <th>Happiness Rank</th>\n",
       "      <th>Happiness Score</th>\n",
       "      <th>Standard Error</th>\n",
       "      <th>Economy (GDP per Capita)</th>\n",
       "      <th>Family</th>\n",
       "      <th>Health (Life Expectancy)</th>\n",
       "      <th>Freedom</th>\n",
       "      <th>Trust (Government Corruption)</th>\n",
       "      <th>Generosity</th>\n",
       "      <th>Dystopia Residual</th>\n",
       "    </tr>\n",
       "  </thead>\n",
       "  <tbody>\n",
       "    <tr>\n",
       "      <th>0</th>\n",
       "      <td>1.238770</td>\n",
       "      <td>1.300256</td>\n",
       "      <td>-1.721000</td>\n",
       "      <td>1.937360</td>\n",
       "      <td>-0.805926</td>\n",
       "      <td>1.369621</td>\n",
       "      <td>1.320281</td>\n",
       "      <td>1.263408</td>\n",
       "      <td>1.577438</td>\n",
       "      <td>2.309652</td>\n",
       "      <td>0.471040</td>\n",
       "      <td>0.758258</td>\n",
       "    </tr>\n",
       "    <tr>\n",
       "      <th>1</th>\n",
       "      <td>-0.449465</td>\n",
       "      <td>1.300256</td>\n",
       "      <td>-1.699075</td>\n",
       "      <td>1.914581</td>\n",
       "      <td>0.055889</td>\n",
       "      <td>1.135226</td>\n",
       "      <td>1.514458</td>\n",
       "      <td>1.289434</td>\n",
       "      <td>1.332456</td>\n",
       "      <td>-0.016480</td>\n",
       "      <td>1.575856</td>\n",
       "      <td>1.092857</td>\n",
       "    </tr>\n",
       "    <tr>\n",
       "      <th>2</th>\n",
       "      <td>-0.909893</td>\n",
       "      <td>1.300256</td>\n",
       "      <td>-1.677149</td>\n",
       "      <td>1.884792</td>\n",
       "      <td>-0.854487</td>\n",
       "      <td>1.192861</td>\n",
       "      <td>1.361054</td>\n",
       "      <td>0.992229</td>\n",
       "      <td>1.469659</td>\n",
       "      <td>2.842774</td>\n",
       "      <td>0.824293</td>\n",
       "      <td>0.712335</td>\n",
       "    </tr>\n",
       "    <tr>\n",
       "      <th>3</th>\n",
       "      <td>0.581016</td>\n",
       "      <td>1.300256</td>\n",
       "      <td>-1.655224</td>\n",
       "      <td>1.880411</td>\n",
       "      <td>-0.531526</td>\n",
       "      <td>1.525130</td>\n",
       "      <td>1.251922</td>\n",
       "      <td>1.035145</td>\n",
       "      <td>1.605131</td>\n",
       "      <td>1.852081</td>\n",
       "      <td>0.868638</td>\n",
       "      <td>0.663893</td>\n",
       "    </tr>\n",
       "    <tr>\n",
       "      <th>4</th>\n",
       "      <td>-1.194920</td>\n",
       "      <td>-0.040302</td>\n",
       "      <td>-1.633299</td>\n",
       "      <td>1.797179</td>\n",
       "      <td>-0.722845</td>\n",
       "      <td>1.194876</td>\n",
       "      <td>1.221204</td>\n",
       "      <td>1.118054</td>\n",
       "      <td>1.360416</td>\n",
       "      <td>1.555725</td>\n",
       "      <td>1.748563</td>\n",
       "      <td>0.639337</td>\n",
       "    </tr>\n",
       "    <tr>\n",
       "      <th>...</th>\n",
       "      <td>...</td>\n",
       "      <td>...</td>\n",
       "      <td>...</td>\n",
       "      <td>...</td>\n",
       "      <td>...</td>\n",
       "      <td>...</td>\n",
       "      <td>...</td>\n",
       "      <td>...</td>\n",
       "      <td>...</td>\n",
       "      <td>...</td>\n",
       "      <td>...</td>\n",
       "      <td>...</td>\n",
       "    </tr>\n",
       "    <tr>\n",
       "      <th>153</th>\n",
       "      <td>0.866043</td>\n",
       "      <td>0.965117</td>\n",
       "      <td>1.633576</td>\n",
       "      <td>-1.674055</td>\n",
       "      <td>-0.774917</td>\n",
       "      <td>-1.552987</td>\n",
       "      <td>-0.800520</td>\n",
       "      <td>-0.818610</td>\n",
       "      <td>1.087740</td>\n",
       "      <td>3.413922</td>\n",
       "      <td>-0.087228</td>\n",
       "      <td>-2.588925</td>\n",
       "    </tr>\n",
       "    <tr>\n",
       "      <th>154</th>\n",
       "      <td>-1.436096</td>\n",
       "      <td>0.965117</td>\n",
       "      <td>1.655501</td>\n",
       "      <td>-1.783571</td>\n",
       "      <td>-0.662582</td>\n",
       "      <td>-1.392303</td>\n",
       "      <td>-2.346860</td>\n",
       "      <td>-1.263362</td>\n",
       "      <td>0.372033</td>\n",
       "      <td>-0.529210</td>\n",
       "      <td>-0.433117</td>\n",
       "      <td>-0.843967</td>\n",
       "    </tr>\n",
       "    <tr>\n",
       "      <th>155</th>\n",
       "      <td>1.260695</td>\n",
       "      <td>-0.375441</td>\n",
       "      <td>1.677427</td>\n",
       "      <td>-2.076199</td>\n",
       "      <td>0.132534</td>\n",
       "      <td>-0.455245</td>\n",
       "      <td>-1.901086</td>\n",
       "      <td>0.372199</td>\n",
       "      <td>-1.809238</td>\n",
       "      <td>0.381419</td>\n",
       "      <td>1.856891</td>\n",
       "      <td>-3.208430</td>\n",
       "    </tr>\n",
       "    <tr>\n",
       "      <th>156</th>\n",
       "      <td>-1.260695</td>\n",
       "      <td>0.965117</td>\n",
       "      <td>1.699352</td>\n",
       "      <td>-2.164688</td>\n",
       "      <td>2.263962</td>\n",
       "      <td>-2.067566</td>\n",
       "      <td>-2.118467</td>\n",
       "      <td>-1.649648</td>\n",
       "      <td>-2.064472</td>\n",
       "      <td>-0.357715</td>\n",
       "      <td>-0.316950</td>\n",
       "      <td>-0.481985</td>\n",
       "    </tr>\n",
       "    <tr>\n",
       "      <th>157</th>\n",
       "      <td>1.370321</td>\n",
       "      <td>0.965117</td>\n",
       "      <td>1.721277</td>\n",
       "      <td>-2.222513</td>\n",
       "      <td>1.134182</td>\n",
       "      <td>-1.586334</td>\n",
       "      <td>-3.134725</td>\n",
       "      <td>-1.404129</td>\n",
       "      <td>-0.426621</td>\n",
       "      <td>-0.301803</td>\n",
       "      <td>-0.558153</td>\n",
       "      <td>-0.963612</td>\n",
       "    </tr>\n",
       "  </tbody>\n",
       "</table>\n",
       "<p>158 rows × 12 columns</p>\n",
       "</div>"
      ],
      "text/plain": [
       "      Country    Region  Happiness Rank  Happiness Score  Standard Error  \\\n",
       "0    1.238770  1.300256       -1.721000         1.937360       -0.805926   \n",
       "1   -0.449465  1.300256       -1.699075         1.914581        0.055889   \n",
       "2   -0.909893  1.300256       -1.677149         1.884792       -0.854487   \n",
       "3    0.581016  1.300256       -1.655224         1.880411       -0.531526   \n",
       "4   -1.194920 -0.040302       -1.633299         1.797179       -0.722845   \n",
       "..        ...       ...             ...              ...             ...   \n",
       "153  0.866043  0.965117        1.633576        -1.674055       -0.774917   \n",
       "154 -1.436096  0.965117        1.655501        -1.783571       -0.662582   \n",
       "155  1.260695 -0.375441        1.677427        -2.076199        0.132534   \n",
       "156 -1.260695  0.965117        1.699352        -2.164688        2.263962   \n",
       "157  1.370321  0.965117        1.721277        -2.222513        1.134182   \n",
       "\n",
       "     Economy (GDP per Capita)    Family  Health (Life Expectancy)   Freedom  \\\n",
       "0                    1.369621  1.320281                  1.263408  1.577438   \n",
       "1                    1.135226  1.514458                  1.289434  1.332456   \n",
       "2                    1.192861  1.361054                  0.992229  1.469659   \n",
       "3                    1.525130  1.251922                  1.035145  1.605131   \n",
       "4                    1.194876  1.221204                  1.118054  1.360416   \n",
       "..                        ...       ...                       ...       ...   \n",
       "153                 -1.552987 -0.800520                 -0.818610  1.087740   \n",
       "154                 -1.392303 -2.346860                 -1.263362  0.372033   \n",
       "155                 -0.455245 -1.901086                  0.372199 -1.809238   \n",
       "156                 -2.067566 -2.118467                 -1.649648 -2.064472   \n",
       "157                 -1.586334 -3.134725                 -1.404129 -0.426621   \n",
       "\n",
       "     Trust (Government Corruption)  Generosity  Dystopia Residual  \n",
       "0                         2.309652    0.471040           0.758258  \n",
       "1                        -0.016480    1.575856           1.092857  \n",
       "2                         2.842774    0.824293           0.712335  \n",
       "3                         1.852081    0.868638           0.663893  \n",
       "4                         1.555725    1.748563           0.639337  \n",
       "..                             ...         ...                ...  \n",
       "153                       3.413922   -0.087228          -2.588925  \n",
       "154                      -0.529210   -0.433117          -0.843967  \n",
       "155                       0.381419    1.856891          -3.208430  \n",
       "156                      -0.357715   -0.316950          -0.481985  \n",
       "157                      -0.301803   -0.558153          -0.963612  \n",
       "\n",
       "[158 rows x 12 columns]"
      ]
     },
     "execution_count": 93,
     "metadata": {},
     "output_type": "execute_result"
    }
   ],
   "source": [
    "zscore(df)"
   ]
  },
  {
   "cell_type": "code",
   "execution_count": 94,
   "id": "a2ce12e0",
   "metadata": {},
   "outputs": [
    {
     "data": {
      "text/html": [
       "<div>\n",
       "<style scoped>\n",
       "    .dataframe tbody tr th:only-of-type {\n",
       "        vertical-align: middle;\n",
       "    }\n",
       "\n",
       "    .dataframe tbody tr th {\n",
       "        vertical-align: top;\n",
       "    }\n",
       "\n",
       "    .dataframe thead th {\n",
       "        text-align: right;\n",
       "    }\n",
       "</style>\n",
       "<table border=\"1\" class=\"dataframe\">\n",
       "  <thead>\n",
       "    <tr style=\"text-align: right;\">\n",
       "      <th></th>\n",
       "      <th>Country</th>\n",
       "      <th>Region</th>\n",
       "      <th>Happiness Rank</th>\n",
       "      <th>Happiness Score</th>\n",
       "      <th>Standard Error</th>\n",
       "      <th>Economy (GDP per Capita)</th>\n",
       "      <th>Family</th>\n",
       "      <th>Health (Life Expectancy)</th>\n",
       "      <th>Freedom</th>\n",
       "      <th>Trust (Government Corruption)</th>\n",
       "      <th>Generosity</th>\n",
       "      <th>Dystopia Residual</th>\n",
       "    </tr>\n",
       "  </thead>\n",
       "  <tbody>\n",
       "    <tr>\n",
       "      <th>0</th>\n",
       "      <td>1.238770</td>\n",
       "      <td>1.300256</td>\n",
       "      <td>1.721000</td>\n",
       "      <td>1.937360</td>\n",
       "      <td>0.805926</td>\n",
       "      <td>1.369621</td>\n",
       "      <td>1.320281</td>\n",
       "      <td>1.263408</td>\n",
       "      <td>1.577438</td>\n",
       "      <td>2.309652</td>\n",
       "      <td>0.471040</td>\n",
       "      <td>0.758258</td>\n",
       "    </tr>\n",
       "    <tr>\n",
       "      <th>1</th>\n",
       "      <td>0.449465</td>\n",
       "      <td>1.300256</td>\n",
       "      <td>1.699075</td>\n",
       "      <td>1.914581</td>\n",
       "      <td>0.055889</td>\n",
       "      <td>1.135226</td>\n",
       "      <td>1.514458</td>\n",
       "      <td>1.289434</td>\n",
       "      <td>1.332456</td>\n",
       "      <td>0.016480</td>\n",
       "      <td>1.575856</td>\n",
       "      <td>1.092857</td>\n",
       "    </tr>\n",
       "    <tr>\n",
       "      <th>2</th>\n",
       "      <td>0.909893</td>\n",
       "      <td>1.300256</td>\n",
       "      <td>1.677149</td>\n",
       "      <td>1.884792</td>\n",
       "      <td>0.854487</td>\n",
       "      <td>1.192861</td>\n",
       "      <td>1.361054</td>\n",
       "      <td>0.992229</td>\n",
       "      <td>1.469659</td>\n",
       "      <td>2.842774</td>\n",
       "      <td>0.824293</td>\n",
       "      <td>0.712335</td>\n",
       "    </tr>\n",
       "    <tr>\n",
       "      <th>3</th>\n",
       "      <td>0.581016</td>\n",
       "      <td>1.300256</td>\n",
       "      <td>1.655224</td>\n",
       "      <td>1.880411</td>\n",
       "      <td>0.531526</td>\n",
       "      <td>1.525130</td>\n",
       "      <td>1.251922</td>\n",
       "      <td>1.035145</td>\n",
       "      <td>1.605131</td>\n",
       "      <td>1.852081</td>\n",
       "      <td>0.868638</td>\n",
       "      <td>0.663893</td>\n",
       "    </tr>\n",
       "    <tr>\n",
       "      <th>4</th>\n",
       "      <td>1.194920</td>\n",
       "      <td>0.040302</td>\n",
       "      <td>1.633299</td>\n",
       "      <td>1.797179</td>\n",
       "      <td>0.722845</td>\n",
       "      <td>1.194876</td>\n",
       "      <td>1.221204</td>\n",
       "      <td>1.118054</td>\n",
       "      <td>1.360416</td>\n",
       "      <td>1.555725</td>\n",
       "      <td>1.748563</td>\n",
       "      <td>0.639337</td>\n",
       "    </tr>\n",
       "    <tr>\n",
       "      <th>...</th>\n",
       "      <td>...</td>\n",
       "      <td>...</td>\n",
       "      <td>...</td>\n",
       "      <td>...</td>\n",
       "      <td>...</td>\n",
       "      <td>...</td>\n",
       "      <td>...</td>\n",
       "      <td>...</td>\n",
       "      <td>...</td>\n",
       "      <td>...</td>\n",
       "      <td>...</td>\n",
       "      <td>...</td>\n",
       "    </tr>\n",
       "    <tr>\n",
       "      <th>153</th>\n",
       "      <td>0.866043</td>\n",
       "      <td>0.965117</td>\n",
       "      <td>1.633576</td>\n",
       "      <td>1.674055</td>\n",
       "      <td>0.774917</td>\n",
       "      <td>1.552987</td>\n",
       "      <td>0.800520</td>\n",
       "      <td>0.818610</td>\n",
       "      <td>1.087740</td>\n",
       "      <td>3.413922</td>\n",
       "      <td>0.087228</td>\n",
       "      <td>2.588925</td>\n",
       "    </tr>\n",
       "    <tr>\n",
       "      <th>154</th>\n",
       "      <td>1.436096</td>\n",
       "      <td>0.965117</td>\n",
       "      <td>1.655501</td>\n",
       "      <td>1.783571</td>\n",
       "      <td>0.662582</td>\n",
       "      <td>1.392303</td>\n",
       "      <td>2.346860</td>\n",
       "      <td>1.263362</td>\n",
       "      <td>0.372033</td>\n",
       "      <td>0.529210</td>\n",
       "      <td>0.433117</td>\n",
       "      <td>0.843967</td>\n",
       "    </tr>\n",
       "    <tr>\n",
       "      <th>155</th>\n",
       "      <td>1.260695</td>\n",
       "      <td>0.375441</td>\n",
       "      <td>1.677427</td>\n",
       "      <td>2.076199</td>\n",
       "      <td>0.132534</td>\n",
       "      <td>0.455245</td>\n",
       "      <td>1.901086</td>\n",
       "      <td>0.372199</td>\n",
       "      <td>1.809238</td>\n",
       "      <td>0.381419</td>\n",
       "      <td>1.856891</td>\n",
       "      <td>3.208430</td>\n",
       "    </tr>\n",
       "    <tr>\n",
       "      <th>156</th>\n",
       "      <td>1.260695</td>\n",
       "      <td>0.965117</td>\n",
       "      <td>1.699352</td>\n",
       "      <td>2.164688</td>\n",
       "      <td>2.263962</td>\n",
       "      <td>2.067566</td>\n",
       "      <td>2.118467</td>\n",
       "      <td>1.649648</td>\n",
       "      <td>2.064472</td>\n",
       "      <td>0.357715</td>\n",
       "      <td>0.316950</td>\n",
       "      <td>0.481985</td>\n",
       "    </tr>\n",
       "    <tr>\n",
       "      <th>157</th>\n",
       "      <td>1.370321</td>\n",
       "      <td>0.965117</td>\n",
       "      <td>1.721277</td>\n",
       "      <td>2.222513</td>\n",
       "      <td>1.134182</td>\n",
       "      <td>1.586334</td>\n",
       "      <td>3.134725</td>\n",
       "      <td>1.404129</td>\n",
       "      <td>0.426621</td>\n",
       "      <td>0.301803</td>\n",
       "      <td>0.558153</td>\n",
       "      <td>0.963612</td>\n",
       "    </tr>\n",
       "  </tbody>\n",
       "</table>\n",
       "<p>158 rows × 12 columns</p>\n",
       "</div>"
      ],
      "text/plain": [
       "      Country    Region  Happiness Rank  Happiness Score  Standard Error  \\\n",
       "0    1.238770  1.300256        1.721000         1.937360        0.805926   \n",
       "1    0.449465  1.300256        1.699075         1.914581        0.055889   \n",
       "2    0.909893  1.300256        1.677149         1.884792        0.854487   \n",
       "3    0.581016  1.300256        1.655224         1.880411        0.531526   \n",
       "4    1.194920  0.040302        1.633299         1.797179        0.722845   \n",
       "..        ...       ...             ...              ...             ...   \n",
       "153  0.866043  0.965117        1.633576         1.674055        0.774917   \n",
       "154  1.436096  0.965117        1.655501         1.783571        0.662582   \n",
       "155  1.260695  0.375441        1.677427         2.076199        0.132534   \n",
       "156  1.260695  0.965117        1.699352         2.164688        2.263962   \n",
       "157  1.370321  0.965117        1.721277         2.222513        1.134182   \n",
       "\n",
       "     Economy (GDP per Capita)    Family  Health (Life Expectancy)   Freedom  \\\n",
       "0                    1.369621  1.320281                  1.263408  1.577438   \n",
       "1                    1.135226  1.514458                  1.289434  1.332456   \n",
       "2                    1.192861  1.361054                  0.992229  1.469659   \n",
       "3                    1.525130  1.251922                  1.035145  1.605131   \n",
       "4                    1.194876  1.221204                  1.118054  1.360416   \n",
       "..                        ...       ...                       ...       ...   \n",
       "153                  1.552987  0.800520                  0.818610  1.087740   \n",
       "154                  1.392303  2.346860                  1.263362  0.372033   \n",
       "155                  0.455245  1.901086                  0.372199  1.809238   \n",
       "156                  2.067566  2.118467                  1.649648  2.064472   \n",
       "157                  1.586334  3.134725                  1.404129  0.426621   \n",
       "\n",
       "     Trust (Government Corruption)  Generosity  Dystopia Residual  \n",
       "0                         2.309652    0.471040           0.758258  \n",
       "1                         0.016480    1.575856           1.092857  \n",
       "2                         2.842774    0.824293           0.712335  \n",
       "3                         1.852081    0.868638           0.663893  \n",
       "4                         1.555725    1.748563           0.639337  \n",
       "..                             ...         ...                ...  \n",
       "153                       3.413922    0.087228           2.588925  \n",
       "154                       0.529210    0.433117           0.843967  \n",
       "155                       0.381419    1.856891           3.208430  \n",
       "156                       0.357715    0.316950           0.481985  \n",
       "157                       0.301803    0.558153           0.963612  \n",
       "\n",
       "[158 rows x 12 columns]"
      ]
     },
     "execution_count": 94,
     "metadata": {},
     "output_type": "execute_result"
    }
   ],
   "source": [
    "np.abs(zscore(df))"
   ]
  },
  {
   "cell_type": "code",
   "execution_count": 91,
   "id": "60ae4c25",
   "metadata": {},
   "outputs": [
    {
     "data": {
      "text/plain": [
       "(array([ 27,  40,  64, 115, 128, 147, 153, 155, 157]),\n",
       " array([ 9,  4,  4,  4, 10,  6,  9, 11,  6]))"
      ]
     },
     "execution_count": 91,
     "metadata": {},
     "output_type": "execute_result"
    }
   ],
   "source": [
    "from scipy.stats import zscore\n",
    "import numpy as np\n",
    "z=np.abs(zscore(df))\n",
    "threshold=3\n",
    "np.where(z>3)"
   ]
  },
  {
   "cell_type": "code",
   "execution_count": 96,
   "id": "14a36606",
   "metadata": {},
   "outputs": [
    {
     "data": {
      "text/plain": [
       "Country                          0.800267\n",
       "Region                           0.375441\n",
       "Happiness Rank                   1.129016\n",
       "Happiness Score                  1.082256\n",
       "Standard Error                   0.859197\n",
       "Economy (GDP per Capita)         2.101026\n",
       "Family                           0.322476\n",
       "Health (Life Expectancy)         0.678336\n",
       "Freedom                          1.409878\n",
       "Trust (Government Corruption)    3.164619\n",
       "Generosity                       0.700286\n",
       "Dystopia Residual                0.982677\n",
       "Name: 27, dtype: float64"
      ]
     },
     "execution_count": 96,
     "metadata": {},
     "output_type": "execute_result"
    }
   ],
   "source": [
    "z.iloc[27]"
   ]
  },
  {
   "cell_type": "markdown",
   "id": "8331a223",
   "metadata": {},
   "source": [
    "This shows that at row 27, outlier is found at column 9"
   ]
  },
  {
   "cell_type": "code",
   "execution_count": 97,
   "id": "1672c20a",
   "metadata": {},
   "outputs": [
    {
     "data": {
      "text/plain": [
       "Country                          1.260695\n",
       "Region                           0.375441\n",
       "Happiness Rank                   1.677427\n",
       "Happiness Score                  2.076199\n",
       "Standard Error                   0.132534\n",
       "Economy (GDP per Capita)         0.455245\n",
       "Family                           1.901086\n",
       "Health (Life Expectancy)         0.372199\n",
       "Freedom                          1.809238\n",
       "Trust (Government Corruption)    0.381419\n",
       "Generosity                       1.856891\n",
       "Dystopia Residual                3.208430\n",
       "Name: 155, dtype: float64"
      ]
     },
     "execution_count": 97,
     "metadata": {},
     "output_type": "execute_result"
    }
   ],
   "source": [
    "z.iloc[155]"
   ]
  },
  {
   "cell_type": "markdown",
   "id": "11674afc",
   "metadata": {},
   "source": [
    "This also shows that at row 155 the outlier is found at column 11"
   ]
  },
  {
   "cell_type": "code",
   "execution_count": 98,
   "id": "78893c5b",
   "metadata": {},
   "outputs": [
    {
     "data": {
      "text/html": [
       "<div>\n",
       "<style scoped>\n",
       "    .dataframe tbody tr th:only-of-type {\n",
       "        vertical-align: middle;\n",
       "    }\n",
       "\n",
       "    .dataframe tbody tr th {\n",
       "        vertical-align: top;\n",
       "    }\n",
       "\n",
       "    .dataframe thead th {\n",
       "        text-align: right;\n",
       "    }\n",
       "</style>\n",
       "<table border=\"1\" class=\"dataframe\">\n",
       "  <thead>\n",
       "    <tr style=\"text-align: right;\">\n",
       "      <th></th>\n",
       "      <th>Country</th>\n",
       "      <th>Region</th>\n",
       "      <th>Happiness Rank</th>\n",
       "      <th>Happiness Score</th>\n",
       "      <th>Standard Error</th>\n",
       "      <th>Economy (GDP per Capita)</th>\n",
       "      <th>Family</th>\n",
       "      <th>Health (Life Expectancy)</th>\n",
       "      <th>Freedom</th>\n",
       "      <th>Trust (Government Corruption)</th>\n",
       "      <th>Generosity</th>\n",
       "      <th>Dystopia Residual</th>\n",
       "    </tr>\n",
       "  </thead>\n",
       "  <tbody>\n",
       "    <tr>\n",
       "      <th>0</th>\n",
       "      <td>135.0</td>\n",
       "      <td>9.0</td>\n",
       "      <td>1</td>\n",
       "      <td>7.587</td>\n",
       "      <td>0.03411</td>\n",
       "      <td>1.39651</td>\n",
       "      <td>1.34951</td>\n",
       "      <td>0.94143</td>\n",
       "      <td>0.66557</td>\n",
       "      <td>0.41978</td>\n",
       "      <td>0.29678</td>\n",
       "      <td>2.51738</td>\n",
       "    </tr>\n",
       "    <tr>\n",
       "      <th>1</th>\n",
       "      <td>58.0</td>\n",
       "      <td>9.0</td>\n",
       "      <td>2</td>\n",
       "      <td>7.561</td>\n",
       "      <td>0.04884</td>\n",
       "      <td>1.30232</td>\n",
       "      <td>1.40223</td>\n",
       "      <td>0.94784</td>\n",
       "      <td>0.62877</td>\n",
       "      <td>0.14145</td>\n",
       "      <td>0.43630</td>\n",
       "      <td>2.70201</td>\n",
       "    </tr>\n",
       "    <tr>\n",
       "      <th>2</th>\n",
       "      <td>37.0</td>\n",
       "      <td>9.0</td>\n",
       "      <td>3</td>\n",
       "      <td>7.527</td>\n",
       "      <td>0.03328</td>\n",
       "      <td>1.32548</td>\n",
       "      <td>1.36058</td>\n",
       "      <td>0.87464</td>\n",
       "      <td>0.64938</td>\n",
       "      <td>0.48357</td>\n",
       "      <td>0.34139</td>\n",
       "      <td>2.49204</td>\n",
       "    </tr>\n",
       "    <tr>\n",
       "      <th>3</th>\n",
       "      <td>105.0</td>\n",
       "      <td>9.0</td>\n",
       "      <td>4</td>\n",
       "      <td>7.522</td>\n",
       "      <td>0.03880</td>\n",
       "      <td>1.45900</td>\n",
       "      <td>1.33095</td>\n",
       "      <td>0.88521</td>\n",
       "      <td>0.66973</td>\n",
       "      <td>0.36503</td>\n",
       "      <td>0.34699</td>\n",
       "      <td>2.46531</td>\n",
       "    </tr>\n",
       "    <tr>\n",
       "      <th>4</th>\n",
       "      <td>24.0</td>\n",
       "      <td>5.0</td>\n",
       "      <td>5</td>\n",
       "      <td>7.427</td>\n",
       "      <td>0.03553</td>\n",
       "      <td>1.32629</td>\n",
       "      <td>1.32261</td>\n",
       "      <td>0.90563</td>\n",
       "      <td>0.63297</td>\n",
       "      <td>0.32957</td>\n",
       "      <td>0.45811</td>\n",
       "      <td>2.45176</td>\n",
       "    </tr>\n",
       "    <tr>\n",
       "      <th>...</th>\n",
       "      <td>...</td>\n",
       "      <td>...</td>\n",
       "      <td>...</td>\n",
       "      <td>...</td>\n",
       "      <td>...</td>\n",
       "      <td>...</td>\n",
       "      <td>...</td>\n",
       "      <td>...</td>\n",
       "      <td>...</td>\n",
       "      <td>...</td>\n",
       "      <td>...</td>\n",
       "      <td>...</td>\n",
       "    </tr>\n",
       "    <tr>\n",
       "      <th>150</th>\n",
       "      <td>66.0</td>\n",
       "      <td>8.0</td>\n",
       "      <td>151</td>\n",
       "      <td>3.655</td>\n",
       "      <td>0.05141</td>\n",
       "      <td>0.46534</td>\n",
       "      <td>0.77115</td>\n",
       "      <td>0.15185</td>\n",
       "      <td>0.46866</td>\n",
       "      <td>0.17922</td>\n",
       "      <td>0.20165</td>\n",
       "      <td>1.41723</td>\n",
       "    </tr>\n",
       "    <tr>\n",
       "      <th>151</th>\n",
       "      <td>20.0</td>\n",
       "      <td>8.0</td>\n",
       "      <td>152</td>\n",
       "      <td>3.587</td>\n",
       "      <td>0.04324</td>\n",
       "      <td>0.25812</td>\n",
       "      <td>0.85188</td>\n",
       "      <td>0.27125</td>\n",
       "      <td>0.39493</td>\n",
       "      <td>0.12832</td>\n",
       "      <td>0.21747</td>\n",
       "      <td>1.46494</td>\n",
       "    </tr>\n",
       "    <tr>\n",
       "      <th>152</th>\n",
       "      <td>0.0</td>\n",
       "      <td>7.0</td>\n",
       "      <td>153</td>\n",
       "      <td>3.575</td>\n",
       "      <td>0.03084</td>\n",
       "      <td>0.31982</td>\n",
       "      <td>0.30285</td>\n",
       "      <td>0.30335</td>\n",
       "      <td>0.23414</td>\n",
       "      <td>0.09719</td>\n",
       "      <td>0.36510</td>\n",
       "      <td>1.95210</td>\n",
       "    </tr>\n",
       "    <tr>\n",
       "      <th>154</th>\n",
       "      <td>13.0</td>\n",
       "      <td>8.0</td>\n",
       "      <td>155</td>\n",
       "      <td>3.340</td>\n",
       "      <td>0.03656</td>\n",
       "      <td>0.28665</td>\n",
       "      <td>0.35386</td>\n",
       "      <td>0.31910</td>\n",
       "      <td>0.48450</td>\n",
       "      <td>0.08010</td>\n",
       "      <td>0.18260</td>\n",
       "      <td>1.63328</td>\n",
       "    </tr>\n",
       "    <tr>\n",
       "      <th>156</th>\n",
       "      <td>21.0</td>\n",
       "      <td>8.0</td>\n",
       "      <td>157</td>\n",
       "      <td>2.905</td>\n",
       "      <td>0.08658</td>\n",
       "      <td>0.01530</td>\n",
       "      <td>0.41587</td>\n",
       "      <td>0.22396</td>\n",
       "      <td>0.11850</td>\n",
       "      <td>0.10062</td>\n",
       "      <td>0.19727</td>\n",
       "      <td>1.83302</td>\n",
       "    </tr>\n",
       "  </tbody>\n",
       "</table>\n",
       "<p>149 rows × 12 columns</p>\n",
       "</div>"
      ],
      "text/plain": [
       "     Country  Region  Happiness Rank  Happiness Score  Standard Error  \\\n",
       "0      135.0     9.0               1            7.587         0.03411   \n",
       "1       58.0     9.0               2            7.561         0.04884   \n",
       "2       37.0     9.0               3            7.527         0.03328   \n",
       "3      105.0     9.0               4            7.522         0.03880   \n",
       "4       24.0     5.0               5            7.427         0.03553   \n",
       "..       ...     ...             ...              ...             ...   \n",
       "150     66.0     8.0             151            3.655         0.05141   \n",
       "151     20.0     8.0             152            3.587         0.04324   \n",
       "152      0.0     7.0             153            3.575         0.03084   \n",
       "154     13.0     8.0             155            3.340         0.03656   \n",
       "156     21.0     8.0             157            2.905         0.08658   \n",
       "\n",
       "     Economy (GDP per Capita)   Family  Health (Life Expectancy)  Freedom  \\\n",
       "0                     1.39651  1.34951                   0.94143  0.66557   \n",
       "1                     1.30232  1.40223                   0.94784  0.62877   \n",
       "2                     1.32548  1.36058                   0.87464  0.64938   \n",
       "3                     1.45900  1.33095                   0.88521  0.66973   \n",
       "4                     1.32629  1.32261                   0.90563  0.63297   \n",
       "..                        ...      ...                       ...      ...   \n",
       "150                   0.46534  0.77115                   0.15185  0.46866   \n",
       "151                   0.25812  0.85188                   0.27125  0.39493   \n",
       "152                   0.31982  0.30285                   0.30335  0.23414   \n",
       "154                   0.28665  0.35386                   0.31910  0.48450   \n",
       "156                   0.01530  0.41587                   0.22396  0.11850   \n",
       "\n",
       "     Trust (Government Corruption)  Generosity  Dystopia Residual  \n",
       "0                          0.41978     0.29678            2.51738  \n",
       "1                          0.14145     0.43630            2.70201  \n",
       "2                          0.48357     0.34139            2.49204  \n",
       "3                          0.36503     0.34699            2.46531  \n",
       "4                          0.32957     0.45811            2.45176  \n",
       "..                             ...         ...                ...  \n",
       "150                        0.17922     0.20165            1.41723  \n",
       "151                        0.12832     0.21747            1.46494  \n",
       "152                        0.09719     0.36510            1.95210  \n",
       "154                        0.08010     0.18260            1.63328  \n",
       "156                        0.10062     0.19727            1.83302  \n",
       "\n",
       "[149 rows x 12 columns]"
      ]
     },
     "execution_count": 98,
     "metadata": {},
     "output_type": "execute_result"
    }
   ],
   "source": [
    "df_new=df[(z<3).all(axis=1)]\n",
    "df_new"
   ]
  },
  {
   "cell_type": "code",
   "execution_count": 102,
   "id": "fdf4ce7c",
   "metadata": {},
   "outputs": [
    {
     "name": "stdout",
     "output_type": "stream",
     "text": [
      "Old DataFram:  (158, 12)\n",
      "New DataFrame:  (149, 12)\n",
      "Total dropped rows:  9\n"
     ]
    }
   ],
   "source": [
    "print('Old DataFram: ',df.shape)\n",
    "print('New DataFrame: ',df_new.shape)\n",
    "print('Total dropped rows: ',df.shape[0] - df_new.shape[0])"
   ]
  },
  {
   "cell_type": "code",
   "execution_count": 111,
   "id": "a38b8289",
   "metadata": {},
   "outputs": [
    {
     "data": {
      "text/html": [
       "<div>\n",
       "<style scoped>\n",
       "    .dataframe tbody tr th:only-of-type {\n",
       "        vertical-align: middle;\n",
       "    }\n",
       "\n",
       "    .dataframe tbody tr th {\n",
       "        vertical-align: top;\n",
       "    }\n",
       "\n",
       "    .dataframe thead th {\n",
       "        text-align: right;\n",
       "    }\n",
       "</style>\n",
       "<table border=\"1\" class=\"dataframe\">\n",
       "  <thead>\n",
       "    <tr style=\"text-align: right;\">\n",
       "      <th></th>\n",
       "      <th>Standard Error</th>\n",
       "      <th>Economy (GDP per Capita)</th>\n",
       "      <th>Family</th>\n",
       "      <th>Health (Life Expectancy)</th>\n",
       "      <th>Freedom</th>\n",
       "      <th>Trust (Government Corruption)</th>\n",
       "      <th>Generosity</th>\n",
       "      <th>Dystopia Residual</th>\n",
       "    </tr>\n",
       "  </thead>\n",
       "  <tbody>\n",
       "    <tr>\n",
       "      <th>0</th>\n",
       "      <td>0.03411</td>\n",
       "      <td>1.39651</td>\n",
       "      <td>1.34951</td>\n",
       "      <td>0.94143</td>\n",
       "      <td>0.66557</td>\n",
       "      <td>0.41978</td>\n",
       "      <td>0.29678</td>\n",
       "      <td>2.51738</td>\n",
       "    </tr>\n",
       "    <tr>\n",
       "      <th>1</th>\n",
       "      <td>0.04884</td>\n",
       "      <td>1.30232</td>\n",
       "      <td>1.40223</td>\n",
       "      <td>0.94784</td>\n",
       "      <td>0.62877</td>\n",
       "      <td>0.14145</td>\n",
       "      <td>0.43630</td>\n",
       "      <td>2.70201</td>\n",
       "    </tr>\n",
       "    <tr>\n",
       "      <th>2</th>\n",
       "      <td>0.03328</td>\n",
       "      <td>1.32548</td>\n",
       "      <td>1.36058</td>\n",
       "      <td>0.87464</td>\n",
       "      <td>0.64938</td>\n",
       "      <td>0.48357</td>\n",
       "      <td>0.34139</td>\n",
       "      <td>2.49204</td>\n",
       "    </tr>\n",
       "    <tr>\n",
       "      <th>3</th>\n",
       "      <td>0.03880</td>\n",
       "      <td>1.45900</td>\n",
       "      <td>1.33095</td>\n",
       "      <td>0.88521</td>\n",
       "      <td>0.66973</td>\n",
       "      <td>0.36503</td>\n",
       "      <td>0.34699</td>\n",
       "      <td>2.46531</td>\n",
       "    </tr>\n",
       "    <tr>\n",
       "      <th>4</th>\n",
       "      <td>0.03553</td>\n",
       "      <td>1.32629</td>\n",
       "      <td>1.32261</td>\n",
       "      <td>0.90563</td>\n",
       "      <td>0.63297</td>\n",
       "      <td>0.32957</td>\n",
       "      <td>0.45811</td>\n",
       "      <td>2.45176</td>\n",
       "    </tr>\n",
       "    <tr>\n",
       "      <th>...</th>\n",
       "      <td>...</td>\n",
       "      <td>...</td>\n",
       "      <td>...</td>\n",
       "      <td>...</td>\n",
       "      <td>...</td>\n",
       "      <td>...</td>\n",
       "      <td>...</td>\n",
       "      <td>...</td>\n",
       "    </tr>\n",
       "    <tr>\n",
       "      <th>150</th>\n",
       "      <td>0.05141</td>\n",
       "      <td>0.46534</td>\n",
       "      <td>0.77115</td>\n",
       "      <td>0.15185</td>\n",
       "      <td>0.46866</td>\n",
       "      <td>0.17922</td>\n",
       "      <td>0.20165</td>\n",
       "      <td>1.41723</td>\n",
       "    </tr>\n",
       "    <tr>\n",
       "      <th>151</th>\n",
       "      <td>0.04324</td>\n",
       "      <td>0.25812</td>\n",
       "      <td>0.85188</td>\n",
       "      <td>0.27125</td>\n",
       "      <td>0.39493</td>\n",
       "      <td>0.12832</td>\n",
       "      <td>0.21747</td>\n",
       "      <td>1.46494</td>\n",
       "    </tr>\n",
       "    <tr>\n",
       "      <th>152</th>\n",
       "      <td>0.03084</td>\n",
       "      <td>0.31982</td>\n",
       "      <td>0.30285</td>\n",
       "      <td>0.30335</td>\n",
       "      <td>0.23414</td>\n",
       "      <td>0.09719</td>\n",
       "      <td>0.36510</td>\n",
       "      <td>1.95210</td>\n",
       "    </tr>\n",
       "    <tr>\n",
       "      <th>154</th>\n",
       "      <td>0.03656</td>\n",
       "      <td>0.28665</td>\n",
       "      <td>0.35386</td>\n",
       "      <td>0.31910</td>\n",
       "      <td>0.48450</td>\n",
       "      <td>0.08010</td>\n",
       "      <td>0.18260</td>\n",
       "      <td>1.63328</td>\n",
       "    </tr>\n",
       "    <tr>\n",
       "      <th>156</th>\n",
       "      <td>0.08658</td>\n",
       "      <td>0.01530</td>\n",
       "      <td>0.41587</td>\n",
       "      <td>0.22396</td>\n",
       "      <td>0.11850</td>\n",
       "      <td>0.10062</td>\n",
       "      <td>0.19727</td>\n",
       "      <td>1.83302</td>\n",
       "    </tr>\n",
       "  </tbody>\n",
       "</table>\n",
       "<p>149 rows × 8 columns</p>\n",
       "</div>"
      ],
      "text/plain": [
       "     Standard Error  Economy (GDP per Capita)   Family  \\\n",
       "0           0.03411                   1.39651  1.34951   \n",
       "1           0.04884                   1.30232  1.40223   \n",
       "2           0.03328                   1.32548  1.36058   \n",
       "3           0.03880                   1.45900  1.33095   \n",
       "4           0.03553                   1.32629  1.32261   \n",
       "..              ...                       ...      ...   \n",
       "150         0.05141                   0.46534  0.77115   \n",
       "151         0.04324                   0.25812  0.85188   \n",
       "152         0.03084                   0.31982  0.30285   \n",
       "154         0.03656                   0.28665  0.35386   \n",
       "156         0.08658                   0.01530  0.41587   \n",
       "\n",
       "     Health (Life Expectancy)  Freedom  Trust (Government Corruption)  \\\n",
       "0                     0.94143  0.66557                        0.41978   \n",
       "1                     0.94784  0.62877                        0.14145   \n",
       "2                     0.87464  0.64938                        0.48357   \n",
       "3                     0.88521  0.66973                        0.36503   \n",
       "4                     0.90563  0.63297                        0.32957   \n",
       "..                        ...      ...                            ...   \n",
       "150                   0.15185  0.46866                        0.17922   \n",
       "151                   0.27125  0.39493                        0.12832   \n",
       "152                   0.30335  0.23414                        0.09719   \n",
       "154                   0.31910  0.48450                        0.08010   \n",
       "156                   0.22396  0.11850                        0.10062   \n",
       "\n",
       "     Generosity  Dystopia Residual  \n",
       "0       0.29678            2.51738  \n",
       "1       0.43630            2.70201  \n",
       "2       0.34139            2.49204  \n",
       "3       0.34699            2.46531  \n",
       "4       0.45811            2.45176  \n",
       "..          ...                ...  \n",
       "150     0.20165            1.41723  \n",
       "151     0.21747            1.46494  \n",
       "152     0.36510            1.95210  \n",
       "154     0.18260            1.63328  \n",
       "156     0.19727            1.83302  \n",
       "\n",
       "[149 rows x 8 columns]"
      ]
     },
     "execution_count": 111,
     "metadata": {},
     "output_type": "execute_result"
    }
   ],
   "source": [
    "x=df_new.iloc[:,4:]\n",
    "x"
   ]
  },
  {
   "cell_type": "code",
   "execution_count": 177,
   "id": "37e91c28",
   "metadata": {},
   "outputs": [],
   "source": [
    "y=df_new.iloc[:,-9]"
   ]
  },
  {
   "cell_type": "code",
   "execution_count": 178,
   "id": "aededd50",
   "metadata": {},
   "outputs": [
    {
     "data": {
      "text/plain": [
       "0      7.587\n",
       "1      7.561\n",
       "2      7.527\n",
       "3      7.522\n",
       "4      7.427\n",
       "       ...  \n",
       "150    3.655\n",
       "151    3.587\n",
       "152    3.575\n",
       "154    3.340\n",
       "156    2.905\n",
       "Name: Happiness Score, Length: 149, dtype: float64"
      ]
     },
     "execution_count": 178,
     "metadata": {},
     "output_type": "execute_result"
    }
   ],
   "source": [
    "y"
   ]
  },
  {
   "cell_type": "markdown",
   "id": "7bf4e71f",
   "metadata": {},
   "source": [
    "# Transforming data to remove Skewness:"
   ]
  },
  {
   "cell_type": "code",
   "execution_count": 143,
   "id": "de4f7acc",
   "metadata": {},
   "outputs": [],
   "source": [
    "from sklearn.preprocessing import power_transform"
   ]
  },
  {
   "cell_type": "code",
   "execution_count": 145,
   "id": "7029e6f7",
   "metadata": {},
   "outputs": [],
   "source": [
    "x=power_transform(x,method='yeo-johnson')\n"
   ]
  },
  {
   "cell_type": "code",
   "execution_count": 146,
   "id": "3631fd56",
   "metadata": {},
   "outputs": [
    {
     "data": {
      "text/plain": [
       "numpy.ndarray"
      ]
     },
     "execution_count": 146,
     "metadata": {},
     "output_type": "execute_result"
    }
   ],
   "source": [
    "type(x)"
   ]
  },
  {
   "cell_type": "code",
   "execution_count": 147,
   "id": "1a3ac0b5",
   "metadata": {},
   "outputs": [
    {
     "data": {
      "text/plain": [
       "2"
      ]
     },
     "execution_count": 147,
     "metadata": {},
     "output_type": "execute_result"
    }
   ],
   "source": [
    "x.ndim"
   ]
  },
  {
   "cell_type": "code",
   "execution_count": 148,
   "id": "9a2c6a61",
   "metadata": {},
   "outputs": [
    {
     "data": {
      "text/plain": [
       "array([[-0.95033703,  1.49245411,  1.65888016, ...,  1.81762514,\n",
       "         0.65957855,  0.75525527],\n",
       "       [ 0.37856181,  1.19406711,  2.00912496, ...,  0.32967608,\n",
       "         1.56260401,  1.11116834],\n",
       "       [-1.04140135,  1.26661161,  1.73078528, ...,  1.95339957,\n",
       "         0.97722591,  0.70649452],\n",
       "       ...,\n",
       "       [-1.32081011, -1.36521585, -2.08738878, ..., -0.19284339,\n",
       "         1.13425805, -0.32711524],\n",
       "       [-0.69272644, -1.43304072, -2.01044293, ..., -0.4344978 ,\n",
       "        -0.31207994, -0.93216364],\n",
       "       [ 2.17876606, -1.93874732, -1.90641014, ..., -0.14727363,\n",
       "        -0.17248608, -0.55359236]])"
      ]
     },
     "execution_count": 148,
     "metadata": {},
     "output_type": "execute_result"
    }
   ],
   "source": [
    "from sklearn.preprocessing import StandardScaler\n",
    "\n",
    "sc=StandardScaler()\n",
    "x=sc.fit_transform(x)\n",
    "x\n"
   ]
  },
  {
   "cell_type": "code",
   "execution_count": 149,
   "id": "410e1113",
   "metadata": {},
   "outputs": [
    {
     "data": {
      "text/plain": [
       "1.490232247819002e-18"
      ]
     },
     "execution_count": 149,
     "metadata": {},
     "output_type": "execute_result"
    }
   ],
   "source": [
    "x.mean()"
   ]
  },
  {
   "cell_type": "code",
   "execution_count": 150,
   "id": "8a26a378",
   "metadata": {},
   "outputs": [
    {
     "data": {
      "text/plain": [
       "1.0"
      ]
     },
     "execution_count": 150,
     "metadata": {},
     "output_type": "execute_result"
    }
   ],
   "source": [
    "x.std()"
   ]
  },
  {
   "cell_type": "markdown",
   "id": "a0bc331b",
   "metadata": {},
   "source": [
    "# Splitting the dataframe:"
   ]
  },
  {
   "cell_type": "code",
   "execution_count": 157,
   "id": "9dbbe436",
   "metadata": {},
   "outputs": [],
   "source": [
    "x_train,x_test,y_train,y_test=train_test_split(x,y,test_size=.20,random_state=90)"
   ]
  },
  {
   "cell_type": "code",
   "execution_count": 158,
   "id": "64e0cd1c",
   "metadata": {},
   "outputs": [
    {
     "data": {
      "text/plain": [
       "(119, 8)"
      ]
     },
     "execution_count": 158,
     "metadata": {},
     "output_type": "execute_result"
    }
   ],
   "source": [
    "x_train.shape"
   ]
  },
  {
   "cell_type": "code",
   "execution_count": 159,
   "id": "748a7eb2",
   "metadata": {},
   "outputs": [
    {
     "data": {
      "text/plain": [
       "(30, 8)"
      ]
     },
     "execution_count": 159,
     "metadata": {},
     "output_type": "execute_result"
    }
   ],
   "source": [
    "x_test.shape"
   ]
  },
  {
   "cell_type": "code",
   "execution_count": 160,
   "id": "213a937d",
   "metadata": {},
   "outputs": [
    {
     "data": {
      "text/plain": [
       "(119,)"
      ]
     },
     "execution_count": 160,
     "metadata": {},
     "output_type": "execute_result"
    }
   ],
   "source": [
    "y_train.shape"
   ]
  },
  {
   "cell_type": "code",
   "execution_count": 161,
   "id": "0f727f8c",
   "metadata": {},
   "outputs": [
    {
     "data": {
      "text/plain": [
       "(30,)"
      ]
     },
     "execution_count": 161,
     "metadata": {},
     "output_type": "execute_result"
    }
   ],
   "source": [
    "y_test.shape"
   ]
  },
  {
   "cell_type": "code",
   "execution_count": 207,
   "id": "b4aef1a7",
   "metadata": {},
   "outputs": [],
   "source": [
    "lr=LinearRegression()"
   ]
  },
  {
   "cell_type": "code",
   "execution_count": 208,
   "id": "03e469ac",
   "metadata": {},
   "outputs": [
    {
     "data": {
      "text/plain": [
       "LinearRegression()"
      ]
     },
     "execution_count": 208,
     "metadata": {},
     "output_type": "execute_result"
    }
   ],
   "source": [
    "lr.fit(x_train,y_train)"
   ]
  },
  {
   "cell_type": "code",
   "execution_count": 209,
   "id": "0df3a27d",
   "metadata": {},
   "outputs": [
    {
     "data": {
      "text/plain": [
       "array([0.00546828, 0.39011802, 0.24669554, 0.26076631, 0.15451022,\n",
       "       0.07637051, 0.09156642, 0.51200131])"
      ]
     },
     "execution_count": 209,
     "metadata": {},
     "output_type": "execute_result"
    }
   ],
   "source": [
    "lr.coef_"
   ]
  },
  {
   "cell_type": "code",
   "execution_count": 210,
   "id": "13f17af3",
   "metadata": {},
   "outputs": [
    {
     "data": {
      "text/plain": [
       "5.423939007127552"
      ]
     },
     "execution_count": 210,
     "metadata": {},
     "output_type": "execute_result"
    }
   ],
   "source": [
    "lr.intercept_"
   ]
  },
  {
   "cell_type": "code",
   "execution_count": 215,
   "id": "7d28ef64",
   "metadata": {},
   "outputs": [
    {
     "name": "stdout",
     "output_type": "stream",
     "text": [
      "Predicted Happiness Score: [3.82469506 7.18946795 5.21839108 4.31296686 7.42778163 4.94266194\n",
      " 5.12421968 4.68122172 6.7910441  5.15320319 4.31145442 4.77513266\n",
      " 4.24062967 4.88142806 4.27413508 7.01407612 7.29941989 5.31674774\n",
      " 5.08674888 4.66732645 5.15653771 5.8147805  5.93672823 5.08883486\n",
      " 4.53723854 7.33907998 6.17137046 3.74264684 5.71192996 4.64301279]\n",
      "Actual Happiness Score: 144    3.819\n",
      "8      7.286\n",
      "77     5.268\n",
      "124    4.419\n",
      "4      7.427\n",
      "92     5.007\n",
      "81     5.192\n",
      "111    4.677\n",
      "24     6.786\n",
      "73     5.399\n",
      "126    4.350\n",
      "90     5.057\n",
      "132    4.252\n",
      "97     4.885\n",
      "129    4.297\n",
      "16     6.946\n",
      "9      7.284\n",
      "74     5.360\n",
      "84     5.129\n",
      "109    4.686\n",
      "87     5.102\n",
      "53     5.855\n",
      "48     5.960\n",
      "83     5.140\n",
      "121    4.512\n",
      "6      7.378\n",
      "45     5.987\n",
      "152    3.575\n",
      "60     5.770\n",
      "107    4.715\n",
      "Name: Happiness Score, dtype: float64\n"
     ]
    }
   ],
   "source": [
    "#predict the value\n",
    "pred=lr.predict(x_test)\n",
    "print('Predicted Happiness Score:',pred)\n",
    "print('Actual Happiness Score:',y_test)"
   ]
  },
  {
   "cell_type": "code",
   "execution_count": 205,
   "id": "d0497a64",
   "metadata": {},
   "outputs": [],
   "source": [
    "from sklearn.preprocessing import MinMaxScaler\n",
    "mms=MinMaxScaler()\n",
    "from sklearn.linear_model import LinearRegression\n",
    "lr=LinearRegression()\n",
    "from sklearn.metrics import r2_score\n",
    "\n",
    "from sklearn.model_selection import train_test_split\n",
    "\n",
    "from sklearn.metrics import accuracy_score,confusion_matrix,classification_report"
   ]
  },
  {
   "cell_type": "code",
   "execution_count": 180,
   "id": "2b62d3ba",
   "metadata": {},
   "outputs": [],
   "source": [
    "import warnings\n",
    "warnings.filterwarnings('ignore')"
   ]
  },
  {
   "cell_type": "code",
   "execution_count": 185,
   "id": "4babec88",
   "metadata": {},
   "outputs": [
    {
     "name": "stdout",
     "output_type": "stream",
     "text": [
      "At random state0,the training accuracy is:- 0.9941982955173955\n",
      "At random state0,the testing accuracy is:- 0.994748240521683\n",
      "\n",
      "\n",
      "At random state1,the training accuracy is:- 0.9940659187607843\n",
      "At random state1,the testing accuracy is:- 0.9955203804156323\n",
      "\n",
      "\n",
      "At random state2,the training accuracy is:- 0.9946763776418325\n",
      "At random state2,the testing accuracy is:- 0.9923505339277224\n",
      "\n",
      "\n",
      "At random state3,the training accuracy is:- 0.9945717527577527\n",
      "At random state3,the testing accuracy is:- 0.9924390983409589\n",
      "\n",
      "\n",
      "At random state4,the training accuracy is:- 0.9942864745534269\n",
      "At random state4,the testing accuracy is:- 0.9934322147420919\n",
      "\n",
      "\n",
      "At random state5,the training accuracy is:- 0.9948747070828916\n",
      "At random state5,the testing accuracy is:- 0.9908303500241534\n",
      "\n",
      "\n",
      "At random state6,the training accuracy is:- 0.9952331413322157\n",
      "At random state6,the testing accuracy is:- 0.9895293341455182\n",
      "\n",
      "\n",
      "At random state7,the training accuracy is:- 0.9951273808383169\n",
      "At random state7,the testing accuracy is:- 0.9869561914382385\n",
      "\n",
      "\n",
      "At random state8,the training accuracy is:- 0.9946779101905551\n",
      "At random state8,the testing accuracy is:- 0.9927406715156951\n",
      "\n",
      "\n",
      "At random state9,the training accuracy is:- 0.9947879096062683\n",
      "At random state9,the testing accuracy is:- 0.9905409394865592\n",
      "\n",
      "\n",
      "At random state10,the training accuracy is:- 0.9946253158028778\n",
      "At random state10,the testing accuracy is:- 0.9926012876306312\n",
      "\n",
      "\n",
      "At random state11,the training accuracy is:- 0.9937773957527946\n",
      "At random state11,the testing accuracy is:- 0.9961692315226315\n",
      "\n",
      "\n",
      "At random state12,the training accuracy is:- 0.9943529897998734\n",
      "At random state12,the testing accuracy is:- 0.9935782871651744\n",
      "\n",
      "\n",
      "At random state13,the training accuracy is:- 0.9946167264112867\n",
      "At random state13,the testing accuracy is:- 0.9919721866352942\n",
      "\n",
      "\n",
      "At random state14,the training accuracy is:- 0.9937439718619299\n",
      "At random state14,the testing accuracy is:- 0.9955362193273237\n",
      "\n",
      "\n",
      "At random state15,the training accuracy is:- 0.9937657641127642\n",
      "At random state15,the testing accuracy is:- 0.9964539621881651\n",
      "\n",
      "\n",
      "At random state16,the training accuracy is:- 0.9946688288395418\n",
      "At random state16,the testing accuracy is:- 0.9922417788801161\n",
      "\n",
      "\n",
      "At random state17,the training accuracy is:- 0.9943767226904531\n",
      "At random state17,the testing accuracy is:- 0.9934436985419958\n",
      "\n",
      "\n",
      "At random state18,the training accuracy is:- 0.9945904959953634\n",
      "At random state18,the testing accuracy is:- 0.992700319436156\n",
      "\n",
      "\n",
      "At random state19,the training accuracy is:- 0.9945376891808576\n",
      "At random state19,the testing accuracy is:- 0.9924953015302361\n",
      "\n",
      "\n",
      "At random state20,the training accuracy is:- 0.9945967794818821\n",
      "At random state20,the testing accuracy is:- 0.9925928138771766\n",
      "\n",
      "\n",
      "At random state21,the training accuracy is:- 0.9946614465917902\n",
      "At random state21,the testing accuracy is:- 0.9913295178457557\n",
      "\n",
      "\n",
      "At random state22,the training accuracy is:- 0.9952151158942136\n",
      "At random state22,the testing accuracy is:- 0.9865790520619937\n",
      "\n",
      "\n",
      "At random state23,the training accuracy is:- 0.9942161942080434\n",
      "At random state23,the testing accuracy is:- 0.9942630098359643\n",
      "\n",
      "\n",
      "At random state24,the training accuracy is:- 0.9940278792070908\n",
      "At random state24,the testing accuracy is:- 0.9946195497756716\n",
      "\n",
      "\n",
      "At random state25,the training accuracy is:- 0.9944061315387105\n",
      "At random state25,the testing accuracy is:- 0.9933157697347529\n",
      "\n",
      "\n",
      "At random state26,the training accuracy is:- 0.9945963939427603\n",
      "At random state26,the testing accuracy is:- 0.9929930206779178\n",
      "\n",
      "\n",
      "At random state27,the training accuracy is:- 0.9943987612641381\n",
      "At random state27,the testing accuracy is:- 0.9931835619671577\n",
      "\n",
      "\n",
      "At random state28,the training accuracy is:- 0.994447704752868\n",
      "At random state28,the testing accuracy is:- 0.9934201832726481\n",
      "\n",
      "\n",
      "At random state29,the training accuracy is:- 0.9942665066490344\n",
      "At random state29,the testing accuracy is:- 0.993143766814812\n",
      "\n",
      "\n",
      "At random state30,the training accuracy is:- 0.9935872862206718\n",
      "At random state30,the testing accuracy is:- 0.995579668165009\n",
      "\n",
      "\n",
      "At random state31,the training accuracy is:- 0.9940130540652238\n",
      "At random state31,the testing accuracy is:- 0.9952845155671127\n",
      "\n",
      "\n",
      "At random state32,the training accuracy is:- 0.994460973825763\n",
      "At random state32,the testing accuracy is:- 0.9930646167776281\n",
      "\n",
      "\n",
      "At random state33,the training accuracy is:- 0.9948057068837589\n",
      "At random state33,the testing accuracy is:- 0.9917457514261152\n",
      "\n",
      "\n",
      "At random state34,the training accuracy is:- 0.9945937057578438\n",
      "At random state34,the testing accuracy is:- 0.9911818109043807\n",
      "\n",
      "\n",
      "At random state35,the training accuracy is:- 0.9945552985305802\n",
      "At random state35,the testing accuracy is:- 0.992837783220487\n",
      "\n",
      "\n",
      "At random state36,the training accuracy is:- 0.9938672567589257\n",
      "At random state36,the testing accuracy is:- 0.9960208305849694\n",
      "\n",
      "\n",
      "At random state37,the training accuracy is:- 0.99315779961674\n",
      "At random state37,the testing accuracy is:- 0.9974597733315452\n",
      "\n",
      "\n",
      "At random state38,the training accuracy is:- 0.9946650371290245\n",
      "At random state38,the testing accuracy is:- 0.9910632691379363\n",
      "\n",
      "\n",
      "At random state39,the training accuracy is:- 0.9941221806748909\n",
      "At random state39,the testing accuracy is:- 0.9947104639856633\n",
      "\n",
      "\n",
      "At random state40,the training accuracy is:- 0.9944094045068502\n",
      "At random state40,the testing accuracy is:- 0.9934613219054371\n",
      "\n",
      "\n",
      "At random state41,the training accuracy is:- 0.9948180315431584\n",
      "At random state41,the testing accuracy is:- 0.9910329120269092\n",
      "\n",
      "\n",
      "At random state42,the training accuracy is:- 0.9938086944419373\n",
      "At random state42,the testing accuracy is:- 0.9962654304730582\n",
      "\n",
      "\n",
      "At random state43,the training accuracy is:- 0.993935294907153\n",
      "At random state43,the testing accuracy is:- 0.9947764286910485\n",
      "\n",
      "\n",
      "At random state44,the training accuracy is:- 0.9947898394424185\n",
      "At random state44,the testing accuracy is:- 0.9919751948498898\n",
      "\n",
      "\n",
      "At random state45,the training accuracy is:- 0.9943456712020234\n",
      "At random state45,the testing accuracy is:- 0.9934316203005564\n",
      "\n",
      "\n",
      "At random state46,the training accuracy is:- 0.9947520270303125\n",
      "At random state46,the testing accuracy is:- 0.9909368853241983\n",
      "\n",
      "\n",
      "At random state47,the training accuracy is:- 0.993887811854278\n",
      "At random state47,the testing accuracy is:- 0.9950578877543679\n",
      "\n",
      "\n",
      "At random state48,the training accuracy is:- 0.9949689795777287\n",
      "At random state48,the testing accuracy is:- 0.9903634942080856\n",
      "\n",
      "\n",
      "At random state49,the training accuracy is:- 0.9937808716020665\n",
      "At random state49,the testing accuracy is:- 0.9961272169377937\n",
      "\n",
      "\n",
      "At random state50,the training accuracy is:- 0.9942524471298133\n",
      "At random state50,the testing accuracy is:- 0.993646847249328\n",
      "\n",
      "\n",
      "At random state51,the training accuracy is:- 0.994336989564615\n",
      "At random state51,the testing accuracy is:- 0.9936812516208076\n",
      "\n",
      "\n",
      "At random state52,the training accuracy is:- 0.9949879169218917\n",
      "At random state52,the testing accuracy is:- 0.9902360612842843\n",
      "\n",
      "\n",
      "At random state53,the training accuracy is:- 0.9944600722092933\n",
      "At random state53,the testing accuracy is:- 0.9926805453140161\n",
      "\n",
      "\n",
      "At random state54,the training accuracy is:- 0.9947082856704073\n",
      "At random state54,the testing accuracy is:- 0.9911993743481138\n",
      "\n",
      "\n",
      "At random state55,the training accuracy is:- 0.99518264648022\n",
      "At random state55,the testing accuracy is:- 0.9902562669697006\n",
      "\n",
      "\n",
      "At random state56,the training accuracy is:- 0.9934717058085164\n",
      "At random state56,the testing accuracy is:- 0.9969230831023292\n",
      "\n",
      "\n",
      "At random state57,the training accuracy is:- 0.9947644272727969\n",
      "At random state57,the testing accuracy is:- 0.9907049987659408\n",
      "\n",
      "\n",
      "At random state58,the training accuracy is:- 0.9939287363881271\n",
      "At random state58,the testing accuracy is:- 0.9955753822678169\n",
      "\n",
      "\n",
      "At random state59,the training accuracy is:- 0.9942130268395091\n",
      "At random state59,the testing accuracy is:- 0.9943081121133612\n",
      "\n",
      "\n",
      "At random state60,the training accuracy is:- 0.9932932247972182\n",
      "At random state60,the testing accuracy is:- 0.9977542532602311\n",
      "\n",
      "\n",
      "At random state61,the training accuracy is:- 0.9950179025075516\n",
      "At random state61,the testing accuracy is:- 0.9904467090546087\n",
      "\n",
      "\n",
      "At random state62,the training accuracy is:- 0.9945589968217194\n",
      "At random state62,the testing accuracy is:- 0.9925125585275582\n",
      "\n",
      "\n",
      "At random state63,the training accuracy is:- 0.9943517571995281\n",
      "At random state63,the testing accuracy is:- 0.9930933432641722\n",
      "\n",
      "\n",
      "At random state64,the training accuracy is:- 0.994519989993832\n",
      "At random state64,the testing accuracy is:- 0.9928826395232061\n",
      "\n",
      "\n",
      "At random state65,the training accuracy is:- 0.9943757852023957\n",
      "At random state65,the testing accuracy is:- 0.9934175996548522\n",
      "\n",
      "\n",
      "At random state66,the training accuracy is:- 0.9940863147803344\n",
      "At random state66,the testing accuracy is:- 0.9947308938720409\n",
      "\n",
      "\n",
      "At random state67,the training accuracy is:- 0.9948701298292594\n",
      "At random state67,the testing accuracy is:- 0.9904494334434402\n",
      "\n",
      "\n",
      "At random state68,the training accuracy is:- 0.9938380191225089\n",
      "At random state68,the testing accuracy is:- 0.9951807575315733\n",
      "\n",
      "\n",
      "At random state69,the training accuracy is:- 0.994300087424532\n",
      "At random state69,the testing accuracy is:- 0.9941500819528817\n",
      "\n",
      "\n",
      "At random state70,the training accuracy is:- 0.9941661834000435\n",
      "At random state70,the testing accuracy is:- 0.9947036444924617\n",
      "\n",
      "\n",
      "At random state71,the training accuracy is:- 0.994123980143541\n",
      "At random state71,the testing accuracy is:- 0.9946885682247192\n",
      "\n",
      "\n",
      "At random state72,the training accuracy is:- 0.995040342199831\n",
      "At random state72,the testing accuracy is:- 0.9917602479380591\n",
      "\n",
      "\n",
      "At random state73,the training accuracy is:- 0.9942945242575043\n",
      "At random state73,the testing accuracy is:- 0.9941452627470223\n",
      "\n",
      "\n",
      "At random state74,the training accuracy is:- 0.994345641672881\n",
      "At random state74,the testing accuracy is:- 0.9937824962271558\n",
      "\n",
      "\n",
      "At random state75,the training accuracy is:- 0.9944286881013005\n",
      "At random state75,the testing accuracy is:- 0.9932049007978031\n",
      "\n",
      "\n",
      "At random state76,the training accuracy is:- 0.9951866515097408\n",
      "At random state76,the testing accuracy is:- 0.9882662656015518\n",
      "\n",
      "\n",
      "At random state77,the training accuracy is:- 0.993793089575987\n",
      "At random state77,the testing accuracy is:- 0.9959430631492643\n",
      "\n",
      "\n",
      "At random state78,the training accuracy is:- 0.9945810175454461\n",
      "At random state78,the testing accuracy is:- 0.9914905656152967\n",
      "\n",
      "\n",
      "At random state79,the training accuracy is:- 0.9940678100733245\n",
      "At random state79,the testing accuracy is:- 0.9948254769254349\n",
      "\n",
      "\n",
      "At random state80,the training accuracy is:- 0.9946405052295529\n",
      "At random state80,the testing accuracy is:- 0.9914513007632682\n",
      "\n",
      "\n",
      "At random state81,the training accuracy is:- 0.9938573366996322\n",
      "At random state81,the testing accuracy is:- 0.9953341670274829\n",
      "\n",
      "\n",
      "At random state82,the training accuracy is:- 0.9952538506290778\n",
      "At random state82,the testing accuracy is:- 0.9886974884891839\n",
      "\n",
      "\n",
      "At random state83,the training accuracy is:- 0.9946568910608673\n",
      "At random state83,the testing accuracy is:- 0.9915271201916132\n",
      "\n",
      "\n",
      "At random state84,the training accuracy is:- 0.993599605777899\n",
      "At random state84,the testing accuracy is:- 0.9966876771530242\n",
      "\n",
      "\n",
      "At random state85,the training accuracy is:- 0.9951858848347819\n",
      "At random state85,the testing accuracy is:- 0.9891328405954961\n",
      "\n",
      "\n",
      "At random state86,the training accuracy is:- 0.9943909928757673\n",
      "At random state86,the testing accuracy is:- 0.9938283441772622\n",
      "\n",
      "\n",
      "At random state87,the training accuracy is:- 0.9941351841143413\n",
      "At random state87,the testing accuracy is:- 0.9940007952137104\n",
      "\n",
      "\n",
      "At random state88,the training accuracy is:- 0.9943306148007421\n",
      "At random state88,the testing accuracy is:- 0.993803134341047\n",
      "\n",
      "\n",
      "At random state89,the training accuracy is:- 0.994298757196371\n",
      "At random state89,the testing accuracy is:- 0.9935345507833064\n",
      "\n",
      "\n",
      "At random state90,the training accuracy is:- 0.9946785237405779\n",
      "At random state90,the testing accuracy is:- 0.991737283831643\n",
      "\n",
      "\n",
      "At random state91,the training accuracy is:- 0.9937609718271604\n",
      "At random state91,the testing accuracy is:- 0.996846667620555\n",
      "\n",
      "\n",
      "At random state92,the training accuracy is:- 0.995392980646686\n",
      "At random state92,the testing accuracy is:- 0.9889524919070365\n",
      "\n",
      "\n",
      "At random state93,the training accuracy is:- 0.9952996733871701\n",
      "At random state93,the testing accuracy is:- 0.9899701944445045\n",
      "\n",
      "\n",
      "At random state94,the training accuracy is:- 0.9941734518819946\n",
      "At random state94,the testing accuracy is:- 0.994736420854719\n",
      "\n",
      "\n",
      "At random state95,the training accuracy is:- 0.9940874083523951\n",
      "At random state95,the testing accuracy is:- 0.9945769449327602\n",
      "\n",
      "\n",
      "At random state96,the training accuracy is:- 0.9946176028659457\n",
      "At random state96,the testing accuracy is:- 0.9918254780965464\n",
      "\n",
      "\n",
      "At random state97,the training accuracy is:- 0.9938547708534086\n",
      "At random state97,the testing accuracy is:- 0.9952291293325625\n",
      "\n",
      "\n",
      "At random state98,the training accuracy is:- 0.9950717620083237\n",
      "At random state98,the testing accuracy is:- 0.9885575756461192\n",
      "\n",
      "\n",
      "At random state99,the training accuracy is:- 0.9946773121778363\n",
      "At random state99,the testing accuracy is:- 0.9922524718172714\n",
      "\n",
      "\n"
     ]
    }
   ],
   "source": [
    "for i in range(0,100):\n",
    "    x_train,x_test,y_train,y_test=train_test_split(x,y,test_size=0.2,random_state=i)\n",
    "    lr.fit(x_train,y_train)\n",
    "    pred_train=lr.predict(x_train)\n",
    "    pred_test=lr.predict(x_test)\n",
    "    print(f\"At random state{i},the training accuracy is:- {r2_score(y_train,pred_train)}\")\n",
    "    print(f\"At random state{i},the testing accuracy is:- {r2_score(y_test,pred_test)}\")\n",
    "    print(\"\\n\")"
   ]
  },
  {
   "cell_type": "code",
   "execution_count": 186,
   "id": "8f9b51ff",
   "metadata": {},
   "outputs": [
    {
     "data": {
      "text/plain": [
       "LinearRegression()"
      ]
     },
     "execution_count": 186,
     "metadata": {},
     "output_type": "execute_result"
    }
   ],
   "source": [
    "lr.fit(x_train,y_train)"
   ]
  },
  {
   "cell_type": "code",
   "execution_count": 193,
   "id": "f79ccf60",
   "metadata": {},
   "outputs": [
    {
     "data": {
      "text/plain": [
       "array([3.82469506, 7.18946795, 5.21839108, 4.31296686, 7.42778163,\n",
       "       4.94266194, 5.12421968, 4.68122172, 6.7910441 , 5.15320319,\n",
       "       4.31145442, 4.77513266, 4.24062967, 4.88142806, 4.27413508,\n",
       "       7.01407612, 7.29941989, 5.31674774, 5.08674888, 4.66732645,\n",
       "       5.15653771, 5.8147805 , 5.93672823, 5.08883486, 4.53723854,\n",
       "       7.33907998, 6.17137046, 3.74264684, 5.71192996, 4.64301279])"
      ]
     },
     "execution_count": 193,
     "metadata": {},
     "output_type": "execute_result"
    }
   ],
   "source": [
    "lr.predict(x_test)"
   ]
  },
  {
   "cell_type": "code",
   "execution_count": 195,
   "id": "0523ed03",
   "metadata": {},
   "outputs": [],
   "source": [
    "pred_test=lr.predict(x_test)"
   ]
  },
  {
   "cell_type": "code",
   "execution_count": 196,
   "id": "d5eba82c",
   "metadata": {},
   "outputs": [
    {
     "data": {
      "text/plain": [
       "array([3.82469506, 7.18946795, 5.21839108, 4.31296686, 7.42778163,\n",
       "       4.94266194, 5.12421968, 4.68122172, 6.7910441 , 5.15320319,\n",
       "       4.31145442, 4.77513266, 4.24062967, 4.88142806, 4.27413508,\n",
       "       7.01407612, 7.29941989, 5.31674774, 5.08674888, 4.66732645,\n",
       "       5.15653771, 5.8147805 , 5.93672823, 5.08883486, 4.53723854,\n",
       "       7.33907998, 6.17137046, 3.74264684, 5.71192996, 4.64301279])"
      ]
     },
     "execution_count": 196,
     "metadata": {},
     "output_type": "execute_result"
    }
   ],
   "source": [
    "pred_test"
   ]
  },
  {
   "cell_type": "code",
   "execution_count": 198,
   "id": "a5fa6954",
   "metadata": {},
   "outputs": [
    {
     "name": "stdout",
     "output_type": "stream",
     "text": [
      "0.9922524718172714\n"
     ]
    }
   ],
   "source": [
    "print(r2_score(y_test,pred_test))"
   ]
  },
  {
   "cell_type": "markdown",
   "id": "e0e84f44",
   "metadata": {},
   "source": [
    "# Cross Validation:"
   ]
  },
  {
   "cell_type": "code",
   "execution_count": 189,
   "id": "6af0c7f4",
   "metadata": {},
   "outputs": [
    {
     "name": "stdout",
     "output_type": "stream",
     "text": [
      "At cross fold 2 the cv score is 0.8496218971265873 and accuracy score for training is 0.9946773121778363 and accuracy for the testing is0.9922524718172714\n",
      "\n",
      "\n",
      "At cross fold 3 the cv score is 0.8848139146287543 and accuracy score for training is 0.9946773121778363 and accuracy for the testing is0.9922524718172714\n",
      "\n",
      "\n",
      "At cross fold 4 the cv score is 0.824000417758892 and accuracy score for training is 0.9946773121778363 and accuracy for the testing is0.9922524718172714\n",
      "\n",
      "\n",
      "At cross fold 5 the cv score is 0.8109522872943644 and accuracy score for training is 0.9946773121778363 and accuracy for the testing is0.9922524718172714\n",
      "\n",
      "\n",
      "At cross fold 6 the cv score is 0.7412325287611082 and accuracy score for training is 0.9946773121778363 and accuracy for the testing is0.9922524718172714\n",
      "\n",
      "\n",
      "At cross fold 7 the cv score is 0.6022631910382402 and accuracy score for training is 0.9946773121778363 and accuracy for the testing is0.9922524718172714\n",
      "\n",
      "\n",
      "At cross fold 8 the cv score is 0.5756486133834751 and accuracy score for training is 0.9946773121778363 and accuracy for the testing is0.9922524718172714\n",
      "\n",
      "\n",
      "At cross fold 9 the cv score is 0.4832960943167747 and accuracy score for training is 0.9946773121778363 and accuracy for the testing is0.9922524718172714\n",
      "\n",
      "\n"
     ]
    }
   ],
   "source": [
    "Train_accuracy=r2_score(y_train,pred_train)\n",
    "Test_accuracy=r2_score(y_test,pred_test)\n",
    "\n",
    "from sklearn.model_selection import cross_val_score\n",
    "for j in range(2,10):\n",
    "    cv_score=cross_val_score(lr,x,y,cv=j)\n",
    "    cv_mean=cv_score.mean()\n",
    "    print(f\"At cross fold {j} the cv score is {cv_mean} and accuracy score for training is {Train_accuracy} and accuracy for the testing is{Test_accuracy}\")\n",
    "    print(\"\\n\")"
   ]
  },
  {
   "cell_type": "markdown",
   "id": "3949e1ca",
   "metadata": {},
   "source": [
    "Fold 3 is selected, that is cv=3 which gives a high score of 0.884"
   ]
  },
  {
   "cell_type": "code",
   "execution_count": 191,
   "id": "6d5f56a0",
   "metadata": {},
   "outputs": [
    {
     "data": {
      "image/png": "[encoded data removed]",
      "text/plain": [
       "<Figure size 576x432 with 1 Axes>"
      ]
     },
     "metadata": {
      "needs_background": "light"
     },
     "output_type": "display_data"
    }
   ],
   "source": [
    "import matplotlib.pyplot as plt\n",
    "plt.figure(figsize=(8,6))\n",
    "plt.scatter(x=y_test,y=pred_test,color='r')\n",
    "plt.plot(y_test,y_test,color='b')\n",
    "plt.xlabel('Actual Score',fontsize=14)\n",
    "plt.ylabel('predicted Score',fontsize=14)\n",
    "plt.title('Linear Regression',fontsize=18)\n",
    "plt.savefig('lr.png')\n",
    "plt.show()"
   ]
  },
  {
   "cell_type": "markdown",
   "id": "9c5e0e0a",
   "metadata": {},
   "source": [
    "The BestFit line is covering most of the data point which is an indication of how good the model is."
   ]
  },
  {
   "cell_type": "code",
   "execution_count": null,
   "id": "5d63e46d",
   "metadata": {},
   "outputs": [],
   "source": []
  }
 ],
 "metadata": {
  "kernelspec": {
   "display_name": "Python 3 (ipykernel)",
   "language": "python",
   "name": "python3"
  },
  "language_info": {
   "codemirror_mode": {
    "name": "ipython",
    "version": 3
   },
   "file_extension": ".py",
   "mimetype": "text/x-python",
   "name": "python",
   "nbconvert_exporter": "python",
   "pygments_lexer": "ipython3",
   "version": "3.9.7"
  }
 },
 "nbformat": 4,
 "nbformat_minor": 5
}
