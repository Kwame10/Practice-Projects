{
 "cells": [
  {
   "cell_type": "code",
   "execution_count": 1891,
   "id": "456e85a0",
   "metadata": {},
   "outputs": [],
   "source": [
    "import pandas as pd\n",
    "import numpy as np\n",
    "import seaborn as sns\n",
    "import matplotlib.pyplot as plt"
   ]
  },
  {
   "cell_type": "code",
   "execution_count": 1892,
   "id": "009d34f0",
   "metadata": {},
   "outputs": [
    {
     "data": {
      "text/html": [
       "<div>\n",
       "<style scoped>\n",
       "    .dataframe tbody tr th:only-of-type {\n",
       "        vertical-align: middle;\n",
       "    }\n",
       "\n",
       "    .dataframe tbody tr th {\n",
       "        vertical-align: top;\n",
       "    }\n",
       "\n",
       "    .dataframe thead th {\n",
       "        text-align: right;\n",
       "    }\n",
       "</style>\n",
       "<table border=\"1\" class=\"dataframe\">\n",
       "  <thead>\n",
       "    <tr style=\"text-align: right;\">\n",
       "      <th></th>\n",
       "      <th>country</th>\n",
       "      <th>country_long</th>\n",
       "      <th>name</th>\n",
       "      <th>gppd_idnr</th>\n",
       "      <th>capacity_mw</th>\n",
       "      <th>latitude</th>\n",
       "      <th>longitude</th>\n",
       "      <th>primary_fuel</th>\n",
       "      <th>other_fuel1</th>\n",
       "      <th>other_fuel2</th>\n",
       "      <th>...</th>\n",
       "      <th>year_of_capacity_data</th>\n",
       "      <th>generation_gwh_2013</th>\n",
       "      <th>generation_gwh_2014</th>\n",
       "      <th>generation_gwh_2015</th>\n",
       "      <th>generation_gwh_2016</th>\n",
       "      <th>generation_gwh_2017</th>\n",
       "      <th>generation_gwh_2018</th>\n",
       "      <th>generation_gwh_2019</th>\n",
       "      <th>generation_data_source</th>\n",
       "      <th>estimated_generation_gwh</th>\n",
       "    </tr>\n",
       "  </thead>\n",
       "  <tbody>\n",
       "    <tr>\n",
       "      <th>0</th>\n",
       "      <td>IND</td>\n",
       "      <td>India</td>\n",
       "      <td>ACME Solar Tower</td>\n",
       "      <td>WRI1020239</td>\n",
       "      <td>2.5</td>\n",
       "      <td>28.1839</td>\n",
       "      <td>73.2407</td>\n",
       "      <td>Solar</td>\n",
       "      <td>NaN</td>\n",
       "      <td>NaN</td>\n",
       "      <td>...</td>\n",
       "      <td>NaN</td>\n",
       "      <td>NaN</td>\n",
       "      <td>NaN</td>\n",
       "      <td>NaN</td>\n",
       "      <td>NaN</td>\n",
       "      <td>NaN</td>\n",
       "      <td>NaN</td>\n",
       "      <td>NaN</td>\n",
       "      <td>NaN</td>\n",
       "      <td>NaN</td>\n",
       "    </tr>\n",
       "    <tr>\n",
       "      <th>1</th>\n",
       "      <td>IND</td>\n",
       "      <td>India</td>\n",
       "      <td>ADITYA CEMENT WORKS</td>\n",
       "      <td>WRI1019881</td>\n",
       "      <td>98.0</td>\n",
       "      <td>24.7663</td>\n",
       "      <td>74.6090</td>\n",
       "      <td>Coal</td>\n",
       "      <td>NaN</td>\n",
       "      <td>NaN</td>\n",
       "      <td>...</td>\n",
       "      <td>NaN</td>\n",
       "      <td>NaN</td>\n",
       "      <td>NaN</td>\n",
       "      <td>NaN</td>\n",
       "      <td>NaN</td>\n",
       "      <td>NaN</td>\n",
       "      <td>NaN</td>\n",
       "      <td>NaN</td>\n",
       "      <td>NaN</td>\n",
       "      <td>NaN</td>\n",
       "    </tr>\n",
       "    <tr>\n",
       "      <th>2</th>\n",
       "      <td>IND</td>\n",
       "      <td>India</td>\n",
       "      <td>AES Saurashtra Windfarms</td>\n",
       "      <td>WRI1026669</td>\n",
       "      <td>39.2</td>\n",
       "      <td>21.9038</td>\n",
       "      <td>69.3732</td>\n",
       "      <td>Wind</td>\n",
       "      <td>NaN</td>\n",
       "      <td>NaN</td>\n",
       "      <td>...</td>\n",
       "      <td>NaN</td>\n",
       "      <td>NaN</td>\n",
       "      <td>NaN</td>\n",
       "      <td>NaN</td>\n",
       "      <td>NaN</td>\n",
       "      <td>NaN</td>\n",
       "      <td>NaN</td>\n",
       "      <td>NaN</td>\n",
       "      <td>NaN</td>\n",
       "      <td>NaN</td>\n",
       "    </tr>\n",
       "    <tr>\n",
       "      <th>3</th>\n",
       "      <td>IND</td>\n",
       "      <td>India</td>\n",
       "      <td>AGARTALA GT</td>\n",
       "      <td>IND0000001</td>\n",
       "      <td>135.0</td>\n",
       "      <td>23.8712</td>\n",
       "      <td>91.3602</td>\n",
       "      <td>Gas</td>\n",
       "      <td>NaN</td>\n",
       "      <td>NaN</td>\n",
       "      <td>...</td>\n",
       "      <td>2019.0</td>\n",
       "      <td>NaN</td>\n",
       "      <td>617.789264</td>\n",
       "      <td>843.747</td>\n",
       "      <td>886.004428</td>\n",
       "      <td>663.774500</td>\n",
       "      <td>626.239128</td>\n",
       "      <td>NaN</td>\n",
       "      <td>Central Electricity Authority</td>\n",
       "      <td>NaN</td>\n",
       "    </tr>\n",
       "    <tr>\n",
       "      <th>4</th>\n",
       "      <td>IND</td>\n",
       "      <td>India</td>\n",
       "      <td>AKALTARA TPP</td>\n",
       "      <td>IND0000002</td>\n",
       "      <td>1800.0</td>\n",
       "      <td>21.9603</td>\n",
       "      <td>82.4091</td>\n",
       "      <td>Coal</td>\n",
       "      <td>Oil</td>\n",
       "      <td>NaN</td>\n",
       "      <td>...</td>\n",
       "      <td>2019.0</td>\n",
       "      <td>NaN</td>\n",
       "      <td>3035.550000</td>\n",
       "      <td>5916.370</td>\n",
       "      <td>6243.000000</td>\n",
       "      <td>5385.579736</td>\n",
       "      <td>7279.000000</td>\n",
       "      <td>NaN</td>\n",
       "      <td>Central Electricity Authority</td>\n",
       "      <td>NaN</td>\n",
       "    </tr>\n",
       "  </tbody>\n",
       "</table>\n",
       "<p>5 rows × 27 columns</p>\n",
       "</div>"
      ],
      "text/plain": [
       "  country country_long                      name   gppd_idnr  capacity_mw  \\\n",
       "0     IND        India          ACME Solar Tower  WRI1020239          2.5   \n",
       "1     IND        India       ADITYA CEMENT WORKS  WRI1019881         98.0   \n",
       "2     IND        India  AES Saurashtra Windfarms  WRI1026669         39.2   \n",
       "3     IND        India               AGARTALA GT  IND0000001        135.0   \n",
       "4     IND        India              AKALTARA TPP  IND0000002       1800.0   \n",
       "\n",
       "   latitude  longitude primary_fuel other_fuel1 other_fuel2  ...  \\\n",
       "0   28.1839    73.2407        Solar         NaN         NaN  ...   \n",
       "1   24.7663    74.6090         Coal         NaN         NaN  ...   \n",
       "2   21.9038    69.3732         Wind         NaN         NaN  ...   \n",
       "3   23.8712    91.3602          Gas         NaN         NaN  ...   \n",
       "4   21.9603    82.4091         Coal         Oil         NaN  ...   \n",
       "\n",
       "   year_of_capacity_data  generation_gwh_2013 generation_gwh_2014  \\\n",
       "0                    NaN                  NaN                 NaN   \n",
       "1                    NaN                  NaN                 NaN   \n",
       "2                    NaN                  NaN                 NaN   \n",
       "3                 2019.0                  NaN          617.789264   \n",
       "4                 2019.0                  NaN         3035.550000   \n",
       "\n",
       "  generation_gwh_2015 generation_gwh_2016 generation_gwh_2017  \\\n",
       "0                 NaN                 NaN                 NaN   \n",
       "1                 NaN                 NaN                 NaN   \n",
       "2                 NaN                 NaN                 NaN   \n",
       "3             843.747          886.004428          663.774500   \n",
       "4            5916.370         6243.000000         5385.579736   \n",
       "\n",
       "   generation_gwh_2018  generation_gwh_2019         generation_data_source  \\\n",
       "0                  NaN                  NaN                            NaN   \n",
       "1                  NaN                  NaN                            NaN   \n",
       "2                  NaN                  NaN                            NaN   \n",
       "3           626.239128                  NaN  Central Electricity Authority   \n",
       "4          7279.000000                  NaN  Central Electricity Authority   \n",
       "\n",
       "   estimated_generation_gwh  \n",
       "0                       NaN  \n",
       "1                       NaN  \n",
       "2                       NaN  \n",
       "3                       NaN  \n",
       "4                       NaN  \n",
       "\n",
       "[5 rows x 27 columns]"
      ]
     },
     "execution_count": 1892,
     "metadata": {},
     "output_type": "execute_result"
    }
   ],
   "source": [
    "ds=pd.read_csv('power_plant_database.csv')\n",
    "ds.head(5)"
   ]
  },
  {
   "cell_type": "code",
   "execution_count": 1893,
   "id": "99f64341",
   "metadata": {},
   "outputs": [
    {
     "data": {
      "text/html": [
       "<div>\n",
       "<style scoped>\n",
       "    .dataframe tbody tr th:only-of-type {\n",
       "        vertical-align: middle;\n",
       "    }\n",
       "\n",
       "    .dataframe tbody tr th {\n",
       "        vertical-align: top;\n",
       "    }\n",
       "\n",
       "    .dataframe thead th {\n",
       "        text-align: right;\n",
       "    }\n",
       "</style>\n",
       "<table border=\"1\" class=\"dataframe\">\n",
       "  <thead>\n",
       "    <tr style=\"text-align: right;\">\n",
       "      <th></th>\n",
       "      <th>country</th>\n",
       "      <th>country_long</th>\n",
       "      <th>name</th>\n",
       "      <th>gppd_idnr</th>\n",
       "      <th>capacity_mw</th>\n",
       "      <th>latitude</th>\n",
       "      <th>longitude</th>\n",
       "      <th>primary_fuel</th>\n",
       "      <th>other_fuel1</th>\n",
       "      <th>other_fuel2</th>\n",
       "      <th>...</th>\n",
       "      <th>year_of_capacity_data</th>\n",
       "      <th>generation_gwh_2013</th>\n",
       "      <th>generation_gwh_2014</th>\n",
       "      <th>generation_gwh_2015</th>\n",
       "      <th>generation_gwh_2016</th>\n",
       "      <th>generation_gwh_2017</th>\n",
       "      <th>generation_gwh_2018</th>\n",
       "      <th>generation_gwh_2019</th>\n",
       "      <th>generation_data_source</th>\n",
       "      <th>estimated_generation_gwh</th>\n",
       "    </tr>\n",
       "  </thead>\n",
       "  <tbody>\n",
       "    <tr>\n",
       "      <th>0</th>\n",
       "      <td>IND</td>\n",
       "      <td>India</td>\n",
       "      <td>ACME Solar Tower</td>\n",
       "      <td>WRI1020239</td>\n",
       "      <td>2.5</td>\n",
       "      <td>28.1839</td>\n",
       "      <td>73.2407</td>\n",
       "      <td>Solar</td>\n",
       "      <td>NaN</td>\n",
       "      <td>NaN</td>\n",
       "      <td>...</td>\n",
       "      <td>NaN</td>\n",
       "      <td>NaN</td>\n",
       "      <td>NaN</td>\n",
       "      <td>NaN</td>\n",
       "      <td>NaN</td>\n",
       "      <td>NaN</td>\n",
       "      <td>NaN</td>\n",
       "      <td>NaN</td>\n",
       "      <td>NaN</td>\n",
       "      <td>NaN</td>\n",
       "    </tr>\n",
       "    <tr>\n",
       "      <th>1</th>\n",
       "      <td>IND</td>\n",
       "      <td>India</td>\n",
       "      <td>ADITYA CEMENT WORKS</td>\n",
       "      <td>WRI1019881</td>\n",
       "      <td>98.0</td>\n",
       "      <td>24.7663</td>\n",
       "      <td>74.6090</td>\n",
       "      <td>Coal</td>\n",
       "      <td>NaN</td>\n",
       "      <td>NaN</td>\n",
       "      <td>...</td>\n",
       "      <td>NaN</td>\n",
       "      <td>NaN</td>\n",
       "      <td>NaN</td>\n",
       "      <td>NaN</td>\n",
       "      <td>NaN</td>\n",
       "      <td>NaN</td>\n",
       "      <td>NaN</td>\n",
       "      <td>NaN</td>\n",
       "      <td>NaN</td>\n",
       "      <td>NaN</td>\n",
       "    </tr>\n",
       "    <tr>\n",
       "      <th>2</th>\n",
       "      <td>IND</td>\n",
       "      <td>India</td>\n",
       "      <td>AES Saurashtra Windfarms</td>\n",
       "      <td>WRI1026669</td>\n",
       "      <td>39.2</td>\n",
       "      <td>21.9038</td>\n",
       "      <td>69.3732</td>\n",
       "      <td>Wind</td>\n",
       "      <td>NaN</td>\n",
       "      <td>NaN</td>\n",
       "      <td>...</td>\n",
       "      <td>NaN</td>\n",
       "      <td>NaN</td>\n",
       "      <td>NaN</td>\n",
       "      <td>NaN</td>\n",
       "      <td>NaN</td>\n",
       "      <td>NaN</td>\n",
       "      <td>NaN</td>\n",
       "      <td>NaN</td>\n",
       "      <td>NaN</td>\n",
       "      <td>NaN</td>\n",
       "    </tr>\n",
       "  </tbody>\n",
       "</table>\n",
       "<p>3 rows × 27 columns</p>\n",
       "</div>"
      ],
      "text/plain": [
       "  country country_long                      name   gppd_idnr  capacity_mw  \\\n",
       "0     IND        India          ACME Solar Tower  WRI1020239          2.5   \n",
       "1     IND        India       ADITYA CEMENT WORKS  WRI1019881         98.0   \n",
       "2     IND        India  AES Saurashtra Windfarms  WRI1026669         39.2   \n",
       "\n",
       "   latitude  longitude primary_fuel other_fuel1 other_fuel2  ...  \\\n",
       "0   28.1839    73.2407        Solar         NaN         NaN  ...   \n",
       "1   24.7663    74.6090         Coal         NaN         NaN  ...   \n",
       "2   21.9038    69.3732         Wind         NaN         NaN  ...   \n",
       "\n",
       "   year_of_capacity_data  generation_gwh_2013 generation_gwh_2014  \\\n",
       "0                    NaN                  NaN                 NaN   \n",
       "1                    NaN                  NaN                 NaN   \n",
       "2                    NaN                  NaN                 NaN   \n",
       "\n",
       "  generation_gwh_2015 generation_gwh_2016 generation_gwh_2017  \\\n",
       "0                 NaN                 NaN                 NaN   \n",
       "1                 NaN                 NaN                 NaN   \n",
       "2                 NaN                 NaN                 NaN   \n",
       "\n",
       "   generation_gwh_2018  generation_gwh_2019  generation_data_source  \\\n",
       "0                  NaN                  NaN                     NaN   \n",
       "1                  NaN                  NaN                     NaN   \n",
       "2                  NaN                  NaN                     NaN   \n",
       "\n",
       "   estimated_generation_gwh  \n",
       "0                       NaN  \n",
       "1                       NaN  \n",
       "2                       NaN  \n",
       "\n",
       "[3 rows x 27 columns]"
      ]
     },
     "execution_count": 1893,
     "metadata": {},
     "output_type": "execute_result"
    }
   ],
   "source": [
    "df=pd.DataFrame(data=ds)\n",
    "df.head(3)"
   ]
  },
  {
   "cell_type": "code",
   "execution_count": 1894,
   "id": "e189ace8",
   "metadata": {},
   "outputs": [
    {
     "data": {
      "text/plain": [
       "(907, 27)"
      ]
     },
     "execution_count": 1894,
     "metadata": {},
     "output_type": "execute_result"
    }
   ],
   "source": [
    "df.shape"
   ]
  },
  {
   "cell_type": "code",
   "execution_count": 1895,
   "id": "8470c92a",
   "metadata": {},
   "outputs": [
    {
     "data": {
      "text/plain": [
       "country                       0\n",
       "country_long                  0\n",
       "name                          0\n",
       "gppd_idnr                     0\n",
       "capacity_mw                   0\n",
       "latitude                     46\n",
       "longitude                    46\n",
       "primary_fuel                  0\n",
       "other_fuel1                 709\n",
       "other_fuel2                 906\n",
       "other_fuel3                 907\n",
       "commissioning_year          380\n",
       "owner                       565\n",
       "source                        0\n",
       "url                           0\n",
       "geolocation_source           19\n",
       "wepp_id                     907\n",
       "year_of_capacity_data       388\n",
       "generation_gwh_2013         907\n",
       "generation_gwh_2014         509\n",
       "generation_gwh_2015         485\n",
       "generation_gwh_2016         473\n",
       "generation_gwh_2017         467\n",
       "generation_gwh_2018         459\n",
       "generation_gwh_2019         907\n",
       "generation_data_source      458\n",
       "estimated_generation_gwh    907\n",
       "dtype: int64"
      ]
     },
     "execution_count": 1895,
     "metadata": {},
     "output_type": "execute_result"
    }
   ],
   "source": [
    "df.isnull().sum()"
   ]
  },
  {
   "cell_type": "code",
   "execution_count": 1896,
   "id": "1d030374",
   "metadata": {},
   "outputs": [
    {
     "data": {
      "image/png": "[encoded data removed]",
      "text/plain": [
       "<Figure size 720x720 with 2 Axes>"
      ]
     },
     "metadata": {
      "needs_background": "light"
     },
     "output_type": "display_data"
    }
   ],
   "source": [
    "plt.figure(figsize=[10,10])\n",
    "sns.heatmap(df.isnull())\n",
    "plt.show()"
   ]
  },
  {
   "cell_type": "markdown",
   "id": "a48da1a0",
   "metadata": {},
   "source": [
    "The above shows that there are huge number of null values in the data, thus columns with more than 60% null values out of the entire dataframe (907) will be dropped."
   ]
  },
  {
   "cell_type": "code",
   "execution_count": 1897,
   "id": "7f37ff06",
   "metadata": {},
   "outputs": [],
   "source": [
    "df.drop(['other_fuel1','other_fuel2','other_fuel3','owner','wepp_id','generation_gwh_2013',\n",
    "         'generation_gwh_2019','estimated_generation_gwh'],axis=1,inplace=True)"
   ]
  },
  {
   "cell_type": "code",
   "execution_count": 1898,
   "id": "ad7a8c31",
   "metadata": {},
   "outputs": [],
   "source": [
    "#Dropping other irrelevant columns"
   ]
  },
  {
   "cell_type": "code",
   "execution_count": 1899,
   "id": "0d4f0f35",
   "metadata": {},
   "outputs": [],
   "source": [
    "df.drop(['country','country_long','url','year_of_capacity_data','generation_data_source','commissioning_year'],\n",
    "        axis=1,inplace=True) \n",
    "\n",
    "#the data found in these columns are the same in all axis hence adds nothing to the dataset"
   ]
  },
  {
   "cell_type": "code",
   "execution_count": 1900,
   "id": "121b40dd",
   "metadata": {},
   "outputs": [
    {
     "data": {
      "text/plain": [
       "name                     0\n",
       "gppd_idnr                0\n",
       "capacity_mw              0\n",
       "latitude                46\n",
       "longitude               46\n",
       "primary_fuel             0\n",
       "source                   0\n",
       "geolocation_source      19\n",
       "generation_gwh_2014    509\n",
       "generation_gwh_2015    485\n",
       "generation_gwh_2016    473\n",
       "generation_gwh_2017    467\n",
       "generation_gwh_2018    459\n",
       "dtype: int64"
      ]
     },
     "execution_count": 1900,
     "metadata": {},
     "output_type": "execute_result"
    }
   ],
   "source": [
    "df.isnull().sum()"
   ]
  },
  {
   "cell_type": "code",
   "execution_count": 1901,
   "id": "dbc7ef29",
   "metadata": {},
   "outputs": [
    {
     "data": {
      "text/plain": [
       "(907, 13)"
      ]
     },
     "execution_count": 1901,
     "metadata": {},
     "output_type": "execute_result"
    }
   ],
   "source": [
    "df.shape"
   ]
  },
  {
   "cell_type": "code",
   "execution_count": 1902,
   "id": "063bc671",
   "metadata": {},
   "outputs": [],
   "source": [
    "#Filling the null values in the dataset"
   ]
  },
  {
   "cell_type": "code",
   "execution_count": 1903,
   "id": "18a36c24",
   "metadata": {},
   "outputs": [],
   "source": [
    "from sklearn.impute import SimpleImputer\n",
    "imp= SimpleImputer(strategy='mean')"
   ]
  },
  {
   "cell_type": "code",
   "execution_count": 1904,
   "id": "9808cdf5",
   "metadata": {},
   "outputs": [],
   "source": [
    "list=['latitude','longitude','generation_gwh_2014','generation_gwh_2015','generation_gwh_2016',\n",
    "      'generation_gwh_2017','generation_gwh_2018']\n",
    "for i in list:\n",
    "    df[i]=imp.fit_transform(df[i].values.reshape(-1,1))"
   ]
  },
  {
   "cell_type": "code",
   "execution_count": 1905,
   "id": "338aa8b2",
   "metadata": {},
   "outputs": [],
   "source": [
    "from sklearn.impute import SimpleImputer\n",
    "imp= SimpleImputer(strategy='most_frequent')\n",
    "\n",
    "df['geolocation_source']=imp.fit_transform(df['geolocation_source'].values.reshape(-1,1))\n"
   ]
  },
  {
   "cell_type": "code",
   "execution_count": 1906,
   "id": "9d4d44f2",
   "metadata": {},
   "outputs": [
    {
     "data": {
      "text/plain": [
       "name                   0\n",
       "gppd_idnr              0\n",
       "capacity_mw            0\n",
       "latitude               0\n",
       "longitude              0\n",
       "primary_fuel           0\n",
       "source                 0\n",
       "geolocation_source     0\n",
       "generation_gwh_2014    0\n",
       "generation_gwh_2015    0\n",
       "generation_gwh_2016    0\n",
       "generation_gwh_2017    0\n",
       "generation_gwh_2018    0\n",
       "dtype: int64"
      ]
     },
     "execution_count": 1906,
     "metadata": {},
     "output_type": "execute_result"
    }
   ],
   "source": [
    "df.isnull().sum()"
   ]
  },
  {
   "cell_type": "markdown",
   "id": "8a1d73ec",
   "metadata": {},
   "source": [
    "All Null values has been corrected"
   ]
  },
  {
   "cell_type": "code",
   "execution_count": 1907,
   "id": "3eea84a3",
   "metadata": {},
   "outputs": [
    {
     "data": {
      "text/plain": [
       "capacity_mw            float64\n",
       "latitude               float64\n",
       "longitude              float64\n",
       "generation_gwh_2014    float64\n",
       "generation_gwh_2015    float64\n",
       "generation_gwh_2016    float64\n",
       "generation_gwh_2017    float64\n",
       "generation_gwh_2018    float64\n",
       "name                    object\n",
       "gppd_idnr               object\n",
       "primary_fuel            object\n",
       "source                  object\n",
       "geolocation_source      object\n",
       "dtype: object"
      ]
     },
     "execution_count": 1907,
     "metadata": {},
     "output_type": "execute_result"
    }
   ],
   "source": [
    "df.dtypes.sort_values()"
   ]
  },
  {
   "cell_type": "code",
   "execution_count": 1908,
   "id": "5b82f919",
   "metadata": {},
   "outputs": [],
   "source": [
    "#Converting Strings in data into integers"
   ]
  },
  {
   "cell_type": "code",
   "execution_count": 1909,
   "id": "08274220",
   "metadata": {},
   "outputs": [],
   "source": [
    "from sklearn.preprocessing import LabelEncoder\n",
    "le=LabelEncoder()"
   ]
  },
  {
   "cell_type": "code",
   "execution_count": 1910,
   "id": "a37eddc2",
   "metadata": {},
   "outputs": [],
   "source": [
    "list3=['primary_fuel','name','gppd_idnr','source','geolocation_source']\n",
    "\n",
    "for i in list3:\n",
    "    df[i]=le.fit_transform(df[i])\n"
   ]
  },
  {
   "cell_type": "code",
   "execution_count": 1911,
   "id": "0484bf53",
   "metadata": {},
   "outputs": [
    {
     "data": {
      "text/plain": [
       "name                     int64\n",
       "gppd_idnr                int64\n",
       "primary_fuel             int64\n",
       "source                   int64\n",
       "geolocation_source       int64\n",
       "capacity_mw            float64\n",
       "latitude               float64\n",
       "longitude              float64\n",
       "generation_gwh_2014    float64\n",
       "generation_gwh_2015    float64\n",
       "generation_gwh_2016    float64\n",
       "generation_gwh_2017    float64\n",
       "generation_gwh_2018    float64\n",
       "dtype: object"
      ]
     },
     "execution_count": 1911,
     "metadata": {},
     "output_type": "execute_result"
    }
   ],
   "source": [
    "df.dtypes.sort_values()"
   ]
  },
  {
   "cell_type": "code",
   "execution_count": 1912,
   "id": "fe6cb39f",
   "metadata": {},
   "outputs": [
    {
     "data": {
      "text/html": [
       "<div>\n",
       "<style scoped>\n",
       "    .dataframe tbody tr th:only-of-type {\n",
       "        vertical-align: middle;\n",
       "    }\n",
       "\n",
       "    .dataframe tbody tr th {\n",
       "        vertical-align: top;\n",
       "    }\n",
       "\n",
       "    .dataframe thead th {\n",
       "        text-align: right;\n",
       "    }\n",
       "</style>\n",
       "<table border=\"1\" class=\"dataframe\">\n",
       "  <thead>\n",
       "    <tr style=\"text-align: right;\">\n",
       "      <th></th>\n",
       "      <th>count</th>\n",
       "      <th>mean</th>\n",
       "      <th>std</th>\n",
       "      <th>min</th>\n",
       "      <th>25%</th>\n",
       "      <th>50%</th>\n",
       "      <th>75%</th>\n",
       "      <th>max</th>\n",
       "    </tr>\n",
       "  </thead>\n",
       "  <tbody>\n",
       "    <tr>\n",
       "      <th>name</th>\n",
       "      <td>907.0</td>\n",
       "      <td>453.000000</td>\n",
       "      <td>261.972645</td>\n",
       "      <td>0.0000</td>\n",
       "      <td>226.500000</td>\n",
       "      <td>453.000000</td>\n",
       "      <td>679.500000</td>\n",
       "      <td>906.000</td>\n",
       "    </tr>\n",
       "    <tr>\n",
       "      <th>gppd_idnr</th>\n",
       "      <td>907.0</td>\n",
       "      <td>453.000000</td>\n",
       "      <td>261.972645</td>\n",
       "      <td>0.0000</td>\n",
       "      <td>226.500000</td>\n",
       "      <td>453.000000</td>\n",
       "      <td>679.500000</td>\n",
       "      <td>906.000</td>\n",
       "    </tr>\n",
       "    <tr>\n",
       "      <th>capacity_mw</th>\n",
       "      <td>907.0</td>\n",
       "      <td>326.223755</td>\n",
       "      <td>590.085456</td>\n",
       "      <td>0.0000</td>\n",
       "      <td>16.725000</td>\n",
       "      <td>59.200000</td>\n",
       "      <td>385.250000</td>\n",
       "      <td>4760.000</td>\n",
       "    </tr>\n",
       "    <tr>\n",
       "      <th>latitude</th>\n",
       "      <td>907.0</td>\n",
       "      <td>21.197918</td>\n",
       "      <td>6.079148</td>\n",
       "      <td>8.1689</td>\n",
       "      <td>17.072000</td>\n",
       "      <td>21.281800</td>\n",
       "      <td>25.176450</td>\n",
       "      <td>34.649</td>\n",
       "    </tr>\n",
       "    <tr>\n",
       "      <th>longitude</th>\n",
       "      <td>907.0</td>\n",
       "      <td>77.464907</td>\n",
       "      <td>4.812291</td>\n",
       "      <td>68.6447</td>\n",
       "      <td>74.388900</td>\n",
       "      <td>76.979200</td>\n",
       "      <td>79.206100</td>\n",
       "      <td>95.408</td>\n",
       "    </tr>\n",
       "    <tr>\n",
       "      <th>primary_fuel</th>\n",
       "      <td>907.0</td>\n",
       "      <td>3.206174</td>\n",
       "      <td>2.280652</td>\n",
       "      <td>0.0000</td>\n",
       "      <td>1.000000</td>\n",
       "      <td>3.000000</td>\n",
       "      <td>6.000000</td>\n",
       "      <td>7.000</td>\n",
       "    </tr>\n",
       "    <tr>\n",
       "      <th>source</th>\n",
       "      <td>907.0</td>\n",
       "      <td>43.847850</td>\n",
       "      <td>44.642818</td>\n",
       "      <td>0.0000</td>\n",
       "      <td>22.000000</td>\n",
       "      <td>22.000000</td>\n",
       "      <td>29.500000</td>\n",
       "      <td>190.000</td>\n",
       "    </tr>\n",
       "    <tr>\n",
       "      <th>geolocation_source</th>\n",
       "      <td>907.0</td>\n",
       "      <td>1.733186</td>\n",
       "      <td>0.677151</td>\n",
       "      <td>0.0000</td>\n",
       "      <td>2.000000</td>\n",
       "      <td>2.000000</td>\n",
       "      <td>2.000000</td>\n",
       "      <td>2.000</td>\n",
       "    </tr>\n",
       "    <tr>\n",
       "      <th>generation_gwh_2014</th>\n",
       "      <td>907.0</td>\n",
       "      <td>2431.823590</td>\n",
       "      <td>2665.338608</td>\n",
       "      <td>0.0000</td>\n",
       "      <td>1211.362750</td>\n",
       "      <td>2431.823590</td>\n",
       "      <td>2431.823590</td>\n",
       "      <td>28127.000</td>\n",
       "    </tr>\n",
       "    <tr>\n",
       "      <th>generation_gwh_2015</th>\n",
       "      <td>907.0</td>\n",
       "      <td>2428.226946</td>\n",
       "      <td>2859.349132</td>\n",
       "      <td>0.0000</td>\n",
       "      <td>916.000000</td>\n",
       "      <td>2428.226946</td>\n",
       "      <td>2428.226946</td>\n",
       "      <td>30539.000</td>\n",
       "    </tr>\n",
       "    <tr>\n",
       "      <th>generation_gwh_2016</th>\n",
       "      <td>907.0</td>\n",
       "      <td>2467.936859</td>\n",
       "      <td>2877.890004</td>\n",
       "      <td>0.0000</td>\n",
       "      <td>896.500214</td>\n",
       "      <td>2467.936859</td>\n",
       "      <td>2467.936859</td>\n",
       "      <td>30015.000</td>\n",
       "    </tr>\n",
       "    <tr>\n",
       "      <th>generation_gwh_2017</th>\n",
       "      <td>907.0</td>\n",
       "      <td>2547.759305</td>\n",
       "      <td>2921.502193</td>\n",
       "      <td>0.0000</td>\n",
       "      <td>882.594850</td>\n",
       "      <td>2547.759305</td>\n",
       "      <td>2547.759305</td>\n",
       "      <td>35116.000</td>\n",
       "    </tr>\n",
       "    <tr>\n",
       "      <th>generation_gwh_2018</th>\n",
       "      <td>907.0</td>\n",
       "      <td>2600.804099</td>\n",
       "      <td>3030.808041</td>\n",
       "      <td>0.0000</td>\n",
       "      <td>824.842340</td>\n",
       "      <td>2600.804099</td>\n",
       "      <td>2600.804099</td>\n",
       "      <td>35136.000</td>\n",
       "    </tr>\n",
       "  </tbody>\n",
       "</table>\n",
       "</div>"
      ],
      "text/plain": [
       "                     count         mean          std      min          25%  \\\n",
       "name                 907.0   453.000000   261.972645   0.0000   226.500000   \n",
       "gppd_idnr            907.0   453.000000   261.972645   0.0000   226.500000   \n",
       "capacity_mw          907.0   326.223755   590.085456   0.0000    16.725000   \n",
       "latitude             907.0    21.197918     6.079148   8.1689    17.072000   \n",
       "longitude            907.0    77.464907     4.812291  68.6447    74.388900   \n",
       "primary_fuel         907.0     3.206174     2.280652   0.0000     1.000000   \n",
       "source               907.0    43.847850    44.642818   0.0000    22.000000   \n",
       "geolocation_source   907.0     1.733186     0.677151   0.0000     2.000000   \n",
       "generation_gwh_2014  907.0  2431.823590  2665.338608   0.0000  1211.362750   \n",
       "generation_gwh_2015  907.0  2428.226946  2859.349132   0.0000   916.000000   \n",
       "generation_gwh_2016  907.0  2467.936859  2877.890004   0.0000   896.500214   \n",
       "generation_gwh_2017  907.0  2547.759305  2921.502193   0.0000   882.594850   \n",
       "generation_gwh_2018  907.0  2600.804099  3030.808041   0.0000   824.842340   \n",
       "\n",
       "                             50%          75%        max  \n",
       "name                  453.000000   679.500000    906.000  \n",
       "gppd_idnr             453.000000   679.500000    906.000  \n",
       "capacity_mw            59.200000   385.250000   4760.000  \n",
       "latitude               21.281800    25.176450     34.649  \n",
       "longitude              76.979200    79.206100     95.408  \n",
       "primary_fuel            3.000000     6.000000      7.000  \n",
       "source                 22.000000    29.500000    190.000  \n",
       "geolocation_source      2.000000     2.000000      2.000  \n",
       "generation_gwh_2014  2431.823590  2431.823590  28127.000  \n",
       "generation_gwh_2015  2428.226946  2428.226946  30539.000  \n",
       "generation_gwh_2016  2467.936859  2467.936859  30015.000  \n",
       "generation_gwh_2017  2547.759305  2547.759305  35116.000  \n",
       "generation_gwh_2018  2600.804099  2600.804099  35136.000  "
      ]
     },
     "execution_count": 1912,
     "metadata": {},
     "output_type": "execute_result"
    }
   ],
   "source": [
    "df.describe().T"
   ]
  },
  {
   "cell_type": "markdown",
   "id": "4e698baf",
   "metadata": {},
   "source": [
    "The following can be observed from the above.\n",
    "1. The mean for capacity_mw is more than the 50th percentile\n",
    "2. The mean for 'source' is greater than the 50th percentile\n"
   ]
  },
  {
   "cell_type": "code",
   "execution_count": 1913,
   "id": "669ac6ff",
   "metadata": {},
   "outputs": [
    {
     "data": {
      "text/html": [
       "<div>\n",
       "<style scoped>\n",
       "    .dataframe tbody tr th:only-of-type {\n",
       "        vertical-align: middle;\n",
       "    }\n",
       "\n",
       "    .dataframe tbody tr th {\n",
       "        vertical-align: top;\n",
       "    }\n",
       "\n",
       "    .dataframe thead th {\n",
       "        text-align: right;\n",
       "    }\n",
       "</style>\n",
       "<table border=\"1\" class=\"dataframe\">\n",
       "  <thead>\n",
       "    <tr style=\"text-align: right;\">\n",
       "      <th></th>\n",
       "      <th>name</th>\n",
       "      <th>gppd_idnr</th>\n",
       "      <th>capacity_mw</th>\n",
       "      <th>latitude</th>\n",
       "      <th>longitude</th>\n",
       "      <th>primary_fuel</th>\n",
       "      <th>source</th>\n",
       "      <th>geolocation_source</th>\n",
       "      <th>generation_gwh_2014</th>\n",
       "      <th>generation_gwh_2015</th>\n",
       "      <th>generation_gwh_2016</th>\n",
       "      <th>generation_gwh_2017</th>\n",
       "      <th>generation_gwh_2018</th>\n",
       "    </tr>\n",
       "  </thead>\n",
       "  <tbody>\n",
       "    <tr>\n",
       "      <th>name</th>\n",
       "      <td>1.000000</td>\n",
       "      <td>0.332205</td>\n",
       "      <td>0.060240</td>\n",
       "      <td>-0.135247</td>\n",
       "      <td>0.020279</td>\n",
       "      <td>0.040753</td>\n",
       "      <td>-1.463951e-02</td>\n",
       "      <td>3.622452e-02</td>\n",
       "      <td>8.375890e-02</td>\n",
       "      <td>7.366460e-02</td>\n",
       "      <td>6.617668e-02</td>\n",
       "      <td>7.363387e-02</td>\n",
       "      <td>6.663814e-02</td>\n",
       "    </tr>\n",
       "    <tr>\n",
       "      <th>gppd_idnr</th>\n",
       "      <td>0.332205</td>\n",
       "      <td>1.000000</td>\n",
       "      <td>-0.335742</td>\n",
       "      <td>-0.105728</td>\n",
       "      <td>-0.377812</td>\n",
       "      <td>0.609180</td>\n",
       "      <td>4.163838e-01</td>\n",
       "      <td>-4.641741e-01</td>\n",
       "      <td>4.451808e-02</td>\n",
       "      <td>3.895798e-02</td>\n",
       "      <td>2.683096e-02</td>\n",
       "      <td>2.285274e-02</td>\n",
       "      <td>1.926543e-02</td>\n",
       "    </tr>\n",
       "    <tr>\n",
       "      <th>capacity_mw</th>\n",
       "      <td>0.060240</td>\n",
       "      <td>-0.335742</td>\n",
       "      <td>1.000000</td>\n",
       "      <td>0.050984</td>\n",
       "      <td>0.195882</td>\n",
       "      <td>-0.380395</td>\n",
       "      <td>-2.421218e-01</td>\n",
       "      <td>2.048653e-01</td>\n",
       "      <td>6.943503e-01</td>\n",
       "      <td>7.111899e-01</td>\n",
       "      <td>7.422211e-01</td>\n",
       "      <td>7.575852e-01</td>\n",
       "      <td>7.734556e-01</td>\n",
       "    </tr>\n",
       "    <tr>\n",
       "      <th>latitude</th>\n",
       "      <td>-0.135247</td>\n",
       "      <td>-0.105728</td>\n",
       "      <td>0.050984</td>\n",
       "      <td>1.000000</td>\n",
       "      <td>0.036362</td>\n",
       "      <td>-0.010204</td>\n",
       "      <td>5.592656e-02</td>\n",
       "      <td>-1.842751e-01</td>\n",
       "      <td>4.432124e-02</td>\n",
       "      <td>3.639795e-02</td>\n",
       "      <td>3.125609e-02</td>\n",
       "      <td>3.121240e-02</td>\n",
       "      <td>3.132625e-02</td>\n",
       "    </tr>\n",
       "    <tr>\n",
       "      <th>longitude</th>\n",
       "      <td>0.020279</td>\n",
       "      <td>-0.377812</td>\n",
       "      <td>0.195882</td>\n",
       "      <td>0.036362</td>\n",
       "      <td>1.000000</td>\n",
       "      <td>-0.347948</td>\n",
       "      <td>-2.393334e-01</td>\n",
       "      <td>2.523426e-01</td>\n",
       "      <td>1.147221e-02</td>\n",
       "      <td>1.881819e-02</td>\n",
       "      <td>3.920892e-02</td>\n",
       "      <td>3.967547e-02</td>\n",
       "      <td>3.777965e-02</td>\n",
       "    </tr>\n",
       "    <tr>\n",
       "      <th>primary_fuel</th>\n",
       "      <td>0.040753</td>\n",
       "      <td>0.609180</td>\n",
       "      <td>-0.380395</td>\n",
       "      <td>-0.010204</td>\n",
       "      <td>-0.347948</td>\n",
       "      <td>1.000000</td>\n",
       "      <td>5.361263e-02</td>\n",
       "      <td>-4.832168e-01</td>\n",
       "      <td>-1.247688e-01</td>\n",
       "      <td>-1.248280e-01</td>\n",
       "      <td>-1.310514e-01</td>\n",
       "      <td>-1.320034e-01</td>\n",
       "      <td>-1.369831e-01</td>\n",
       "    </tr>\n",
       "    <tr>\n",
       "      <th>source</th>\n",
       "      <td>-0.014640</td>\n",
       "      <td>0.416384</td>\n",
       "      <td>-0.242122</td>\n",
       "      <td>0.055927</td>\n",
       "      <td>-0.239333</td>\n",
       "      <td>0.053613</td>\n",
       "      <td>1.000000e+00</td>\n",
       "      <td>-5.057202e-01</td>\n",
       "      <td>-7.136539e-17</td>\n",
       "      <td>-2.160931e-17</td>\n",
       "      <td>-1.636718e-17</td>\n",
       "      <td>-6.157496e-20</td>\n",
       "      <td>1.092118e-17</td>\n",
       "    </tr>\n",
       "    <tr>\n",
       "      <th>geolocation_source</th>\n",
       "      <td>0.036225</td>\n",
       "      <td>-0.464174</td>\n",
       "      <td>0.204865</td>\n",
       "      <td>-0.184275</td>\n",
       "      <td>0.252343</td>\n",
       "      <td>-0.483217</td>\n",
       "      <td>-5.057202e-01</td>\n",
       "      <td>1.000000e+00</td>\n",
       "      <td>1.557310e-17</td>\n",
       "      <td>-6.339264e-18</td>\n",
       "      <td>1.115708e-17</td>\n",
       "      <td>-9.450976e-18</td>\n",
       "      <td>-1.048582e-17</td>\n",
       "    </tr>\n",
       "    <tr>\n",
       "      <th>generation_gwh_2014</th>\n",
       "      <td>0.083759</td>\n",
       "      <td>0.044518</td>\n",
       "      <td>0.694350</td>\n",
       "      <td>0.044321</td>\n",
       "      <td>0.011472</td>\n",
       "      <td>-0.124769</td>\n",
       "      <td>-7.136539e-17</td>\n",
       "      <td>1.557310e-17</td>\n",
       "      <td>1.000000e+00</td>\n",
       "      <td>9.535943e-01</td>\n",
       "      <td>9.258738e-01</td>\n",
       "      <td>8.916868e-01</td>\n",
       "      <td>8.849556e-01</td>\n",
       "    </tr>\n",
       "    <tr>\n",
       "      <th>generation_gwh_2015</th>\n",
       "      <td>0.073665</td>\n",
       "      <td>0.038958</td>\n",
       "      <td>0.711190</td>\n",
       "      <td>0.036398</td>\n",
       "      <td>0.018818</td>\n",
       "      <td>-0.124828</td>\n",
       "      <td>-2.160931e-17</td>\n",
       "      <td>-6.339264e-18</td>\n",
       "      <td>9.535943e-01</td>\n",
       "      <td>1.000000e+00</td>\n",
       "      <td>9.688877e-01</td>\n",
       "      <td>9.282425e-01</td>\n",
       "      <td>9.234611e-01</td>\n",
       "    </tr>\n",
       "    <tr>\n",
       "      <th>generation_gwh_2016</th>\n",
       "      <td>0.066177</td>\n",
       "      <td>0.026831</td>\n",
       "      <td>0.742221</td>\n",
       "      <td>0.031256</td>\n",
       "      <td>0.039209</td>\n",
       "      <td>-0.131051</td>\n",
       "      <td>-1.636718e-17</td>\n",
       "      <td>1.115708e-17</td>\n",
       "      <td>9.258738e-01</td>\n",
       "      <td>9.688877e-01</td>\n",
       "      <td>1.000000e+00</td>\n",
       "      <td>9.646488e-01</td>\n",
       "      <td>9.571589e-01</td>\n",
       "    </tr>\n",
       "    <tr>\n",
       "      <th>generation_gwh_2017</th>\n",
       "      <td>0.073634</td>\n",
       "      <td>0.022853</td>\n",
       "      <td>0.757585</td>\n",
       "      <td>0.031212</td>\n",
       "      <td>0.039675</td>\n",
       "      <td>-0.132003</td>\n",
       "      <td>-6.157496e-20</td>\n",
       "      <td>-9.450976e-18</td>\n",
       "      <td>8.916868e-01</td>\n",
       "      <td>9.282425e-01</td>\n",
       "      <td>9.646488e-01</td>\n",
       "      <td>1.000000e+00</td>\n",
       "      <td>9.826888e-01</td>\n",
       "    </tr>\n",
       "    <tr>\n",
       "      <th>generation_gwh_2018</th>\n",
       "      <td>0.066638</td>\n",
       "      <td>0.019265</td>\n",
       "      <td>0.773456</td>\n",
       "      <td>0.031326</td>\n",
       "      <td>0.037780</td>\n",
       "      <td>-0.136983</td>\n",
       "      <td>1.092118e-17</td>\n",
       "      <td>-1.048582e-17</td>\n",
       "      <td>8.849556e-01</td>\n",
       "      <td>9.234611e-01</td>\n",
       "      <td>9.571589e-01</td>\n",
       "      <td>9.826888e-01</td>\n",
       "      <td>1.000000e+00</td>\n",
       "    </tr>\n",
       "  </tbody>\n",
       "</table>\n",
       "</div>"
      ],
      "text/plain": [
       "                         name  gppd_idnr  capacity_mw  latitude  longitude  \\\n",
       "name                 1.000000   0.332205     0.060240 -0.135247   0.020279   \n",
       "gppd_idnr            0.332205   1.000000    -0.335742 -0.105728  -0.377812   \n",
       "capacity_mw          0.060240  -0.335742     1.000000  0.050984   0.195882   \n",
       "latitude            -0.135247  -0.105728     0.050984  1.000000   0.036362   \n",
       "longitude            0.020279  -0.377812     0.195882  0.036362   1.000000   \n",
       "primary_fuel         0.040753   0.609180    -0.380395 -0.010204  -0.347948   \n",
       "source              -0.014640   0.416384    -0.242122  0.055927  -0.239333   \n",
       "geolocation_source   0.036225  -0.464174     0.204865 -0.184275   0.252343   \n",
       "generation_gwh_2014  0.083759   0.044518     0.694350  0.044321   0.011472   \n",
       "generation_gwh_2015  0.073665   0.038958     0.711190  0.036398   0.018818   \n",
       "generation_gwh_2016  0.066177   0.026831     0.742221  0.031256   0.039209   \n",
       "generation_gwh_2017  0.073634   0.022853     0.757585  0.031212   0.039675   \n",
       "generation_gwh_2018  0.066638   0.019265     0.773456  0.031326   0.037780   \n",
       "\n",
       "                     primary_fuel        source  geolocation_source  \\\n",
       "name                     0.040753 -1.463951e-02        3.622452e-02   \n",
       "gppd_idnr                0.609180  4.163838e-01       -4.641741e-01   \n",
       "capacity_mw             -0.380395 -2.421218e-01        2.048653e-01   \n",
       "latitude                -0.010204  5.592656e-02       -1.842751e-01   \n",
       "longitude               -0.347948 -2.393334e-01        2.523426e-01   \n",
       "primary_fuel             1.000000  5.361263e-02       -4.832168e-01   \n",
       "source                   0.053613  1.000000e+00       -5.057202e-01   \n",
       "geolocation_source      -0.483217 -5.057202e-01        1.000000e+00   \n",
       "generation_gwh_2014     -0.124769 -7.136539e-17        1.557310e-17   \n",
       "generation_gwh_2015     -0.124828 -2.160931e-17       -6.339264e-18   \n",
       "generation_gwh_2016     -0.131051 -1.636718e-17        1.115708e-17   \n",
       "generation_gwh_2017     -0.132003 -6.157496e-20       -9.450976e-18   \n",
       "generation_gwh_2018     -0.136983  1.092118e-17       -1.048582e-17   \n",
       "\n",
       "                     generation_gwh_2014  generation_gwh_2015  \\\n",
       "name                        8.375890e-02         7.366460e-02   \n",
       "gppd_idnr                   4.451808e-02         3.895798e-02   \n",
       "capacity_mw                 6.943503e-01         7.111899e-01   \n",
       "latitude                    4.432124e-02         3.639795e-02   \n",
       "longitude                   1.147221e-02         1.881819e-02   \n",
       "primary_fuel               -1.247688e-01        -1.248280e-01   \n",
       "source                     -7.136539e-17        -2.160931e-17   \n",
       "geolocation_source          1.557310e-17        -6.339264e-18   \n",
       "generation_gwh_2014         1.000000e+00         9.535943e-01   \n",
       "generation_gwh_2015         9.535943e-01         1.000000e+00   \n",
       "generation_gwh_2016         9.258738e-01         9.688877e-01   \n",
       "generation_gwh_2017         8.916868e-01         9.282425e-01   \n",
       "generation_gwh_2018         8.849556e-01         9.234611e-01   \n",
       "\n",
       "                     generation_gwh_2016  generation_gwh_2017  \\\n",
       "name                        6.617668e-02         7.363387e-02   \n",
       "gppd_idnr                   2.683096e-02         2.285274e-02   \n",
       "capacity_mw                 7.422211e-01         7.575852e-01   \n",
       "latitude                    3.125609e-02         3.121240e-02   \n",
       "longitude                   3.920892e-02         3.967547e-02   \n",
       "primary_fuel               -1.310514e-01        -1.320034e-01   \n",
       "source                     -1.636718e-17        -6.157496e-20   \n",
       "geolocation_source          1.115708e-17        -9.450976e-18   \n",
       "generation_gwh_2014         9.258738e-01         8.916868e-01   \n",
       "generation_gwh_2015         9.688877e-01         9.282425e-01   \n",
       "generation_gwh_2016         1.000000e+00         9.646488e-01   \n",
       "generation_gwh_2017         9.646488e-01         1.000000e+00   \n",
       "generation_gwh_2018         9.571589e-01         9.826888e-01   \n",
       "\n",
       "                     generation_gwh_2018  \n",
       "name                        6.663814e-02  \n",
       "gppd_idnr                   1.926543e-02  \n",
       "capacity_mw                 7.734556e-01  \n",
       "latitude                    3.132625e-02  \n",
       "longitude                   3.777965e-02  \n",
       "primary_fuel               -1.369831e-01  \n",
       "source                      1.092118e-17  \n",
       "geolocation_source         -1.048582e-17  \n",
       "generation_gwh_2014         8.849556e-01  \n",
       "generation_gwh_2015         9.234611e-01  \n",
       "generation_gwh_2016         9.571589e-01  \n",
       "generation_gwh_2017         9.826888e-01  \n",
       "generation_gwh_2018         1.000000e+00  "
      ]
     },
     "execution_count": 1913,
     "metadata": {},
     "output_type": "execute_result"
    }
   ],
   "source": [
    "df.corr()"
   ]
  },
  {
   "cell_type": "code",
   "execution_count": 1914,
   "id": "6090ae00",
   "metadata": {},
   "outputs": [
    {
     "data": {
      "image/png": "[encoded data removed]",
      "text/plain": [
       "<Figure size 720x720 with 2 Axes>"
      ]
     },
     "metadata": {
      "needs_background": "light"
     },
     "output_type": "display_data"
    }
   ],
   "source": [
    "plt.figure(figsize=[10,10])\n",
    "sns.heatmap(df.corr(),annot=True,cmap='Blues')\n",
    "plt.title('Correlation Matrix')\n",
    "plt.savefig('Correlation Matrix.jpg')\n",
    "plt.show()"
   ]
  },
  {
   "cell_type": "code",
   "execution_count": 1915,
   "id": "1a89bf96",
   "metadata": {},
   "outputs": [
    {
     "data": {
      "text/plain": [
       "capacity_mw            1.000000\n",
       "generation_gwh_2018    0.773456\n",
       "generation_gwh_2017    0.757585\n",
       "generation_gwh_2016    0.742221\n",
       "generation_gwh_2015    0.711190\n",
       "generation_gwh_2014    0.694350\n",
       "geolocation_source     0.204865\n",
       "longitude              0.195882\n",
       "name                   0.060240\n",
       "latitude               0.050984\n",
       "source                -0.242122\n",
       "gppd_idnr             -0.335742\n",
       "primary_fuel          -0.380395\n",
       "Name: capacity_mw, dtype: float64"
      ]
     },
     "execution_count": 1915,
     "metadata": {},
     "output_type": "execute_result"
    }
   ],
   "source": [
    "df.corr()['capacity_mw'].sort_values(ascending=False)"
   ]
  },
  {
   "cell_type": "markdown",
   "id": "11e49c6c",
   "metadata": {},
   "source": [
    "The following can be observed in the above;\n",
    "1. There is a high correlation between capacity and generation for all the years\n",
    "2. The data also indicates a high correlation among the generation years, and the correlation value increases with  increasing years.\n",
    "3. gppd, source, and primary fuel on the other hand correlates negatively with capacity with primary fuel having the highest negative correlation value."
   ]
  },
  {
   "cell_type": "code",
   "execution_count": 1916,
   "id": "63e29ce4",
   "metadata": {},
   "outputs": [],
   "source": [
    "#checking skewness"
   ]
  },
  {
   "cell_type": "code",
   "execution_count": 1917,
   "id": "d2031c39",
   "metadata": {},
   "outputs": [
    {
     "data": {
      "text/plain": [
       "name                   0.000000\n",
       "gppd_idnr              0.000000\n",
       "capacity_mw            3.123576\n",
       "latitude              -0.149698\n",
       "longitude              1.141881\n",
       "primary_fuel           0.472251\n",
       "source                 1.827373\n",
       "geolocation_source    -2.159841\n",
       "generation_gwh_2014    5.035446\n",
       "generation_gwh_2015    5.364134\n",
       "generation_gwh_2016    5.068427\n",
       "generation_gwh_2017    5.110952\n",
       "generation_gwh_2018    4.937907\n",
       "dtype: float64"
      ]
     },
     "execution_count": 1917,
     "metadata": {},
     "output_type": "execute_result"
    }
   ],
   "source": [
    "df.skew()"
   ]
  },
  {
   "cell_type": "code",
   "execution_count": 1918,
   "id": "ed30e30d",
   "metadata": {},
   "outputs": [
    {
     "data": {
      "image/png": "[encoded data removed]",
      "text/plain": [
       "<Figure size 720x576 with 15 Axes>"
      ]
     },
     "metadata": {
      "needs_background": "light"
     },
     "output_type": "display_data"
    }
   ],
   "source": [
    "df.plot(kind='density',subplots=True,sharex=False,fontsize=1,figsize=(10,8),layout=(3,5))\n",
    "plt.show()"
   ]
  },
  {
   "cell_type": "markdown",
   "id": "775e851f",
   "metadata": {},
   "source": [
    "This indicates skewness in the data, hence the need to correct them. Even though there seem to be skewness in most of the columns, the correction could only be done with \"Source\" and \"Longitude\" columns, because the other columns have a high correlation with the output column."
   ]
  },
  {
   "cell_type": "code",
   "execution_count": 1919,
   "id": "770b7213",
   "metadata": {},
   "outputs": [],
   "source": [
    "from scipy.stats import skew\n",
    "from scipy.stats import boxcox"
   ]
  },
  {
   "cell_type": "code",
   "execution_count": 1920,
   "id": "0a2e8995",
   "metadata": {},
   "outputs": [],
   "source": [
    "df['longitude']=boxcox(df['longitude'],0)"
   ]
  },
  {
   "cell_type": "code",
   "execution_count": 1921,
   "id": "77358d4f",
   "metadata": {},
   "outputs": [],
   "source": [
    "df['source']=np.sqrt(df['source'])"
   ]
  },
  {
   "cell_type": "code",
   "execution_count": 1922,
   "id": "9cd44338",
   "metadata": {},
   "outputs": [],
   "source": [
    "#Rechecking skewness"
   ]
  },
  {
   "cell_type": "code",
   "execution_count": 1923,
   "id": "a0b5380e",
   "metadata": {},
   "outputs": [
    {
     "data": {
      "text/plain": [
       "name                   0.000000\n",
       "gppd_idnr              0.000000\n",
       "capacity_mw            3.123576\n",
       "latitude              -0.149698\n",
       "longitude              0.933111\n",
       "primary_fuel           0.472251\n",
       "source                 1.506368\n",
       "geolocation_source    -2.159841\n",
       "generation_gwh_2014    5.035446\n",
       "generation_gwh_2015    5.364134\n",
       "generation_gwh_2016    5.068427\n",
       "generation_gwh_2017    5.110952\n",
       "generation_gwh_2018    4.937907\n",
       "dtype: float64"
      ]
     },
     "execution_count": 1923,
     "metadata": {},
     "output_type": "execute_result"
    }
   ],
   "source": [
    "df.skew()"
   ]
  },
  {
   "cell_type": "code",
   "execution_count": 1924,
   "id": "86d6976e",
   "metadata": {},
   "outputs": [],
   "source": [
    "#Splitting the data"
   ]
  },
  {
   "cell_type": "code",
   "execution_count": 1936,
   "id": "6511e609",
   "metadata": {},
   "outputs": [],
   "source": [
    "x1=df.drop(['capacity_mw'],axis=1)\n",
    "y1=df['capacity_mw']"
   ]
  },
  {
   "cell_type": "code",
   "execution_count": 1937,
   "id": "627a5670",
   "metadata": {},
   "outputs": [
    {
     "data": {
      "text/html": [
       "<div>\n",
       "<style scoped>\n",
       "    .dataframe tbody tr th:only-of-type {\n",
       "        vertical-align: middle;\n",
       "    }\n",
       "\n",
       "    .dataframe tbody tr th {\n",
       "        vertical-align: top;\n",
       "    }\n",
       "\n",
       "    .dataframe thead th {\n",
       "        text-align: right;\n",
       "    }\n",
       "</style>\n",
       "<table border=\"1\" class=\"dataframe\">\n",
       "  <thead>\n",
       "    <tr style=\"text-align: right;\">\n",
       "      <th></th>\n",
       "      <th>name</th>\n",
       "      <th>gppd_idnr</th>\n",
       "      <th>latitude</th>\n",
       "      <th>longitude</th>\n",
       "      <th>primary_fuel</th>\n",
       "      <th>source</th>\n",
       "      <th>geolocation_source</th>\n",
       "      <th>generation_gwh_2014</th>\n",
       "      <th>generation_gwh_2015</th>\n",
       "      <th>generation_gwh_2016</th>\n",
       "      <th>generation_gwh_2017</th>\n",
       "      <th>generation_gwh_2018</th>\n",
       "    </tr>\n",
       "  </thead>\n",
       "  <tbody>\n",
       "    <tr>\n",
       "      <th>0</th>\n",
       "      <td>0</td>\n",
       "      <td>657</td>\n",
       "      <td>28.1839</td>\n",
       "      <td>4.293751</td>\n",
       "      <td>6</td>\n",
       "      <td>10.440307</td>\n",
       "      <td>1</td>\n",
       "      <td>2431.823590</td>\n",
       "      <td>2428.226946</td>\n",
       "      <td>2467.936859</td>\n",
       "      <td>2547.759305</td>\n",
       "      <td>2600.804099</td>\n",
       "    </tr>\n",
       "    <tr>\n",
       "      <th>1</th>\n",
       "      <td>1</td>\n",
       "      <td>519</td>\n",
       "      <td>24.7663</td>\n",
       "      <td>4.312261</td>\n",
       "      <td>1</td>\n",
       "      <td>13.190906</td>\n",
       "      <td>2</td>\n",
       "      <td>2431.823590</td>\n",
       "      <td>2428.226946</td>\n",
       "      <td>2467.936859</td>\n",
       "      <td>2547.759305</td>\n",
       "      <td>2600.804099</td>\n",
       "    </tr>\n",
       "    <tr>\n",
       "      <th>2</th>\n",
       "      <td>2</td>\n",
       "      <td>853</td>\n",
       "      <td>21.9038</td>\n",
       "      <td>4.239501</td>\n",
       "      <td>7</td>\n",
       "      <td>4.582576</td>\n",
       "      <td>2</td>\n",
       "      <td>2431.823590</td>\n",
       "      <td>2428.226946</td>\n",
       "      <td>2467.936859</td>\n",
       "      <td>2547.759305</td>\n",
       "      <td>2600.804099</td>\n",
       "    </tr>\n",
       "    <tr>\n",
       "      <th>3</th>\n",
       "      <td>3</td>\n",
       "      <td>0</td>\n",
       "      <td>23.8712</td>\n",
       "      <td>4.514810</td>\n",
       "      <td>2</td>\n",
       "      <td>4.690416</td>\n",
       "      <td>2</td>\n",
       "      <td>617.789264</td>\n",
       "      <td>843.747000</td>\n",
       "      <td>886.004428</td>\n",
       "      <td>663.774500</td>\n",
       "      <td>626.239128</td>\n",
       "    </tr>\n",
       "    <tr>\n",
       "      <th>4</th>\n",
       "      <td>4</td>\n",
       "      <td>1</td>\n",
       "      <td>21.9603</td>\n",
       "      <td>4.411696</td>\n",
       "      <td>1</td>\n",
       "      <td>4.690416</td>\n",
       "      <td>2</td>\n",
       "      <td>3035.550000</td>\n",
       "      <td>5916.370000</td>\n",
       "      <td>6243.000000</td>\n",
       "      <td>5385.579736</td>\n",
       "      <td>7279.000000</td>\n",
       "    </tr>\n",
       "    <tr>\n",
       "      <th>...</th>\n",
       "      <td>...</td>\n",
       "      <td>...</td>\n",
       "      <td>...</td>\n",
       "      <td>...</td>\n",
       "      <td>...</td>\n",
       "      <td>...</td>\n",
       "      <td>...</td>\n",
       "      <td>...</td>\n",
       "      <td>...</td>\n",
       "      <td>...</td>\n",
       "      <td>...</td>\n",
       "      <td>...</td>\n",
       "    </tr>\n",
       "    <tr>\n",
       "      <th>902</th>\n",
       "      <td>902</td>\n",
       "      <td>491</td>\n",
       "      <td>16.2949</td>\n",
       "      <td>4.348428</td>\n",
       "      <td>1</td>\n",
       "      <td>4.690416</td>\n",
       "      <td>2</td>\n",
       "      <td>2431.823590</td>\n",
       "      <td>0.994875</td>\n",
       "      <td>233.596650</td>\n",
       "      <td>865.400000</td>\n",
       "      <td>686.500000</td>\n",
       "    </tr>\n",
       "    <tr>\n",
       "      <th>903</th>\n",
       "      <td>903</td>\n",
       "      <td>822</td>\n",
       "      <td>12.8932</td>\n",
       "      <td>4.358827</td>\n",
       "      <td>6</td>\n",
       "      <td>8.774964</td>\n",
       "      <td>0</td>\n",
       "      <td>2431.823590</td>\n",
       "      <td>2428.226946</td>\n",
       "      <td>2467.936859</td>\n",
       "      <td>2547.759305</td>\n",
       "      <td>2600.804099</td>\n",
       "    </tr>\n",
       "    <tr>\n",
       "      <th>904</th>\n",
       "      <td>904</td>\n",
       "      <td>891</td>\n",
       "      <td>15.2758</td>\n",
       "      <td>4.325206</td>\n",
       "      <td>7</td>\n",
       "      <td>4.582576</td>\n",
       "      <td>2</td>\n",
       "      <td>2431.823590</td>\n",
       "      <td>2428.226946</td>\n",
       "      <td>2467.936859</td>\n",
       "      <td>2547.759305</td>\n",
       "      <td>2600.804099</td>\n",
       "    </tr>\n",
       "    <tr>\n",
       "      <th>905</th>\n",
       "      <td>905</td>\n",
       "      <td>539</td>\n",
       "      <td>24.3500</td>\n",
       "      <td>4.300650</td>\n",
       "      <td>1</td>\n",
       "      <td>7.681146</td>\n",
       "      <td>2</td>\n",
       "      <td>2431.823590</td>\n",
       "      <td>2428.226946</td>\n",
       "      <td>2467.936859</td>\n",
       "      <td>2547.759305</td>\n",
       "      <td>2600.804099</td>\n",
       "    </tr>\n",
       "    <tr>\n",
       "      <th>906</th>\n",
       "      <td>906</td>\n",
       "      <td>876</td>\n",
       "      <td>9.9344</td>\n",
       "      <td>4.349979</td>\n",
       "      <td>7</td>\n",
       "      <td>4.582576</td>\n",
       "      <td>2</td>\n",
       "      <td>2431.823590</td>\n",
       "      <td>2428.226946</td>\n",
       "      <td>2467.936859</td>\n",
       "      <td>2547.759305</td>\n",
       "      <td>2600.804099</td>\n",
       "    </tr>\n",
       "  </tbody>\n",
       "</table>\n",
       "<p>907 rows × 12 columns</p>\n",
       "</div>"
      ],
      "text/plain": [
       "     name  gppd_idnr  latitude  longitude  primary_fuel     source  \\\n",
       "0       0        657   28.1839   4.293751             6  10.440307   \n",
       "1       1        519   24.7663   4.312261             1  13.190906   \n",
       "2       2        853   21.9038   4.239501             7   4.582576   \n",
       "3       3          0   23.8712   4.514810             2   4.690416   \n",
       "4       4          1   21.9603   4.411696             1   4.690416   \n",
       "..    ...        ...       ...        ...           ...        ...   \n",
       "902   902        491   16.2949   4.348428             1   4.690416   \n",
       "903   903        822   12.8932   4.358827             6   8.774964   \n",
       "904   904        891   15.2758   4.325206             7   4.582576   \n",
       "905   905        539   24.3500   4.300650             1   7.681146   \n",
       "906   906        876    9.9344   4.349979             7   4.582576   \n",
       "\n",
       "     geolocation_source  generation_gwh_2014  generation_gwh_2015  \\\n",
       "0                     1          2431.823590          2428.226946   \n",
       "1                     2          2431.823590          2428.226946   \n",
       "2                     2          2431.823590          2428.226946   \n",
       "3                     2           617.789264           843.747000   \n",
       "4                     2          3035.550000          5916.370000   \n",
       "..                  ...                  ...                  ...   \n",
       "902                   2          2431.823590             0.994875   \n",
       "903                   0          2431.823590          2428.226946   \n",
       "904                   2          2431.823590          2428.226946   \n",
       "905                   2          2431.823590          2428.226946   \n",
       "906                   2          2431.823590          2428.226946   \n",
       "\n",
       "     generation_gwh_2016  generation_gwh_2017  generation_gwh_2018  \n",
       "0            2467.936859          2547.759305          2600.804099  \n",
       "1            2467.936859          2547.759305          2600.804099  \n",
       "2            2467.936859          2547.759305          2600.804099  \n",
       "3             886.004428           663.774500           626.239128  \n",
       "4            6243.000000          5385.579736          7279.000000  \n",
       "..                   ...                  ...                  ...  \n",
       "902           233.596650           865.400000           686.500000  \n",
       "903          2467.936859          2547.759305          2600.804099  \n",
       "904          2467.936859          2547.759305          2600.804099  \n",
       "905          2467.936859          2547.759305          2600.804099  \n",
       "906          2467.936859          2547.759305          2600.804099  \n",
       "\n",
       "[907 rows x 12 columns]"
      ]
     },
     "execution_count": 1937,
     "metadata": {},
     "output_type": "execute_result"
    }
   ],
   "source": [
    "x1"
   ]
  },
  {
   "cell_type": "code",
   "execution_count": 1938,
   "id": "14f64c8f",
   "metadata": {},
   "outputs": [
    {
     "data": {
      "text/plain": [
       "(907, 12)"
      ]
     },
     "execution_count": 1938,
     "metadata": {},
     "output_type": "execute_result"
    }
   ],
   "source": [
    "x1.shape"
   ]
  },
  {
   "cell_type": "code",
   "execution_count": 1939,
   "id": "2ef5de9d",
   "metadata": {},
   "outputs": [
    {
     "data": {
      "text/plain": [
       "0         2.5\n",
       "1        98.0\n",
       "2        39.2\n",
       "3       135.0\n",
       "4      1800.0\n",
       "        ...  \n",
       "902    1600.0\n",
       "903       3.0\n",
       "904      25.5\n",
       "905      80.0\n",
       "906      16.5\n",
       "Name: capacity_mw, Length: 907, dtype: float64"
      ]
     },
     "execution_count": 1939,
     "metadata": {},
     "output_type": "execute_result"
    }
   ],
   "source": [
    "y1"
   ]
  },
  {
   "cell_type": "code",
   "execution_count": 1940,
   "id": "e078b944",
   "metadata": {},
   "outputs": [
    {
     "data": {
      "text/plain": [
       "(907,)"
      ]
     },
     "execution_count": 1940,
     "metadata": {},
     "output_type": "execute_result"
    }
   ],
   "source": [
    "y1.shape"
   ]
  },
  {
   "cell_type": "code",
   "execution_count": 1794,
   "id": "377a41aa",
   "metadata": {},
   "outputs": [],
   "source": [
    "#Scaling the x data"
   ]
  },
  {
   "cell_type": "code",
   "execution_count": 1795,
   "id": "b44f5a10",
   "metadata": {},
   "outputs": [],
   "source": [
    "from sklearn.preprocessing import MinMaxScaler"
   ]
  },
  {
   "cell_type": "code",
   "execution_count": 1796,
   "id": "beb54597",
   "metadata": {},
   "outputs": [],
   "source": [
    "mms=MinMaxScaler()"
   ]
  },
  {
   "cell_type": "code",
   "execution_count": 1797,
   "id": "8d875c96",
   "metadata": {},
   "outputs": [],
   "source": [
    "for col in x:\n",
    "    mms=MinMaxScaler()\n",
    "    x[col]=mms.fit_transform(x[[col]])"
   ]
  },
  {
   "cell_type": "code",
   "execution_count": 1798,
   "id": "deb37c93",
   "metadata": {},
   "outputs": [
    {
     "data": {
      "text/html": [
       "<div>\n",
       "<style scoped>\n",
       "    .dataframe tbody tr th:only-of-type {\n",
       "        vertical-align: middle;\n",
       "    }\n",
       "\n",
       "    .dataframe tbody tr th {\n",
       "        vertical-align: top;\n",
       "    }\n",
       "\n",
       "    .dataframe thead th {\n",
       "        text-align: right;\n",
       "    }\n",
       "</style>\n",
       "<table border=\"1\" class=\"dataframe\">\n",
       "  <thead>\n",
       "    <tr style=\"text-align: right;\">\n",
       "      <th></th>\n",
       "      <th>name</th>\n",
       "      <th>gppd_idnr</th>\n",
       "      <th>latitude</th>\n",
       "      <th>longitude</th>\n",
       "      <th>primary_fuel</th>\n",
       "      <th>source</th>\n",
       "      <th>geolocation_source</th>\n",
       "      <th>generation_gwh_2014</th>\n",
       "      <th>generation_gwh_2015</th>\n",
       "      <th>generation_gwh_2016</th>\n",
       "      <th>generation_gwh_2017</th>\n",
       "      <th>generation_gwh_2018</th>\n",
       "    </tr>\n",
       "  </thead>\n",
       "  <tbody>\n",
       "    <tr>\n",
       "      <th>0</th>\n",
       "      <td>0</td>\n",
       "      <td>657</td>\n",
       "      <td>28.1839</td>\n",
       "      <td>4.293751</td>\n",
       "      <td>6</td>\n",
       "      <td>10.440307</td>\n",
       "      <td>1</td>\n",
       "      <td>2431.823590</td>\n",
       "      <td>2428.226946</td>\n",
       "      <td>2467.936859</td>\n",
       "      <td>2547.759305</td>\n",
       "      <td>2600.804099</td>\n",
       "    </tr>\n",
       "    <tr>\n",
       "      <th>1</th>\n",
       "      <td>1</td>\n",
       "      <td>519</td>\n",
       "      <td>24.7663</td>\n",
       "      <td>4.312261</td>\n",
       "      <td>1</td>\n",
       "      <td>13.190906</td>\n",
       "      <td>2</td>\n",
       "      <td>2431.823590</td>\n",
       "      <td>2428.226946</td>\n",
       "      <td>2467.936859</td>\n",
       "      <td>2547.759305</td>\n",
       "      <td>2600.804099</td>\n",
       "    </tr>\n",
       "    <tr>\n",
       "      <th>2</th>\n",
       "      <td>2</td>\n",
       "      <td>853</td>\n",
       "      <td>21.9038</td>\n",
       "      <td>4.239501</td>\n",
       "      <td>7</td>\n",
       "      <td>4.582576</td>\n",
       "      <td>2</td>\n",
       "      <td>2431.823590</td>\n",
       "      <td>2428.226946</td>\n",
       "      <td>2467.936859</td>\n",
       "      <td>2547.759305</td>\n",
       "      <td>2600.804099</td>\n",
       "    </tr>\n",
       "    <tr>\n",
       "      <th>3</th>\n",
       "      <td>3</td>\n",
       "      <td>0</td>\n",
       "      <td>23.8712</td>\n",
       "      <td>4.514810</td>\n",
       "      <td>2</td>\n",
       "      <td>4.690416</td>\n",
       "      <td>2</td>\n",
       "      <td>617.789264</td>\n",
       "      <td>843.747000</td>\n",
       "      <td>886.004428</td>\n",
       "      <td>663.774500</td>\n",
       "      <td>626.239128</td>\n",
       "    </tr>\n",
       "    <tr>\n",
       "      <th>4</th>\n",
       "      <td>4</td>\n",
       "      <td>1</td>\n",
       "      <td>21.9603</td>\n",
       "      <td>4.411696</td>\n",
       "      <td>1</td>\n",
       "      <td>4.690416</td>\n",
       "      <td>2</td>\n",
       "      <td>3035.550000</td>\n",
       "      <td>5916.370000</td>\n",
       "      <td>6243.000000</td>\n",
       "      <td>5385.579736</td>\n",
       "      <td>7279.000000</td>\n",
       "    </tr>\n",
       "  </tbody>\n",
       "</table>\n",
       "</div>"
      ],
      "text/plain": [
       "   name  gppd_idnr  latitude  longitude  primary_fuel     source  \\\n",
       "0     0        657   28.1839   4.293751             6  10.440307   \n",
       "1     1        519   24.7663   4.312261             1  13.190906   \n",
       "2     2        853   21.9038   4.239501             7   4.582576   \n",
       "3     3          0   23.8712   4.514810             2   4.690416   \n",
       "4     4          1   21.9603   4.411696             1   4.690416   \n",
       "\n",
       "   geolocation_source  generation_gwh_2014  generation_gwh_2015  \\\n",
       "0                   1          2431.823590          2428.226946   \n",
       "1                   2          2431.823590          2428.226946   \n",
       "2                   2          2431.823590          2428.226946   \n",
       "3                   2           617.789264           843.747000   \n",
       "4                   2          3035.550000          5916.370000   \n",
       "\n",
       "   generation_gwh_2016  generation_gwh_2017  generation_gwh_2018  \n",
       "0          2467.936859          2547.759305          2600.804099  \n",
       "1          2467.936859          2547.759305          2600.804099  \n",
       "2          2467.936859          2547.759305          2600.804099  \n",
       "3           886.004428           663.774500           626.239128  \n",
       "4          6243.000000          5385.579736          7279.000000  "
      ]
     },
     "execution_count": 1798,
     "metadata": {},
     "output_type": "execute_result"
    }
   ],
   "source": [
    "x1.head()"
   ]
  },
  {
   "cell_type": "code",
   "execution_count": 1799,
   "id": "fa3faa54",
   "metadata": {},
   "outputs": [],
   "source": [
    "#Training dataset"
   ]
  },
  {
   "cell_type": "code",
   "execution_count": 1800,
   "id": "c09d1939",
   "metadata": {},
   "outputs": [],
   "source": [
    "from sklearn.model_selection import train_test_split\n",
    "from sklearn.naive_bayes import MultinomialNB\n",
    "from sklearn.svm import SVC\n",
    "from sklearn.model_selection import cross_val_score\n",
    "from sklearn.tree import DecisionTreeClassifier\n",
    "from sklearn.neighbors import KNeighborsClassifier\n",
    "from sklearn.metrics import accuracy_score,confusion_matrix,classification_report\n",
    "\n",
    "import warnings\n",
    "warnings.filterwarnings('ignore')"
   ]
  },
  {
   "cell_type": "code",
   "execution_count": 1801,
   "id": "d002f8a9",
   "metadata": {},
   "outputs": [],
   "source": [
    "x1_train,x1_test,y1_train,y1_test=train_test_split(x1,y1,test_size=.30,random_state=42)"
   ]
  },
  {
   "cell_type": "code",
   "execution_count": 1802,
   "id": "7a0bba85",
   "metadata": {},
   "outputs": [
    {
     "data": {
      "text/plain": [
       "(634, 12)"
      ]
     },
     "execution_count": 1802,
     "metadata": {},
     "output_type": "execute_result"
    }
   ],
   "source": [
    "x1_train.shape"
   ]
  },
  {
   "cell_type": "code",
   "execution_count": 1803,
   "id": "2c9f524c",
   "metadata": {},
   "outputs": [
    {
     "data": {
      "text/plain": [
       "(273, 12)"
      ]
     },
     "execution_count": 1803,
     "metadata": {},
     "output_type": "execute_result"
    }
   ],
   "source": [
    "x1_test.shape"
   ]
  },
  {
   "cell_type": "code",
   "execution_count": 1804,
   "id": "fa4eac32",
   "metadata": {},
   "outputs": [
    {
     "data": {
      "text/plain": [
       "(634,)"
      ]
     },
     "execution_count": 1804,
     "metadata": {},
     "output_type": "execute_result"
    }
   ],
   "source": [
    "y1_train.shape"
   ]
  },
  {
   "cell_type": "code",
   "execution_count": 1805,
   "id": "47b14e1d",
   "metadata": {},
   "outputs": [
    {
     "data": {
      "text/plain": [
       "(273,)"
      ]
     },
     "execution_count": 1805,
     "metadata": {},
     "output_type": "execute_result"
    }
   ],
   "source": [
    "y1_test.shape"
   ]
  },
  {
   "cell_type": "markdown",
   "id": "8f6e2449",
   "metadata": {},
   "source": [
    "# Using Linear Regression to Predict 'Capacity'"
   ]
  },
  {
   "cell_type": "code",
   "execution_count": 1806,
   "id": "362e4db5",
   "metadata": {},
   "outputs": [
    {
     "data": {
      "text/html": [
       "<style>#sk-container-id-17 {color: black;background-color: white;}#sk-container-id-17 pre{padding: 0;}#sk-container-id-17 div.sk-toggleable {background-color: white;}#sk-container-id-17 label.sk-toggleable__label {cursor: pointer;display: block;width: 100%;margin-bottom: 0;padding: 0.3em;box-sizing: border-box;text-align: center;}#sk-container-id-17 label.sk-toggleable__label-arrow:before {content: \"▸\";float: left;margin-right: 0.25em;color: #696969;}#sk-container-id-17 label.sk-toggleable__label-arrow:hover:before {color: black;}#sk-container-id-17 div.sk-estimator:hover label.sk-toggleable__label-arrow:before {color: black;}#sk-container-id-17 div.sk-toggleable__content {max-height: 0;max-width: 0;overflow: hidden;text-align: left;background-color: #f0f8ff;}#sk-container-id-17 div.sk-toggleable__content pre {margin: 0.2em;color: black;border-radius: 0.25em;background-color: #f0f8ff;}#sk-container-id-17 input.sk-toggleable__control:checked~div.sk-toggleable__content {max-height: 200px;max-width: 100%;overflow: auto;}#sk-container-id-17 input.sk-toggleable__control:checked~label.sk-toggleable__label-arrow:before {content: \"▾\";}#sk-container-id-17 div.sk-estimator input.sk-toggleable__control:checked~label.sk-toggleable__label {background-color: #d4ebff;}#sk-container-id-17 div.sk-label input.sk-toggleable__control:checked~label.sk-toggleable__label {background-color: #d4ebff;}#sk-container-id-17 input.sk-hidden--visually {border: 0;clip: rect(1px 1px 1px 1px);clip: rect(1px, 1px, 1px, 1px);height: 1px;margin: -1px;overflow: hidden;padding: 0;position: absolute;width: 1px;}#sk-container-id-17 div.sk-estimator {font-family: monospace;background-color: #f0f8ff;border: 1px dotted black;border-radius: 0.25em;box-sizing: border-box;margin-bottom: 0.5em;}#sk-container-id-17 div.sk-estimator:hover {background-color: #d4ebff;}#sk-container-id-17 div.sk-parallel-item::after {content: \"\";width: 100%;border-bottom: 1px solid gray;flex-grow: 1;}#sk-container-id-17 div.sk-label:hover label.sk-toggleable__label {background-color: #d4ebff;}#sk-container-id-17 div.sk-serial::before {content: \"\";position: absolute;border-left: 1px solid gray;box-sizing: border-box;top: 0;bottom: 0;left: 50%;z-index: 0;}#sk-container-id-17 div.sk-serial {display: flex;flex-direction: column;align-items: center;background-color: white;padding-right: 0.2em;padding-left: 0.2em;position: relative;}#sk-container-id-17 div.sk-item {position: relative;z-index: 1;}#sk-container-id-17 div.sk-parallel {display: flex;align-items: stretch;justify-content: center;background-color: white;position: relative;}#sk-container-id-17 div.sk-item::before, #sk-container-id-17 div.sk-parallel-item::before {content: \"\";position: absolute;border-left: 1px solid gray;box-sizing: border-box;top: 0;bottom: 0;left: 50%;z-index: -1;}#sk-container-id-17 div.sk-parallel-item {display: flex;flex-direction: column;z-index: 1;position: relative;background-color: white;}#sk-container-id-17 div.sk-parallel-item:first-child::after {align-self: flex-end;width: 50%;}#sk-container-id-17 div.sk-parallel-item:last-child::after {align-self: flex-start;width: 50%;}#sk-container-id-17 div.sk-parallel-item:only-child::after {width: 0;}#sk-container-id-17 div.sk-dashed-wrapped {border: 1px dashed gray;margin: 0 0.4em 0.5em 0.4em;box-sizing: border-box;padding-bottom: 0.4em;background-color: white;}#sk-container-id-17 div.sk-label label {font-family: monospace;font-weight: bold;display: inline-block;line-height: 1.2em;}#sk-container-id-17 div.sk-label-container {text-align: center;}#sk-container-id-17 div.sk-container {/* jupyter's `normalize.less` sets `[hidden] { display: none; }` but bootstrap.min.css set `[hidden] { display: none !important; }` so we also need the `!important` here to be able to override the default hidden behavior on the sphinx rendered scikit-learn.org. See: https://github.com/scikit-learn/scikit-learn/issues/21755 */display: inline-block !important;position: relative;}#sk-container-id-17 div.sk-text-repr-fallback {display: none;}</style><div id=\"sk-container-id-17\" class=\"sk-top-container\"><div class=\"sk-text-repr-fallback\"><pre>LinearRegression()</pre><b>In a Jupyter environment, please rerun this cell to show the HTML representation or trust the notebook. <br />On GitHub, the HTML representation is unable to render, please try loading this page with nbviewer.org.</b></div><div class=\"sk-container\" hidden><div class=\"sk-item\"><div class=\"sk-estimator sk-toggleable\"><input class=\"sk-toggleable__control sk-hidden--visually\" id=\"sk-estimator-id-17\" type=\"checkbox\" checked><label for=\"sk-estimator-id-17\" class=\"sk-toggleable__label sk-toggleable__label-arrow\">LinearRegression</label><div class=\"sk-toggleable__content\"><pre>LinearRegression()</pre></div></div></div></div></div>"
      ],
      "text/plain": [
       "LinearRegression()"
      ]
     },
     "execution_count": 1806,
     "metadata": {},
     "output_type": "execute_result"
    }
   ],
   "source": [
    "lr=LinearRegression()\n",
    "lr.fit(x1_train,y1_train)"
   ]
  },
  {
   "cell_type": "code",
   "execution_count": 1807,
   "id": "37281578",
   "metadata": {},
   "outputs": [
    {
     "data": {
      "text/plain": [
       "array([ 2.54994641e-01, -5.97239379e-01, -1.50492221e-02,  1.86456315e+02,\n",
       "       -3.28037820e+01, -3.16860389e+01, -5.83085261e+01,  2.59025067e-02,\n",
       "       -4.86970469e-02,  4.21194090e-02, -4.72359779e-03,  1.33787199e-01])"
      ]
     },
     "execution_count": 1807,
     "metadata": {},
     "output_type": "execute_result"
    }
   ],
   "source": [
    "lr.coef_"
   ]
  },
  {
   "cell_type": "code",
   "execution_count": 1808,
   "id": "4a40a920",
   "metadata": {},
   "outputs": [
    {
     "data": {
      "text/plain": [
       "-318.8310181101236"
      ]
     },
     "execution_count": 1808,
     "metadata": {},
     "output_type": "execute_result"
    }
   ],
   "source": [
    "lr.intercept_"
   ]
  },
  {
   "cell_type": "code",
   "execution_count": 1809,
   "id": "45945c84",
   "metadata": {},
   "outputs": [],
   "source": [
    "#predict the value"
   ]
  },
  {
   "cell_type": "code",
   "execution_count": 1810,
   "id": "6e7c9088",
   "metadata": {},
   "outputs": [
    {
     "name": "stdout",
     "output_type": "stream",
     "text": [
      "predict result price: [ 2.78690662e+02 -1.74726693e+01  1.44309051e+02  1.95715893e+02\n",
      "  4.63730791e+02  1.81316318e+02  1.45088477e+02 -4.89010225e+01\n",
      "  2.90972752e+02  2.02314569e+02  2.64760928e+02  3.83348650e+02\n",
      " -1.10878275e+02  1.07724741e+02  1.74349188e+02  1.16865137e+01\n",
      " -1.04097321e+02  1.94074283e+02  8.16889197e+02  4.80037976e+02\n",
      " -1.12942763e+02 -9.03160373e+01  1.26898645e+00  1.97696668e+02\n",
      "  1.55546431e+02  1.04119235e+01  9.99217645e+02 -1.27134011e+01\n",
      "  4.79991254e+01  3.28479166e+01  3.97878875e+02  1.82977278e+02\n",
      "  4.21573974e+02  5.00254234e+02  2.53686782e+01  1.85293033e+02\n",
      "  1.45379177e+02  1.64993520e+02  4.82077868e+02  8.23669957e+01\n",
      "  2.79830030e+02  2.83507175e+02  3.57602489e+02  1.26424239e+02\n",
      "  4.55150021e+01  5.28223927e+02  1.81387642e+02  3.08819785e+01\n",
      "  3.68112648e+02  2.13195152e+02  2.74896183e+01  4.79740764e+02\n",
      "  1.04873923e+02  8.19098155e+02  2.12074819e+01  5.65184572e+01\n",
      "  3.61704706e+02  1.98681274e+02  2.12613390e+02  1.06290199e+02\n",
      "  1.53849145e+02  1.21960101e+03  1.96886844e+02  3.95969031e+02\n",
      " -6.22778674e+01  2.89301486e+02  4.41402534e+02  2.59645772e+02\n",
      "  9.76531728e+01  4.10821175e+02  4.88132649e+02  1.51470681e+01\n",
      "  9.83395293e+01  4.62592482e+02  1.06924246e+03  6.81085469e+02\n",
      "  1.14348436e+02  1.05344188e+03  1.05660258e+02  1.91336001e+02\n",
      "  3.89479826e+01 -6.56283625e+01  1.56686208e+02  2.66526704e+02\n",
      "  1.56202206e+02  4.37464244e+02  1.90434839e+02  1.65662270e+02\n",
      "  4.95244119e+02 -4.66949546e+01  1.43860283e+02  4.60856412e+02\n",
      "  1.14403391e+02 -1.03540566e+02  1.76448437e+02  4.69876238e+02\n",
      "  6.19502999e+01  1.25384220e+02  2.03144059e+02  1.87806760e+02\n",
      "  1.16080760e+01  1.20935164e+02  1.46800305e+03  5.25186426e+02\n",
      "  1.46910484e+02  9.69323260e+01  1.07057552e+03  1.18689160e+02\n",
      "  1.56248099e+02  1.79657164e+02 -6.04032240e+01  1.39582058e+02\n",
      "  2.53713614e+02  1.03718789e+03  2.81655049e+02  3.17467582e+02\n",
      "  8.11506915e+02  1.04468422e+02  4.40654352e+02  5.13867407e+02\n",
      "  4.70460097e+01 -2.53472619e+01  1.13295047e+02 -6.18551221e+01\n",
      "  1.45568298e+02  1.15370538e+02  1.23125725e+03  7.26113948e+02\n",
      "  1.59571160e+01  1.94397909e+01  1.64141512e+02  9.75361229e+02\n",
      "  1.37824399e+02  8.31979807e+01  1.10891986e+02  3.12109175e+02\n",
      "  3.16981375e+02  2.19577928e+02  4.20153251e+00  1.97237397e+02\n",
      "  8.90208062e+01  5.08466968e+02  1.41306601e+02  5.62019265e+02\n",
      "  9.49761384e+01 -4.20671229e+01  2.79234122e+02  1.19726982e+03\n",
      " -1.18784716e+01  2.83120699e+01  3.37177069e+02 -3.90840691e+01\n",
      " -8.59169959e+00  2.88324667e+02  5.77382308e+01  4.79412047e+02\n",
      "  1.84074112e+02  1.71469574e+01  8.90576959e+01  3.52469091e+01\n",
      "  2.30233487e+03  4.97121041e+02  2.33610580e+02  2.08639411e+02\n",
      "  5.31419513e+02  5.24240802e+03  4.47368233e+02  3.27932708e+02\n",
      "  3.17136702e+02  1.48102088e+02  1.12939554e+02  1.30213481e+03\n",
      "  4.21058909e+02  9.96075153e+01  2.94144180e+02  1.06829491e+03\n",
      "  1.17465091e+03 -6.47242326e+01  1.21063495e+03  4.86844185e+02\n",
      "  6.42859027e+02 -1.53152961e+02 -8.42931546e+01  5.17291129e+02\n",
      " -2.54042081e+01 -9.87653634e+01  4.81857971e+02  1.12441883e+03\n",
      "  1.32107762e+03  1.35703516e+01  8.56712735e+01  4.05823376e+01\n",
      " -1.44309142e+02  5.17877534e+02 -3.42749856e+01  2.68036985e+02\n",
      "  1.53588150e+02  2.99870752e+02  8.02422114e+01  4.74516303e+02\n",
      "  1.20015532e+02  8.42650470e+02  2.93608313e+02  7.89393765e+01\n",
      "  4.45271889e+02  1.51815749e+02  1.37817470e+02  2.35508375e+01\n",
      "  2.06248344e+02  1.56354901e+02  1.38996721e+01  2.30916786e+01\n",
      "  1.28504924e+03  6.31755471e+01  4.07639713e+02  1.17253239e+02\n",
      "  2.85191900e+02  8.02334746e+02 -5.18725810e+00  1.56370780e+02\n",
      "  8.51671167e+02  1.29500642e+02  4.80743987e+02  1.02081662e+02\n",
      "  2.11959404e+02 -1.81257946e+01 -1.04349333e+02  3.92189217e+02\n",
      "  7.38844672e+01  6.29967793e+02 -6.68065204e+01  2.85382847e+02\n",
      "  2.33861397e+02  1.40466214e+02  2.44960216e+02  4.64489593e+02\n",
      "  1.20822723e+02  4.46005394e+01  9.13984916e+01 -1.44450794e+02\n",
      "  4.76645861e+02  2.46683194e+02  3.43760817e+03  4.83112460e+02\n",
      "  1.64867118e+03  1.63596607e+03  4.51589821e+02  1.29837768e+02\n",
      "  8.53782744e+01 -4.02520890e+01  6.62599576e+01  2.11652227e+02\n",
      "  6.14964718e+01  1.04117869e+02  2.45904451e+02  9.10789785e+02\n",
      "  7.47583356e+01  6.79369555e+02  4.27946274e+03  2.31408437e+02\n",
      "  8.42203666e-01  2.38295299e+02 -2.74535680e+01  2.94359350e+02\n",
      "  9.95102350e+01  1.47638025e+02  1.38012504e+02  2.63026123e+02\n",
      "  1.66701143e+02  1.74249357e+02  9.37133544e+01  1.05120736e+03\n",
      "  9.76380718e+01]\n",
      "actual price: 868     187.2\n",
      "439      50.4\n",
      "342      41.4\n",
      "735     770.0\n",
      "784       4.5\n",
      "        ...  \n",
      "477     246.0\n",
      "551       5.8\n",
      "355      20.0\n",
      "468    1000.0\n",
      "756      10.0\n",
      "Name: capacity_mw, Length: 273, dtype: float64\n"
     ]
    }
   ],
   "source": [
    "pred=lr.predict(x1_test)\n",
    "print('predict result price:',pred)\n",
    "print('actual price:',y1_test)"
   ]
  },
  {
   "cell_type": "code",
   "execution_count": 1811,
   "id": "b42e92f9",
   "metadata": {},
   "outputs": [
    {
     "name": "stdout",
     "output_type": "stream",
     "text": [
      "error:\n",
      "Mean absolute error: 198.2423072994291\n",
      "Mean squared error: 97302.11286206899\n",
      "Root mean squared error: 311.93286595366794\n"
     ]
    }
   ],
   "source": [
    "print('error:')\n",
    "print('Mean absolute error:', mean_absolute_error(y1_test,pred))\n",
    "print('Mean squared error:', mean_squared_error(y1_test,pred))\n",
    "print('Root mean squared error:',np.sqrt(mean_squared_error(y1_test,pred)))"
   ]
  },
  {
   "cell_type": "code",
   "execution_count": 1812,
   "id": "f121afbc",
   "metadata": {},
   "outputs": [
    {
     "name": "stdout",
     "output_type": "stream",
     "text": [
      "0.7691257918471931\n"
     ]
    }
   ],
   "source": [
    "from sklearn.metrics import r2_score\n",
    "print(r2_score(y1_test,pred))"
   ]
  },
  {
   "cell_type": "markdown",
   "id": "8187f8af",
   "metadata": {},
   "source": [
    "# Using Logistic Regression to Predict 'Primary fuel'"
   ]
  },
  {
   "cell_type": "code",
   "execution_count": 1769,
   "id": "58097bd4",
   "metadata": {},
   "outputs": [],
   "source": [
    "x2=df.drop(['primary_fuel'],axis=1)\n",
    "y2=df['primary_fuel']"
   ]
  },
  {
   "cell_type": "code",
   "execution_count": 1770,
   "id": "d579e2cb",
   "metadata": {},
   "outputs": [],
   "source": [
    "from sklearn.naive_bayes import MultinomialNB"
   ]
  },
  {
   "cell_type": "code",
   "execution_count": 1771,
   "id": "ab02b924",
   "metadata": {},
   "outputs": [],
   "source": [
    "x2_train,x2_test,y2_train,y2_test=train_test_split(x2,y2,test_size=.30,random_state=42)"
   ]
  },
  {
   "cell_type": "code",
   "execution_count": 1772,
   "id": "23e7f966",
   "metadata": {},
   "outputs": [
    {
     "data": {
      "text/plain": [
       "(634, 12)"
      ]
     },
     "execution_count": 1772,
     "metadata": {},
     "output_type": "execute_result"
    }
   ],
   "source": [
    "x2_train.shape"
   ]
  },
  {
   "cell_type": "code",
   "execution_count": 1773,
   "id": "1e644ea9",
   "metadata": {},
   "outputs": [
    {
     "data": {
      "text/plain": [
       "(273, 12)"
      ]
     },
     "execution_count": 1773,
     "metadata": {},
     "output_type": "execute_result"
    }
   ],
   "source": [
    "x2_test.shape"
   ]
  },
  {
   "cell_type": "code",
   "execution_count": 1774,
   "id": "3790ebe0",
   "metadata": {},
   "outputs": [
    {
     "data": {
      "text/plain": [
       "(634,)"
      ]
     },
     "execution_count": 1774,
     "metadata": {},
     "output_type": "execute_result"
    }
   ],
   "source": [
    "y2_train.shape"
   ]
  },
  {
   "cell_type": "code",
   "execution_count": 1775,
   "id": "0a0e7093",
   "metadata": {},
   "outputs": [
    {
     "data": {
      "text/plain": [
       "(273,)"
      ]
     },
     "execution_count": 1775,
     "metadata": {},
     "output_type": "execute_result"
    }
   ],
   "source": [
    "y2_test.shape"
   ]
  },
  {
   "cell_type": "code",
   "execution_count": 1776,
   "id": "0b33150c",
   "metadata": {},
   "outputs": [],
   "source": [
    "from sklearn.model_selection import cross_val_score\n",
    "from sklearn.tree import DecisionTreeClassifier\n",
    "from sklearn.neighbors import KNeighborsClassifier\n",
    "from sklearn.metrics import accuracy_score,confusion_matrix,classification_report\n",
    "\n",
    "import warnings\n",
    "warnings.filterwarnings('ignore')"
   ]
  },
  {
   "cell_type": "code",
   "execution_count": 1777,
   "id": "56e7dd16",
   "metadata": {},
   "outputs": [
    {
     "name": "stdout",
     "output_type": "stream",
     "text": [
      "0.684981684981685\n",
      "[[ 5  4  0  0  0  0  0  0]\n",
      " [10 50  1 11  0  0  1  2]\n",
      " [ 1 10  3  9  0  0  0  1]\n",
      " [ 0  9  1 75  0  0  0  0]\n",
      " [ 0  2  1  0  0  0  0  0]\n",
      " [ 0  1  3  4  0  0  0  0]\n",
      " [ 0  0  0  0  0  0 24  3]\n",
      " [ 0  2  0  0  0  0 10 30]]\n",
      "              precision    recall  f1-score   support\n",
      "\n",
      "           0       0.31      0.56      0.40         9\n",
      "           1       0.64      0.67      0.65        75\n",
      "           2       0.33      0.12      0.18        24\n",
      "           3       0.76      0.88      0.82        85\n",
      "           4       0.00      0.00      0.00         3\n",
      "           5       0.00      0.00      0.00         8\n",
      "           6       0.69      0.89      0.77        27\n",
      "           7       0.83      0.71      0.77        42\n",
      "\n",
      "    accuracy                           0.68       273\n",
      "   macro avg       0.45      0.48      0.45       273\n",
      "weighted avg       0.65      0.68      0.66       273\n",
      "\n"
     ]
    }
   ],
   "source": [
    "knn=KNeighborsClassifier(n_neighbors=5)\n",
    "knn.fit(x2_train,y2_train)\n",
    "predknn=knn.predict(x2_test)\n",
    "print(accuracy_score(y2_test,predknn))\n",
    "print(confusion_matrix(y2_test,predknn))\n",
    "print(classification_report(y2_test,predknn))"
   ]
  },
  {
   "cell_type": "code",
   "execution_count": 1778,
   "id": "1b33e965",
   "metadata": {},
   "outputs": [
    {
     "name": "stdout",
     "output_type": "stream",
     "text": [
      "0.7655677655677655\n",
      "[[ 7  2  0  0  0  0  0  0]\n",
      " [ 5 53  6  9  0  2  0  0]\n",
      " [ 1  4 12  5  0  2  0  0]\n",
      " [ 0 10  8 65  0  2  0  0]\n",
      " [ 0  2  0  1  0  0  0  0]\n",
      " [ 0  3  1  1  0  3  0  0]\n",
      " [ 0  0  0  0  0  0 27  0]\n",
      " [ 0  0  0  0  0  0  0 42]]\n",
      "              precision    recall  f1-score   support\n",
      "\n",
      "           0       0.54      0.78      0.64         9\n",
      "           1       0.72      0.71      0.71        75\n",
      "           2       0.44      0.50      0.47        24\n",
      "           3       0.80      0.76      0.78        85\n",
      "           4       0.00      0.00      0.00         3\n",
      "           5       0.33      0.38      0.35         8\n",
      "           6       1.00      1.00      1.00        27\n",
      "           7       1.00      1.00      1.00        42\n",
      "\n",
      "    accuracy                           0.77       273\n",
      "   macro avg       0.60      0.64      0.62       273\n",
      "weighted avg       0.77      0.77      0.76       273\n",
      "\n"
     ]
    }
   ],
   "source": [
    "dtc=DecisionTreeClassifier()\n",
    "dtc.fit(x2_train,y2_train)\n",
    "preddtc=dtc.predict(x2_test)\n",
    "print(accuracy_score(y2_test,preddtc))\n",
    "print(confusion_matrix(y2_test,preddtc))\n",
    "print(classification_report(y2_test,preddtc))"
   ]
  },
  {
   "cell_type": "code",
   "execution_count": 1779,
   "id": "5c504ea8",
   "metadata": {},
   "outputs": [
    {
     "name": "stdout",
     "output_type": "stream",
     "text": [
      "[0.74725275 0.76373626 0.81767956 0.75138122 0.73480663]\n",
      "0.7629712828607855\n",
      "0.028872929430713644\n"
     ]
    }
   ],
   "source": [
    "accuracy_score=cross_val_score(dtc,x2,y2,cv=5)\n",
    "print(accuracy_score)\n",
    "print(accuracy_score.mean())\n",
    "print(accuracy_score.std())"
   ]
  },
  {
   "cell_type": "markdown",
   "id": "d39683b0",
   "metadata": {},
   "source": [
    "Prediction"
   ]
  },
  {
   "cell_type": "code",
   "execution_count": 1780,
   "id": "fc8ffd13",
   "metadata": {},
   "outputs": [],
   "source": [
    "def primaryfuelprediction(p):\n",
    "    p=p.reshape(1,-1)\n",
    "    preddtc=dtc.predict(p)\n",
    "    print('Primary fuel predicted is:', preddtc)"
   ]
  },
  {
   "cell_type": "code",
   "execution_count": 1781,
   "id": "4bc47327",
   "metadata": {},
   "outputs": [
    {
     "name": "stdout",
     "output_type": "stream",
     "text": [
      "Primary fuel predicted is: [6]\n"
     ]
    }
   ],
   "source": [
    "p=np.array([0,657,28.1839,4.293751,6,10.440307,1,2431.823590,2428.226946,2467.936859,2547.759305,2600.804099])\n",
    "primaryfuelprediction(p)"
   ]
  },
  {
   "cell_type": "code",
   "execution_count": null,
   "id": "34e7691f",
   "metadata": {},
   "outputs": [],
   "source": []
  }
 ],
 "metadata": {
  "kernelspec": {
   "display_name": "Python 3 (ipykernel)",
   "language": "python",
   "name": "python3"
  },
  "language_info": {
   "codemirror_mode": {
    "name": "ipython",
    "version": 3
   },
   "file_extension": ".py",
   "mimetype": "text/x-python",
   "name": "python",
   "nbconvert_exporter": "python",
   "pygments_lexer": "ipython3",
   "version": "3.9.7"
  }
 },
 "nbformat": 4,
 "nbformat_minor": 5
}
